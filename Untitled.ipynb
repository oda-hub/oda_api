{
 "cells": [
  {
   "cell_type": "code",
   "execution_count": 1,
   "id": "eae51575-538d-4f72-a2f4-99863662d2a2",
   "metadata": {},
   "outputs": [],
   "source": [
    "from oda_api.api import DispatcherAPI"
   ]
  },
  {
   "cell_type": "code",
   "execution_count": 2,
   "id": "4aa0e76e-65b8-4e36-9772-6505acf78e09",
   "metadata": {},
   "outputs": [],
   "source": [
    "disp = DispatcherAPI(url='http://localhost:8000')"
   ]
  },
  {
   "cell_type": "code",
   "execution_count": 3,
   "id": "b956d4d0-92dd-4d73-bc71-08c2d2b31377",
   "metadata": {},
   "outputs": [
    {
     "data": {
      "text/plain": [
       "[[{'instrumet': 'example'},\n",
       "  {'prod_dict': {'paramout': 'paramout_query'}},\n",
       "  '[{\"query_name\": \"src_query\"}, {\"name\": \"token\", \"units\": \"str\", \"value\": None}]',\n",
       "  '[{\"query_name\": \"instr_query\"}]',\n",
       "  '[{\"query_name\": \"paramout_query\"}, {\"product_name\": \"paramout\"}]']]"
      ]
     },
     "execution_count": 3,
     "metadata": {},
     "output_type": "execute_result"
    }
   ],
   "source": [
    "disp.get_instrument_description('example')"
   ]
  },
  {
   "cell_type": "code",
   "execution_count": 11,
   "id": "fc673174-bd88-489b-9a3c-03d698731cce",
   "metadata": {},
   "outputs": [
    {
     "name": "stderr",
     "output_type": "stream",
     "text": [
      "please beware that by default, in a typical setup, oda_api will not output much. To learn how to increase the verbosity, please refer to the documentation: https://oda-api.readthedocs.io/en/latest/user_guide/ScienceWindowList.html?highlight=logging#Let's-get-some-logging . \n",
      "To disable this message you can pass `.get_product(..., silent=True)`\n"
     ]
    }
   ],
   "source": [
    "prod = disp.get_product(instrument='example',\n",
    "                        product = 'paramout',\n",
    "                        product_type = 'Real')"
   ]
  },
  {
   "cell_type": "code",
   "execution_count": 12,
   "id": "44f7b3a7-ee16-4848-9160-6835a5ccd0ec",
   "metadata": {},
   "outputs": [
    {
     "data": {
      "text/plain": [
       "[{'ID': 0, 'prod_name': 'paramout_0', 'meta_data:': ''},\n",
       " {'ID': 1, 'prod_name': 'paramout_1', 'meta_data:': ''},\n",
       " {'ID': 2, 'prod_name': 'paramout_2', 'meta_data:': ''},\n",
       " {'ID': 3, 'prod_name': 'paramout_3', 'meta_data:': ''},\n",
       " {'ID': 4, 'prod_name': 'paramout_4', 'meta_data:': ''},\n",
       " {'ID': 5, 'prod_name': 'paramout_5', 'meta_data:': ''}]"
      ]
     },
     "execution_count": 12,
     "metadata": {},
     "output_type": "execute_result"
    }
   ],
   "source": [
    "prod.as_list()"
   ]
  },
  {
   "cell_type": "code",
   "execution_count": 9,
   "id": "b1a5f409-e66e-4835-a609-49f61fe3b4ce",
   "metadata": {},
   "outputs": [
    {
     "data": {
      "text/plain": [
       "{'meta_data': {'uri': 'http://odahub.io/ontology#Float'},\n",
       " 'name': 'flout',\n",
       " 'value': 4.2}"
      ]
     },
     "execution_count": 9,
     "metadata": {},
     "output_type": "execute_result"
    }
   ],
   "source": [
    "prod.paramout_0"
   ]
  },
  {
   "cell_type": "code",
   "execution_count": null,
   "id": "69618797",
   "metadata": {},
   "outputs": [],
   "source": []
  }
 ],
 "metadata": {
  "kernelspec": {
   "display_name": "Python 3 (ipykernel)",
   "language": "python",
   "name": "python3"
  },
  "language_info": {
   "codemirror_mode": {
    "name": "ipython",
    "version": 3
   },
   "file_extension": ".py",
   "mimetype": "text/x-python",
   "name": "python",
   "nbconvert_exporter": "python",
   "pygments_lexer": "ipython3",
   "version": "3.10.6"
  }
 },
 "nbformat": 4,
 "nbformat_minor": 5
}
