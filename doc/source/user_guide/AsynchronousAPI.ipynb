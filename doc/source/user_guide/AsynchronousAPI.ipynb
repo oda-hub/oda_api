{
 "cells": [
  {
   "cell_type": "markdown",
   "metadata": {},
   "source": [
    "# Example of asynchronous requests (v > 1.1)\n",
    "- The scope of this example is to show how to request several products together so that internal resource usage is maximized\n",
    "- We extract the spectrum of the Crab in groups of 'nscw' science windows for each year from 'start_year' to 'stop_year' included\n",
    "- We use a token provided by the web interface to receive dedicated emails\n",
    "- We optionally show how to fit the spectra with a broken power law using xspec"
   ]
  },
  {
   "cell_type": "code",
   "execution_count": 1,
   "metadata": {
    "tags": [
     "parameters"
    ]
   },
   "outputs": [],
   "source": [
    "#A few input parameters\n",
    "osa_version=\"OSA10.2\"\n",
    "source_name=\"Crab\"\n",
    "nscw=10\n",
    "start_year=2004\n",
    "end_year=2006\n",
    "systematic_fraction = 0.01\n",
    "token=''"
   ]
  },
  {
   "cell_type": "markdown",
   "metadata": {},
   "source": [
    "# Token authentication\n",
    "\n",
    "- You can provide a valid token as explained in the 'Authentication' example or skip the following cell and continue anonymously"
   ]
  },
  {
   "cell_type": "code",
   "execution_count": null,
   "metadata": {},
   "outputs": [
    {
     "name": "stdout",
     "output_type": "stream",
     "text": [
      "Insert the token········\n"
     ]
    }
   ],
   "source": [
    "# import getpass\n",
    "# token = getpass.getpass('Insert the token')"
   ]
  },
  {
   "cell_type": "code",
   "execution_count": 3,
   "metadata": {},
   "outputs": [
    {
     "data": {
      "text/plain": [
       "{'sub': 'Carlo.Ferrigno@unige.ch',\n",
       " 'email': 'Carlo.Ferrigno@unige.ch',\n",
       " 'name': 'cferrigno',\n",
       " 'roles': 'authenticated user, administrator, content manager, general, integral-private-qla, magic, unige-hpc-full, public-pool-hpc, antares, sdss',\n",
       " 'exp': 1631110932}"
      ]
     },
     "execution_count": 3,
     "metadata": {},
     "output_type": "execute_result"
    }
   ],
   "source": [
    "# To know details of the token\n",
    "import oda_api.token \n",
    "oda_api.token.decode_oda_token(token)"
   ]
  },
  {
   "cell_type": "code",
   "execution_count": 3,
   "metadata": {},
   "outputs": [],
   "source": [
    "#We hardcode a catalog for the Crab\n",
    "api_cat={\n",
    "    \"cat_frame\": \"fk5\", \n",
    "    \"cat_coord_units\": \"deg\", \n",
    "    \"cat_column_list\": [\n",
    "        [0, 7], \n",
    "        [\"1A 0535+262\", \"Crab\"], \n",
    "        [125.4826889038086, 1358.7255859375], \n",
    "        [84.72280883789062, 83.63166809082031], \n",
    "        [26.312734603881836, 22.016284942626953], \n",
    "        [-32768, -32768], \n",
    "        [2, 2], \n",
    "        [0, 0], \n",
    "        [0.0002800000074785203, 0.0002800000074785203]], \n",
    "    \"cat_column_names\": [\n",
    "        \"meta_ID\", \n",
    "        \"src_names\", \n",
    "        \"significance\", \n",
    "        \"ra\", \n",
    "        \"dec\", \n",
    "        \"NEW_SOURCE\", \n",
    "        \"ISGRI_FLAG\", \n",
    "        \"FLAG\", \n",
    "        \"ERR_RAD\"\n",
    "    ], \n",
    "    \"cat_column_descr\": \n",
    "        [\n",
    "            [\"meta_ID\", \"<i8\"], \n",
    "            [\"src_names\", \"<U11\"], \n",
    "            [\"significance\", \"<f8\"], \n",
    "            [\"ra\", \"<f8\"], \n",
    "            [\"dec\", \"<f8\"], \n",
    "            [\"NEW_SOURCE\", \"<i8\"], \n",
    "            [\"ISGRI_FLAG\", \"<i8\"], \n",
    "            [\"FLAG\", \"<i8\"], \n",
    "            [\"ERR_RAD\", \"<f8\"]\n",
    "        ], \n",
    "    \"cat_lat_name\": \"dec\", \n",
    "    \"cat_lon_name\": \"ra\"\n",
    "}\n",
    "\n"
   ]
  },
  {
   "cell_type": "markdown",
   "metadata": {},
   "source": [
    "## Let's get some logging\n",
    "\n",
    "This is to help visualizing the progress.\n",
    "\n",
    "* WARNING is the default level\n",
    "* INFO writes some more information\n",
    "* DEBUG is maily for developers and issue tracking"
   ]
  },
  {
   "cell_type": "code",
   "execution_count": 4,
   "metadata": {},
   "outputs": [],
   "source": [
    "import logging\n",
    "#default\n",
    "#logging.getLogger().setLevel(logging.WARNING)\n",
    "#slightly more verbose\n",
    "logging.getLogger().setLevel(logging.INFO)\n",
    "#all messages\n",
    "#logging.getLogger().setLevel(logging.DEBUG)\n",
    "\n",
    "logging.getLogger('oda_api').addHandler(logging.StreamHandler()) "
   ]
  },
  {
   "cell_type": "markdown",
   "metadata": {},
   "source": [
    "# Different instances of the platform\n",
    "\n",
    "the general user will use the 'production' one, the other one is for internal testing"
   ]
  },
  {
   "cell_type": "code",
   "execution_count": 5,
   "metadata": {
    "scrolled": true
   },
   "outputs": [
    {
     "name": "stderr",
     "output_type": "stream",
     "text": [
      "\n",
      "--------------\n",
      "query_name: src_query\n",
      " name: src_name,  value: test,  units: str, \n",
      " name: RA,  value: 0.0,  units: deg, \n",
      " name: DEC,  value: 0.0,  units: deg, \n",
      " name: T1,  value: 2001-12-11T00:00:00.000,  units: None, \n",
      " name: T2,  value: 2001-12-11T00:00:00.000,  units: None, \n",
      " name: token,  value: None,  units: str, \n",
      "\n",
      "--------------\n",
      "query_name: isgri_parameters\n",
      " name: user_catalog,  value: None,  units: str, \n",
      " name: scw_list,  value: [],  units: names_list, \n",
      " name: selected_catalog,  value: None,  units: str, \n",
      " name: radius,  value: 5.0,  units: deg, \n",
      " name: max_pointings,  value: 50,  units: None, \n",
      " name: osa_version,  value: None,  units: str, \n",
      " name: integral_data_rights,  value: public,  units: str, \n",
      " name: E1_keV,  value: 15.0,  units: keV, \n",
      " name: E2_keV,  value: 40.0,  units: keV, \n",
      "\n",
      "--------------\n",
      "query_name: isgri_image_query\n",
      " product_name: isgri_image\n",
      " name: detection_threshold,  value: 0.0,  units: sigma, \n",
      " name: image_scale_min,  value: None,  units: None, \n",
      " name: image_scale_max,  value: None,  units: None, \n",
      "\n",
      "--------------\n",
      "query_name: isgri_spectrum_query\n",
      " product_name: isgri_spectrum\n",
      "\n",
      "--------------\n",
      "query_name: isgri_lc_query\n",
      " product_name: isgri_lc\n",
      " name: time_bin,  value: 1000.0,  units: sec, \n",
      "\n",
      "--------------\n",
      "query_name: spectral_fit_query\n",
      " product_name: spectral_fit\n",
      " name: xspec_model,  value: powerlaw,  units: str, \n",
      " name: ph_file_name,  value: ,  units: str, \n",
      " name: arf_file_name,  value: ,  units: str, \n",
      " name: rmf_file_name,  value: ,  units: str, \n"
     ]
    }
   ],
   "source": [
    "\n",
    "import numpy as np\n",
    "import json\n",
    "import oda_api.api\n",
    "\n",
    "import oda_api\n",
    "\n",
    "from pkg_resources import parse_version\n",
    "\n",
    "assert parse_version(oda_api.__version__) > parse_version(\"1.1.0\")\n",
    "\n",
    "\n",
    "def dispatcher(_oda_platform='production'):\n",
    "    disp = oda_api.api.DispatcherAPI(\n",
    "        url = {\n",
    "            'staging' : 'http://dispatcher.staging.internal.odahub.io',\n",
    "            'production': 'https://www.astro.unige.ch/mmoda/dispatch-data',\n",
    "        }[_oda_platform]\n",
    "    )\n",
    "    disp.get_instrument_description(\"isgri\")\n",
    "    return disp\n",
    "\n",
    "disp = dispatcher('production')"
   ]
  },
  {
   "cell_type": "markdown",
   "metadata": {},
   "source": [
    "- Here, we collect and spectra for each year in a random sample of nscw=10 science windows\n",
    "- We use the hard-coded catalog.\n",
    "- note that we make a loop and submit the jobs without waiting for their completion\n",
    "- at each loop, we test if they completed and we count how many have finished\n",
    "- we continue to poll the dispatcher for unfinished jobs and we terminate the loop when all are done\n",
    "- In this way, we let the platform optimize our requests\n",
    "- There will be a convenience function in future versions of oda_api for this purpose"
   ]
  },
  {
   "cell_type": "code",
   "execution_count": 6,
   "metadata": {
    "scrolled": true
   },
   "outputs": [
    {
     "name": "stdout",
     "output_type": "stream",
     "text": [
      "2004-01-01T00:00:00.0 - 2004-12-31T23:59:59.0\n"
     ]
    },
    {
     "name": "stderr",
     "output_type": "stream",
     "text": [
      "- waiting for remote response (since 2021-08-31 17:52:30), please wait for https://www.astro.unige.ch/mmoda/dispatch-data/run_analysis\n",
      "session: CHSJDFEI89QXQBX8 job: be2375ee6e04c3ef\n",
      "\n",
      "... query status \u001b[35mprepared\u001b[0m => \u001b[35msubmitted\u001b[0m\n",
      "... assigned job id: \u001b[33mbe2375ee6e04c3ef\u001b[0m\n",
      " | the job is working remotely, please wait status=submitted job_id=be2375ee in 0 messages since 22 seconds (23/23); in 0 SCW so far; nodes (0): 0 computed 0 restored\n",
      "... \u001b[32m\u001b[0m\u001b[0m\n",
      "non-waiting dispatcher: terminating\n",
      "\n",
      "\u001b[33mquery not complete, please poll again later\u001b[0m\n"
     ]
    },
    {
     "name": "stdout",
     "output_type": "stream",
     "text": [
      "Is complete  False\n",
      "2005-01-01T00:00:00.0 - 2005-12-31T23:59:59.0\n"
     ]
    },
    {
     "name": "stderr",
     "output_type": "stream",
     "text": [
      "- waiting for remote response (since 2021-08-31 17:52:53), please wait for https://www.astro.unige.ch/mmoda/dispatch-data/run_analysis\n",
      "session: KITDUODRMMKQLUK9 job: 5ebc852ab66d5917\n",
      "\n",
      "... query status \u001b[35mprepared\u001b[0m => \u001b[35msubmitted\u001b[0m\n",
      "... assigned job id: \u001b[33m5ebc852ab66d5917\u001b[0m\n",
      " | the job is working remotely, please wait status=submitted job_id=5ebc852a in 0 messages since 27 seconds (27/27); in 0 SCW so far; nodes (0): 0 computed 0 restored\n",
      "... \u001b[32m\u001b[0m\u001b[0m\n",
      "non-waiting dispatcher: terminating\n",
      "\n",
      "\u001b[33mquery not complete, please poll again later\u001b[0m\n"
     ]
    },
    {
     "name": "stdout",
     "output_type": "stream",
     "text": [
      "Is complete  False\n",
      "2006-01-01T00:00:00.0 - 2006-12-31T23:59:59.0\n"
     ]
    },
    {
     "name": "stderr",
     "output_type": "stream",
     "text": [
      "- waiting for remote response (since 2021-08-31 17:53:21), please wait for https://www.astro.unige.ch/mmoda/dispatch-data/run_analysis\n",
      "session: LZ9F8KABFTBZEW8Y job: f9db3b072b6ffe3c\n",
      "\n",
      "... query status \u001b[35mprepared\u001b[0m => \u001b[35msubmitted\u001b[0m\n",
      "... assigned job id: \u001b[33mf9db3b072b6ffe3c\u001b[0m\n",
      " | the job is working remotely, please wait status=submitted job_id=f9db3b07 in 0 messages since 6 seconds (6.6/6.6); in 0 SCW so far; nodes (0): 0 computed 0 restored\n",
      "... \u001b[32m\u001b[0m\u001b[0m\n",
      "non-waiting dispatcher: terminating\n",
      "\n",
      "\u001b[33mquery not complete, please poll again later\u001b[0m\n",
      "- waiting for remote response (since 2021-08-31 17:53:28), please wait for https://www.astro.unige.ch/mmoda/dispatch-data/run_analysis\n"
     ]
    },
    {
     "name": "stdout",
     "output_type": "stream",
     "text": [
      "Is complete  False\n",
      "complete 0 / 3\n",
      "not done\n",
      "2004-01-01T00:00:00.0 - 2004-12-31T23:59:59.0\n"
     ]
    },
    {
     "name": "stderr",
     "output_type": "stream",
     "text": [
      "session: CHSJDFEI89QXQBX8 job: be2375ee6e04c3ef\n",
      " / the job is working remotely, please wait status=submitted job_id=be2375ee in 0 messages since 63 seconds (14/23); in 0 SCW so far; nodes (0): 0 computed 0 restored\n",
      "... \u001b[32m\u001b[0m\u001b[0m\n",
      "- waiting for remote response (since 2021-08-31 17:53:33), please wait for https://www.astro.unige.ch/mmoda/dispatch-data/run_analysis\n"
     ]
    },
    {
     "name": "stdout",
     "output_type": "stream",
     "text": [
      "Is complete  False\n",
      "2005-01-01T00:00:00.0 - 2005-12-31T23:59:59.0\n"
     ]
    },
    {
     "name": "stderr",
     "output_type": "stream",
     "text": [
      "session: KITDUODRMMKQLUK9 job: 5ebc852ab66d5917\n",
      " / the job is working remotely, please wait status=submitted job_id=5ebc852a in 0 messages since 45 seconds (17/27); in 0 SCW so far; nodes (0): 0 computed 0 restored\n",
      "... \u001b[32m\u001b[0m\u001b[0m\n",
      "- waiting for remote response (since 2021-08-31 17:53:39), please wait for https://www.astro.unige.ch/mmoda/dispatch-data/run_analysis\n"
     ]
    },
    {
     "name": "stdout",
     "output_type": "stream",
     "text": [
      "Is complete  False\n",
      "2006-01-01T00:00:00.0 - 2006-12-31T23:59:59.0\n"
     ]
    },
    {
     "name": "stderr",
     "output_type": "stream",
     "text": [
      "session: LZ9F8KABFTBZEW8Y job: f9db3b072b6ffe3c\n",
      " / the job is working remotely, please wait status=submitted job_id=f9db3b07 in 0 messages since 23 seconds (6.3/6.6); in 0 SCW so far; nodes (0): 0 computed 0 restored\n",
      "... \u001b[32m\u001b[0m\u001b[0m\n",
      "- waiting for remote response (since 2021-08-31 17:53:45), please wait for https://www.astro.unige.ch/mmoda/dispatch-data/run_analysis\n"
     ]
    },
    {
     "name": "stdout",
     "output_type": "stream",
     "text": [
      "Is complete  False\n",
      "complete 0 / 3\n",
      "not done\n",
      "2004-01-01T00:00:00.0 - 2004-12-31T23:59:59.0\n"
     ]
    },
    {
     "name": "stderr",
     "output_type": "stream",
     "text": [
      "session: CHSJDFEI89QXQBX8 job: be2375ee6e04c3ef\n",
      " - the job is working remotely, please wait status=submitted job_id=be2375ee in 0 messages since 80 seconds (11/23); in 0 SCW so far; nodes (0): 0 computed 0 restored\n",
      "... \u001b[32m\u001b[0m\u001b[0m\n",
      "- waiting for remote response (since 2021-08-31 17:53:50), please wait for https://www.astro.unige.ch/mmoda/dispatch-data/run_analysis\n"
     ]
    },
    {
     "name": "stdout",
     "output_type": "stream",
     "text": [
      "Is complete  False\n",
      "2005-01-01T00:00:00.0 - 2005-12-31T23:59:59.0\n"
     ]
    },
    {
     "name": "stderr",
     "output_type": "stream",
     "text": [
      "session: KITDUODRMMKQLUK9 job: 5ebc852ab66d5917\n",
      " - the job is working remotely, please wait status=submitted job_id=5ebc852a in 0 messages since 62 seconds (13/27); in 0 SCW so far; nodes (0): 0 computed 0 restored\n",
      "... \u001b[32m\u001b[0m\u001b[0m\n",
      "- waiting for remote response (since 2021-08-31 17:53:55), please wait for https://www.astro.unige.ch/mmoda/dispatch-data/run_analysis\n"
     ]
    },
    {
     "name": "stdout",
     "output_type": "stream",
     "text": [
      "Is complete  False\n",
      "2006-01-01T00:00:00.0 - 2006-12-31T23:59:59.0\n"
     ]
    },
    {
     "name": "stderr",
     "output_type": "stream",
     "text": [
      "session: LZ9F8KABFTBZEW8Y job: f9db3b072b6ffe3c\n",
      " - the job is working remotely, please wait status=submitted job_id=f9db3b07 in 0 messages since 56 seconds (12/22); in 0 SCW so far; nodes (0): 0 computed 0 restored\n",
      "... \u001b[32m\u001b[0m\u001b[0m\n",
      "- waiting for remote response (since 2021-08-31 17:54:17), please wait for https://www.astro.unige.ch/mmoda/dispatch-data/run_analysis\n"
     ]
    },
    {
     "name": "stdout",
     "output_type": "stream",
     "text": [
      "Is complete  False\n",
      "complete 0 / 3\n",
      "not done\n",
      "2004-01-01T00:00:00.0 - 2004-12-31T23:59:59.0\n"
     ]
    },
    {
     "name": "stderr",
     "output_type": "stream",
     "text": [
      "session: CHSJDFEI89QXQBX8 job: be2375ee6e04c3ef\n",
      " \\ the job is working remotely, please wait status=submitted job_id=be2375ee in 0 messages since 130 seconds (14/23); in 0 SCW so far; nodes (0): 0 computed 0 restored\n",
      "... \u001b[32m\u001b[0m\u001b[0m\n",
      "- waiting for remote response (since 2021-08-31 17:54:40), please wait for https://www.astro.unige.ch/mmoda/dispatch-data/run_analysis\n"
     ]
    },
    {
     "name": "stdout",
     "output_type": "stream",
     "text": [
      "Is complete  False\n",
      "2005-01-01T00:00:00.0 - 2005-12-31T23:59:59.0\n"
     ]
    },
    {
     "name": "stderr",
     "output_type": "stream",
     "text": [
      "session: KITDUODRMMKQLUK9 job: 5ebc852ab66d5917\n",
      " \\ the job is working remotely, please wait status=submitted job_id=5ebc852a in 0 messages since 113 seconds (11/27); in 0 SCW so far; nodes (0): 0 computed 0 restored\n",
      "... \u001b[32m\u001b[0m\u001b[0m\n",
      "- waiting for remote response (since 2021-08-31 17:54:46), please wait for https://www.astro.unige.ch/mmoda/dispatch-data/run_analysis\n"
     ]
    },
    {
     "name": "stdout",
     "output_type": "stream",
     "text": [
      "Is complete  False\n",
      "2006-01-01T00:00:00.0 - 2006-12-31T23:59:59.0\n"
     ]
    },
    {
     "name": "stderr",
     "output_type": "stream",
     "text": [
      "session: LZ9F8KABFTBZEW8Y job: f9db3b072b6ffe3c\n",
      " \\ the job is working remotely, please wait status=submitted job_id=f9db3b07 in 0 messages since 90 seconds (10/22); in 0 SCW so far; nodes (0): 0 computed 0 restored\n",
      "... \u001b[32m\u001b[0m\u001b[0m\n",
      "- waiting for remote response (since 2021-08-31 17:54:52), please wait for https://www.astro.unige.ch/mmoda/dispatch-data/run_analysis\n"
     ]
    },
    {
     "name": "stdout",
     "output_type": "stream",
     "text": [
      "Is complete  False\n",
      "complete 0 / 3\n",
      "not done\n",
      "2004-01-01T00:00:00.0 - 2004-12-31T23:59:59.0\n"
     ]
    },
    {
     "name": "stderr",
     "output_type": "stream",
     "text": [
      "session: CHSJDFEI89QXQBX8 job: be2375ee6e04c3ef\n",
      " | the job is working remotely, please wait status=submitted job_id=be2375ee in 0 messages since 160 seconds (15/23); in 0 SCW so far; nodes (0): 0 computed 0 restored\n",
      "... \u001b[32m\u001b[0m\u001b[0m\n",
      "- waiting for remote response (since 2021-08-31 17:55:11), please wait for https://www.astro.unige.ch/mmoda/dispatch-data/run_analysis\n"
     ]
    },
    {
     "name": "stdout",
     "output_type": "stream",
     "text": [
      "Is complete  False\n",
      "2005-01-01T00:00:00.0 - 2005-12-31T23:59:59.0\n"
     ]
    },
    {
     "name": "stderr",
     "output_type": "stream",
     "text": [
      "session: KITDUODRMMKQLUK9 job: 5ebc852ab66d5917\n",
      " | the job is working remotely, please wait status=submitted job_id=5ebc852a in 0 messages since 143 seconds (10/27); in 0 SCW so far; nodes (0): 0 computed 0 restored\n",
      "... \u001b[32m\u001b[0m\u001b[0m\n",
      "- waiting for remote response (since 2021-08-31 17:55:16), please wait for https://www.astro.unige.ch/mmoda/dispatch-data/run_analysis\n"
     ]
    },
    {
     "name": "stdout",
     "output_type": "stream",
     "text": [
      "Is complete  False\n",
      "2006-01-01T00:00:00.0 - 2006-12-31T23:59:59.0\n"
     ]
    },
    {
     "name": "stderr",
     "output_type": "stream",
     "text": [
      "session: LZ9F8KABFTBZEW8Y job: f9db3b072b6ffe3c\n",
      " | the job is working remotely, please wait status=submitted job_id=f9db3b07 in 0 messages since 121 seconds (9.2/22); in 0 SCW so far; nodes (0): 0 computed 0 restored\n",
      "... \u001b[32m\u001b[0m\u001b[0m\n",
      "- waiting for remote response (since 2021-08-31 17:55:22), please wait for https://www.astro.unige.ch/mmoda/dispatch-data/run_analysis\n"
     ]
    },
    {
     "name": "stdout",
     "output_type": "stream",
     "text": [
      "Is complete  False\n",
      "complete 0 / 3\n",
      "not done\n",
      "2004-01-01T00:00:00.0 - 2004-12-31T23:59:59.0\n"
     ]
    },
    {
     "name": "stderr",
     "output_type": "stream",
     "text": [
      "session: CHSJDFEI89QXQBX8 job: be2375ee6e04c3ef\n",
      " / the job is working remotely, please wait status=submitted job_id=be2375ee in 0 messages since 177 seconds (13/23); in 0 SCW so far; nodes (0): 0 computed 0 restored\n",
      "... \u001b[32m\u001b[0m\u001b[0m\n",
      "- waiting for remote response (since 2021-08-31 17:55:28), please wait for https://www.astro.unige.ch/mmoda/dispatch-data/run_analysis\n"
     ]
    },
    {
     "name": "stdout",
     "output_type": "stream",
     "text": [
      "Is complete  False\n",
      "2005-01-01T00:00:00.0 - 2005-12-31T23:59:59.0\n"
     ]
    },
    {
     "name": "stderr",
     "output_type": "stream",
     "text": [
      "session: KITDUODRMMKQLUK9 job: 5ebc852ab66d5917\n",
      " / the job is working remotely, please wait status=submitted job_id=5ebc852a in 0 messages since 160 seconds (9.4/27); in 0 SCW so far; nodes (0): 0 computed 0 restored\n",
      "... \u001b[32m\u001b[0m\u001b[0m\n",
      "- waiting for remote response (since 2021-08-31 17:55:34), please wait for https://www.astro.unige.ch/mmoda/dispatch-data/run_analysis\n"
     ]
    },
    {
     "name": "stdout",
     "output_type": "stream",
     "text": [
      "Is complete  False\n",
      "2006-01-01T00:00:00.0 - 2006-12-31T23:59:59.0\n"
     ]
    },
    {
     "name": "stderr",
     "output_type": "stream",
     "text": [
      "session: LZ9F8KABFTBZEW8Y job: f9db3b072b6ffe3c\n",
      " / the job is working remotely, please wait status=submitted job_id=f9db3b07 in 0 messages since 138 seconds (8.6/22); in 0 SCW so far; nodes (0): 0 computed 0 restored\n",
      "... \u001b[32m\u001b[0m\u001b[0m\n",
      "- waiting for remote response (since 2021-08-31 17:55:40), please wait for https://www.astro.unige.ch/mmoda/dispatch-data/run_analysis\n"
     ]
    },
    {
     "name": "stdout",
     "output_type": "stream",
     "text": [
      "Is complete  False\n",
      "complete 0 / 3\n",
      "not done\n",
      "2004-01-01T00:00:00.0 - 2004-12-31T23:59:59.0\n"
     ]
    },
    {
     "name": "stderr",
     "output_type": "stream",
     "text": [
      "session: CHSJDFEI89QXQBX8 job: be2375ee6e04c3ef\n",
      " - the job is working remotely, please wait status=submitted job_id=be2375ee in 0 messages since 195 seconds (12/23); in 0 SCW so far; nodes (0): 0 computed 0 restored\n",
      "... \u001b[32m\u001b[0m\u001b[0m\n",
      "- waiting for remote response (since 2021-08-31 17:55:45), please wait for https://www.astro.unige.ch/mmoda/dispatch-data/run_analysis\n"
     ]
    },
    {
     "name": "stdout",
     "output_type": "stream",
     "text": [
      "Is complete  False\n",
      "2005-01-01T00:00:00.0 - 2005-12-31T23:59:59.0\n"
     ]
    },
    {
     "name": "stderr",
     "output_type": "stream",
     "text": [
      "session: KITDUODRMMKQLUK9 job: 5ebc852ab66d5917\n",
      " - the job is working remotely, please wait status=submitted job_id=5ebc852a in 0 messages since 177 seconds (8.9/27); in 0 SCW so far; nodes (0): 0 computed 0 restored\n",
      "... \u001b[32m\u001b[0m\u001b[0m\n",
      "- waiting for remote response (since 2021-08-31 17:55:51), please wait for https://www.astro.unige.ch/mmoda/dispatch-data/run_analysis\n"
     ]
    },
    {
     "name": "stdout",
     "output_type": "stream",
     "text": [
      "Is complete  False\n",
      "2006-01-01T00:00:00.0 - 2006-12-31T23:59:59.0\n"
     ]
    },
    {
     "name": "stderr",
     "output_type": "stream",
     "text": [
      "session: LZ9F8KABFTBZEW8Y job: f9db3b072b6ffe3c\n",
      " - the job is working remotely, please wait status=submitted job_id=f9db3b07 in 0 messages since 155 seconds (8.1/22); in 0 SCW so far; nodes (0): 0 computed 0 restored\n",
      "... \u001b[32m\u001b[0m\u001b[0m\n",
      "- waiting for remote response (since 2021-08-31 17:55:56), please wait for https://www.astro.unige.ch/mmoda/dispatch-data/run_analysis\n"
     ]
    },
    {
     "name": "stdout",
     "output_type": "stream",
     "text": [
      "Is complete  False\n",
      "complete 0 / 3\n",
      "not done\n",
      "2004-01-01T00:00:00.0 - 2004-12-31T23:59:59.0\n"
     ]
    },
    {
     "name": "stderr",
     "output_type": "stream",
     "text": [
      "session: CHSJDFEI89QXQBX8 job: be2375ee6e04c3ef\n",
      " \\ the job is working remotely, please wait status=submitted job_id=be2375ee in 0 messages since 227 seconds (13/23); in 0 SCW so far; nodes (0): 0 computed 0 restored\n",
      "... \u001b[32m\u001b[0m\u001b[0m\n",
      "- waiting for remote response (since 2021-08-31 17:56:18), please wait for https://www.astro.unige.ch/mmoda/dispatch-data/run_analysis\n"
     ]
    },
    {
     "name": "stdout",
     "output_type": "stream",
     "text": [
      "Is complete  False\n",
      "2005-01-01T00:00:00.0 - 2005-12-31T23:59:59.0\n"
     ]
    },
    {
     "name": "stderr",
     "output_type": "stream",
     "text": [
      "session: KITDUODRMMKQLUK9 job: 5ebc852ab66d5917\n",
      " \\ the job is working remotely, please wait status=submitted job_id=5ebc852a in 0 messages since 210 seconds (8.5/27); in 0 SCW so far; nodes (0): 0 computed 0 restored\n",
      "... \u001b[32m\u001b[0m\u001b[0m\n",
      "- waiting for remote response (since 2021-08-31 17:56:24), please wait for https://www.astro.unige.ch/mmoda/dispatch-data/run_analysis\n"
     ]
    },
    {
     "name": "stdout",
     "output_type": "stream",
     "text": [
      "Is complete  False\n",
      "2006-01-01T00:00:00.0 - 2006-12-31T23:59:59.0\n"
     ]
    },
    {
     "name": "stderr",
     "output_type": "stream",
     "text": [
      "session: LZ9F8KABFTBZEW8Y job: f9db3b072b6ffe3c\n",
      " \\ the job is working remotely, please wait status=submitted job_id=f9db3b07 in 0 messages since 188 seconds (7.9/22); in 0 SCW so far; nodes (0): 0 computed 0 restored\n",
      "... \u001b[32m\u001b[0m\u001b[0m\n",
      "- waiting for remote response (since 2021-08-31 17:56:30), please wait for https://www.astro.unige.ch/mmoda/dispatch-data/run_analysis\n"
     ]
    },
    {
     "name": "stdout",
     "output_type": "stream",
     "text": [
      "Is complete  False\n",
      "complete 0 / 3\n",
      "not done\n",
      "2004-01-01T00:00:00.0 - 2004-12-31T23:59:59.0\n"
     ]
    },
    {
     "name": "stderr",
     "output_type": "stream",
     "text": [
      "session: CHSJDFEI89QXQBX8 job: be2375ee6e04c3ef\n",
      " | the job is working remotely, please wait status=submitted job_id=be2375ee in 0 messages since 246 seconds (13/23); in 0 SCW so far; nodes (0): 0 computed 0 restored\n",
      "... \u001b[32m\u001b[0m\u001b[0m\n",
      "- waiting for remote response (since 2021-08-31 17:56:36), please wait for https://www.astro.unige.ch/mmoda/dispatch-data/run_analysis\n"
     ]
    },
    {
     "name": "stdout",
     "output_type": "stream",
     "text": [
      "Is complete  False\n",
      "2005-01-01T00:00:00.0 - 2005-12-31T23:59:59.0\n"
     ]
    },
    {
     "name": "stderr",
     "output_type": "stream",
     "text": [
      "session: KITDUODRMMKQLUK9 job: 5ebc852ab66d5917\n",
      " | the job is working remotely, please wait status=submitted job_id=5ebc852a in 0 messages since 228 seconds (8.2/27); in 0 SCW so far; nodes (0): 0 computed 0 restored\n",
      "... \u001b[32m\u001b[0m\u001b[0m\n",
      "- waiting for remote response (since 2021-08-31 17:56:42), please wait for https://www.astro.unige.ch/mmoda/dispatch-data/run_analysis\n"
     ]
    },
    {
     "name": "stdout",
     "output_type": "stream",
     "text": [
      "Is complete  False\n",
      "2006-01-01T00:00:00.0 - 2006-12-31T23:59:59.0\n"
     ]
    },
    {
     "name": "stderr",
     "output_type": "stream",
     "text": [
      "session: LZ9F8KABFTBZEW8Y job: f9db3b072b6ffe3c\n",
      " | the job is working remotely, please wait status=submitted job_id=f9db3b07 in 0 messages since 206 seconds (7.7/22); in 0 SCW so far; nodes (0): 0 computed 0 restored\n",
      "... \u001b[32m\u001b[0m\u001b[0m\n",
      "- waiting for remote response (since 2021-08-31 17:56:48), please wait for https://www.astro.unige.ch/mmoda/dispatch-data/run_analysis\n"
     ]
    },
    {
     "name": "stdout",
     "output_type": "stream",
     "text": [
      "Is complete  False\n",
      "complete 0 / 3\n",
      "not done\n",
      "2004-01-01T00:00:00.0 - 2004-12-31T23:59:59.0\n"
     ]
    },
    {
     "name": "stderr",
     "output_type": "stream",
     "text": [
      "session: CHSJDFEI89QXQBX8 job: be2375ee6e04c3ef\n",
      " / the job is working remotely, please wait status=submitted job_id=be2375ee in 0 messages since 263 seconds (12/23); in 0 SCW so far; nodes (0): 0 computed 0 restored\n",
      "... \u001b[32m\u001b[0m\u001b[0m\n",
      "- waiting for remote response (since 2021-08-31 17:56:53), please wait for https://www.astro.unige.ch/mmoda/dispatch-data/run_analysis\n"
     ]
    },
    {
     "name": "stdout",
     "output_type": "stream",
     "text": [
      "Is complete  False\n",
      "2005-01-01T00:00:00.0 - 2005-12-31T23:59:59.0\n"
     ]
    },
    {
     "name": "stderr",
     "output_type": "stream",
     "text": [
      "session: KITDUODRMMKQLUK9 job: 5ebc852ab66d5917\n",
      " / the job is working remotely, please wait status=submitted job_id=5ebc852a in 0 messages since 246 seconds (8/27); in 0 SCW so far; nodes (0): 0 computed 0 restored\n",
      "... \u001b[32m\u001b[0m\u001b[0m\n",
      "- waiting for remote response (since 2021-08-31 17:57:00), please wait for https://www.astro.unige.ch/mmoda/dispatch-data/run_analysis\n"
     ]
    },
    {
     "name": "stdout",
     "output_type": "stream",
     "text": [
      "Is complete  False\n",
      "2006-01-01T00:00:00.0 - 2006-12-31T23:59:59.0\n"
     ]
    },
    {
     "name": "stderr",
     "output_type": "stream",
     "text": [
      "session: LZ9F8KABFTBZEW8Y job: f9db3b072b6ffe3c\n",
      " / the job is working remotely, please wait status=submitted job_id=f9db3b07 in 0 messages since 224 seconds (7.5/22); in 0 SCW so far; nodes (0): 0 computed 0 restored\n",
      "... \u001b[32m\u001b[0m\u001b[0m\n",
      "- waiting for remote response (since 2021-08-31 17:57:06), please wait for https://www.astro.unige.ch/mmoda/dispatch-data/run_analysis\n"
     ]
    },
    {
     "name": "stdout",
     "output_type": "stream",
     "text": [
      "Is complete  False\n",
      "complete 0 / 3\n",
      "not done\n",
      "2004-01-01T00:00:00.0 - 2004-12-31T23:59:59.0\n"
     ]
    },
    {
     "name": "stderr",
     "output_type": "stream",
     "text": [
      "session: CHSJDFEI89QXQBX8 job: be2375ee6e04c3ef\n",
      " - the job is working remotely, please wait status=submitted job_id=be2375ee in 0 messages since 281 seconds (11/23); in 0 SCW so far; nodes (0): 0 computed 0 restored\n",
      "... \u001b[32m\u001b[0m\u001b[0m\n",
      "- waiting for remote response (since 2021-08-31 17:57:11), please wait for https://www.astro.unige.ch/mmoda/dispatch-data/run_analysis\n"
     ]
    },
    {
     "name": "stdout",
     "output_type": "stream",
     "text": [
      "Is complete  False\n",
      "2005-01-01T00:00:00.0 - 2005-12-31T23:59:59.0\n"
     ]
    },
    {
     "name": "stderr",
     "output_type": "stream",
     "text": [
      "session: KITDUODRMMKQLUK9 job: 5ebc852ab66d5917\n",
      " - the job is working remotely, please wait status=submitted job_id=5ebc852a in 0 messages since 262 seconds (7.7/27); in 0 SCW so far; nodes (0): 0 computed 0 restored\n",
      "... \u001b[32m\u001b[0m\u001b[0m\n",
      "- waiting for remote response (since 2021-08-31 17:57:16), please wait for https://www.astro.unige.ch/mmoda/dispatch-data/run_analysis\n"
     ]
    },
    {
     "name": "stdout",
     "output_type": "stream",
     "text": [
      "Is complete  False\n",
      "2006-01-01T00:00:00.0 - 2006-12-31T23:59:59.0\n"
     ]
    },
    {
     "name": "stderr",
     "output_type": "stream",
     "text": [
      "session: LZ9F8KABFTBZEW8Y job: f9db3b072b6ffe3c\n",
      " - the job is working remotely, please wait status=submitted job_id=f9db3b07 in 0 messages since 240 seconds (7.3/22); in 0 SCW so far; nodes (0): 0 computed 0 restored\n",
      "... \u001b[32m\u001b[0m\u001b[0m\n",
      "- waiting for remote response (since 2021-08-31 17:57:22), please wait for https://www.astro.unige.ch/mmoda/dispatch-data/run_analysis\n"
     ]
    },
    {
     "name": "stdout",
     "output_type": "stream",
     "text": [
      "Is complete  False\n",
      "complete 0 / 3\n",
      "not done\n",
      "2004-01-01T00:00:00.0 - 2004-12-31T23:59:59.0\n"
     ]
    },
    {
     "name": "stderr",
     "output_type": "stream",
     "text": [
      "session: CHSJDFEI89QXQBX8 job: be2375ee6e04c3ef\n",
      "\n",
      "... query status \u001b[35msubmitted\u001b[0m => \u001b[35mdone\u001b[0m\n",
      "\u001b[32mquery COMPLETED SUCCESSFULLY (state done)\u001b[0m\n"
     ]
    },
    {
     "name": "stdout",
     "output_type": "stream",
     "text": [
      "Is complete  True\n"
     ]
    },
    {
     "name": "stderr",
     "output_type": "stream",
     "text": [
      "- waiting for remote response (since 2021-08-31 17:57:36), please wait for https://www.astro.unige.ch/mmoda/dispatch-data/run_analysis\n",
      "session: CHSJDFEI89QXQBX8 job: be2375ee6e04c3ef\n",
      "\n",
      "... query status \u001b[35mprepared\u001b[0m => \u001b[35mdone\u001b[0m\n",
      "... assigned job id: \u001b[33mbe2375ee6e04c3ef\u001b[0m\n",
      "\u001b[32mquery COMPLETED SUCCESSFULLY (state done)\u001b[0m\n",
      "non-waiting dispatcher: terminating\n",
      "- waiting for remote response (since 2021-08-31 17:57:51), please wait for https://www.astro.unige.ch/mmoda/dispatch-data/run_analysis\n"
     ]
    },
    {
     "name": "stdout",
     "output_type": "stream",
     "text": [
      "2005-01-01T00:00:00.0 - 2005-12-31T23:59:59.0\n"
     ]
    },
    {
     "name": "stderr",
     "output_type": "stream",
     "text": [
      "session: KITDUODRMMKQLUK9 job: 5ebc852ab66d5917\n",
      "\n",
      "... query status \u001b[35msubmitted\u001b[0m => \u001b[35mdone\u001b[0m\n",
      "\u001b[32mquery COMPLETED SUCCESSFULLY (state done)\u001b[0m\n"
     ]
    },
    {
     "name": "stdout",
     "output_type": "stream",
     "text": [
      "Is complete  True\n"
     ]
    },
    {
     "name": "stderr",
     "output_type": "stream",
     "text": [
      "- waiting for remote response (since 2021-08-31 17:58:06), please wait for https://www.astro.unige.ch/mmoda/dispatch-data/run_analysis\n",
      "session: KITDUODRMMKQLUK9 job: 5ebc852ab66d5917\n",
      "\n",
      "... query status \u001b[35mprepared\u001b[0m => \u001b[35mdone\u001b[0m\n",
      "... assigned job id: \u001b[33m5ebc852ab66d5917\u001b[0m\n",
      "\u001b[32mquery COMPLETED SUCCESSFULLY (state done)\u001b[0m\n",
      "non-waiting dispatcher: terminating\n",
      "- waiting for remote response (since 2021-08-31 17:58:20), please wait for https://www.astro.unige.ch/mmoda/dispatch-data/run_analysis\n"
     ]
    },
    {
     "name": "stdout",
     "output_type": "stream",
     "text": [
      "2006-01-01T00:00:00.0 - 2006-12-31T23:59:59.0\n"
     ]
    },
    {
     "name": "stderr",
     "output_type": "stream",
     "text": [
      "session: LZ9F8KABFTBZEW8Y job: f9db3b072b6ffe3c\n",
      " \\ the job is working remotely, please wait status=submitted job_id=f9db3b07 in 0 messages since 304 seconds (7.2/22); in 0 SCW so far; nodes (0): 0 computed 0 restored\n",
      "... \u001b[32m\u001b[0m\u001b[0m\n",
      "- waiting for remote response (since 2021-08-31 17:58:26), please wait for https://www.astro.unige.ch/mmoda/dispatch-data/run_analysis\n"
     ]
    },
    {
     "name": "stdout",
     "output_type": "stream",
     "text": [
      "Is complete  False\n",
      "complete 2 / 3\n",
      "not done\n",
      "2004-01-01T00:00:00.0 - 2004-12-31T23:59:59.0\n",
      "2005-01-01T00:00:00.0 - 2005-12-31T23:59:59.0\n",
      "2006-01-01T00:00:00.0 - 2006-12-31T23:59:59.0\n"
     ]
    },
    {
     "name": "stderr",
     "output_type": "stream",
     "text": [
      "session: LZ9F8KABFTBZEW8Y job: f9db3b072b6ffe3c\n",
      " | the job is working remotely, please wait status=submitted job_id=f9db3b07 in 0 messages since 327 seconds (8.4/23); in 0 SCW so far; nodes (0): 0 computed 0 restored\n",
      "... \u001b[32m\u001b[0m\u001b[0m\n",
      "- waiting for remote response (since 2021-08-31 17:58:49), please wait for https://www.astro.unige.ch/mmoda/dispatch-data/run_analysis\n"
     ]
    },
    {
     "name": "stdout",
     "output_type": "stream",
     "text": [
      "Is complete  False\n",
      "complete 2 / 3\n",
      "not done\n",
      "2004-01-01T00:00:00.0 - 2004-12-31T23:59:59.0\n",
      "2005-01-01T00:00:00.0 - 2005-12-31T23:59:59.0\n",
      "2006-01-01T00:00:00.0 - 2006-12-31T23:59:59.0\n"
     ]
    },
    {
     "name": "stderr",
     "output_type": "stream",
     "text": [
      "session: LZ9F8KABFTBZEW8Y job: f9db3b072b6ffe3c\n",
      " / the job is working remotely, please wait status=submitted job_id=f9db3b07 in 0 messages since 333 seconds (8.3/23); in 0 SCW so far; nodes (0): 0 computed 0 restored\n",
      "... \u001b[32m\u001b[0m\u001b[0m\n",
      "- waiting for remote response (since 2021-08-31 17:58:55), please wait for https://www.astro.unige.ch/mmoda/dispatch-data/run_analysis\n"
     ]
    },
    {
     "name": "stdout",
     "output_type": "stream",
     "text": [
      "Is complete  False\n",
      "complete 2 / 3\n",
      "not done\n",
      "2004-01-01T00:00:00.0 - 2004-12-31T23:59:59.0\n",
      "2005-01-01T00:00:00.0 - 2005-12-31T23:59:59.0\n",
      "2006-01-01T00:00:00.0 - 2006-12-31T23:59:59.0\n"
     ]
    },
    {
     "name": "stderr",
     "output_type": "stream",
     "text": [
      "session: LZ9F8KABFTBZEW8Y job: f9db3b072b6ffe3c\n",
      " - the job is working remotely, please wait status=submitted job_id=f9db3b07 in 0 messages since 339 seconds (8.1/23); in 0 SCW so far; nodes (0): 0 computed 0 restored\n",
      "... \u001b[32m\u001b[0m\u001b[0m\n",
      "- waiting for remote response (since 2021-08-31 17:59:01), please wait for https://www.astro.unige.ch/mmoda/dispatch-data/run_analysis\n"
     ]
    },
    {
     "name": "stdout",
     "output_type": "stream",
     "text": [
      "Is complete  False\n",
      "complete 2 / 3\n",
      "not done\n",
      "2004-01-01T00:00:00.0 - 2004-12-31T23:59:59.0\n",
      "2005-01-01T00:00:00.0 - 2005-12-31T23:59:59.0\n",
      "2006-01-01T00:00:00.0 - 2006-12-31T23:59:59.0\n"
     ]
    },
    {
     "name": "stderr",
     "output_type": "stream",
     "text": [
      "session: LZ9F8KABFTBZEW8Y job: f9db3b072b6ffe3c\n",
      " \\ the job is working remotely, please wait status=submitted job_id=f9db3b07 in 0 messages since 345 seconds (7.9/23); in 0 SCW so far; nodes (0): 0 computed 0 restored\n",
      "... \u001b[32m\u001b[0m\u001b[0m\n",
      "- waiting for remote response (since 2021-08-31 17:59:06), please wait for https://www.astro.unige.ch/mmoda/dispatch-data/run_analysis\n"
     ]
    },
    {
     "name": "stdout",
     "output_type": "stream",
     "text": [
      "Is complete  False\n",
      "complete 2 / 3\n",
      "not done\n",
      "2004-01-01T00:00:00.0 - 2004-12-31T23:59:59.0\n",
      "2005-01-01T00:00:00.0 - 2005-12-31T23:59:59.0\n",
      "2006-01-01T00:00:00.0 - 2006-12-31T23:59:59.0\n"
     ]
    },
    {
     "name": "stderr",
     "output_type": "stream",
     "text": [
      "session: LZ9F8KABFTBZEW8Y job: f9db3b072b6ffe3c\n",
      "\n",
      "... query status \u001b[35msubmitted\u001b[0m => \u001b[35mdone\u001b[0m\n",
      "\u001b[32mquery COMPLETED SUCCESSFULLY (state done)\u001b[0m\n"
     ]
    },
    {
     "name": "stdout",
     "output_type": "stream",
     "text": [
      "Is complete  True\n"
     ]
    },
    {
     "name": "stderr",
     "output_type": "stream",
     "text": [
      "- waiting for remote response (since 2021-08-31 17:59:21), please wait for https://www.astro.unige.ch/mmoda/dispatch-data/run_analysis\n",
      "session: LZ9F8KABFTBZEW8Y job: f9db3b072b6ffe3c\n",
      "\n",
      "... query status \u001b[35mprepared\u001b[0m => \u001b[35mdone\u001b[0m\n",
      "... assigned job id: \u001b[33mf9db3b072b6ffe3c\u001b[0m\n",
      "\u001b[32mquery COMPLETED SUCCESSFULLY (state done)\u001b[0m\n",
      "non-waiting dispatcher: terminating\n"
     ]
    },
    {
     "name": "stdout",
     "output_type": "stream",
     "text": [
      "complete 3 / 3\n",
      "done!\n"
     ]
    }
   ],
   "source": [
    "spectrum_results=[]\n",
    "\n",
    "disp_by_ys = {}\n",
    "data_by_ys = {}\n",
    "\n",
    "par_dict = {\"RA\": \"83.63166809082031\",\n",
    "            \"DEC\": \"22.016284942626953\",\n",
    "            \"radius\": \"10\",\n",
    "            'instrument':'isgri',\n",
    "          'product': 'isgri_spectrum',\n",
    "          'osa_version' : osa_version,\n",
    "          'product_type': 'Real',\n",
    "            'max_pointings': nscw,\n",
    "          'selected_catalog' : json.dumps(api_cat)}\n",
    "\n",
    "# Should you need to access private data, just add this option\n",
    "#,\"integral_data_rights\": \"all-private\"}\n",
    "\n",
    "if token != '':\n",
    "    par_dict.update({'token': token})\n",
    "\n",
    "while True:\n",
    "    spectrum_results=[]\n",
    "\n",
    "    for year in range(start_year, end_year+1): \n",
    "        T1_utc='%4d-01-01T00:00:00.0'%year\n",
    "        T2_utc='%4d-12-31T23:59:59.0'%year \n",
    "        \n",
    "        print(T1_utc,'-',T2_utc)\n",
    "\n",
    "        par_dict.update({'T1': T1_utc,\n",
    "                        'T2': T2_utc})\n",
    "        \n",
    "        if year >= 2016:\n",
    "            osa_version='OSA11.1'\n",
    "        else:\n",
    "            osa_version='OSA10.2'\n",
    "\n",
    "        #Just renaiming for a general dictionary key\n",
    "        ys = year\n",
    "\n",
    "        # We start one dipatcher for each job,\n",
    "        # they will run in parallel until products are ready\n",
    "        if ys not in disp_by_ys:\n",
    "            disp_by_ys[ys] = oda_api.api.DispatcherAPI(url=disp.url, wait=False) #Note the flag wait=False\n",
    "\n",
    "        _disp = disp_by_ys[ys]\n",
    "\n",
    "        data = data_by_ys.get(ys, None)\n",
    "\n",
    "        if data is None and not _disp.is_failed:\n",
    "            \n",
    "            #We submit or we poll \n",
    "            if not _disp.is_submitted:\n",
    "                data = _disp.get_product(**par_dict)\n",
    "            else:\n",
    "                _disp.poll()\n",
    "\n",
    "            print(\"Is complete \", _disp.is_complete)\n",
    "            # We retrieve data\n",
    "            if not _disp.is_complete:\n",
    "                continue\n",
    "            else:\n",
    "                data = _disp.get_product(**par_dict)\n",
    "                data_by_ys[ys] = data                \n",
    "\n",
    "        spectrum_results.append(data)\n",
    "        \n",
    "    n_complete = len([ year for year, _disp in disp_by_ys.items() if _disp.is_complete ])\n",
    "    print(f\"complete {n_complete} / {len(disp_by_ys)}\")\n",
    "    if n_complete == len(disp_by_ys):\n",
    "        print(\"done!\")\n",
    "        break\n",
    "    print(\"not done\")\n"
   ]
  },
  {
   "cell_type": "markdown",
   "metadata": {},
   "source": [
    "# Elaboration example\n",
    "\n",
    "- This part saves the spectra in fits files and updates some keywords"
   ]
  },
  {
   "cell_type": "code",
   "execution_count": 7,
   "metadata": {},
   "outputs": [
    {
     "name": "stdout",
     "output_type": "stream",
     "text": [
      "2004\n",
      "3 4 5\n",
      "2005\n",
      "3 4 5\n",
      "2006\n",
      "3 4 5\n"
     ]
    }
   ],
   "source": [
    "from astropy.io import fits\n",
    "# This part saves the spectra in fits files and updates some keywords\n",
    "for year, data in data_by_ys.items():\n",
    "    print(year)\n",
    "    for ID,s in enumerate(data._p_list):\n",
    "        if (s.meta_data['src_name']==source_name):\n",
    "            if(s.meta_data['product']=='isgri_spectrum'):\n",
    "                ID_spec=ID\n",
    "            if(s.meta_data['product']=='isgri_arf'):\n",
    "                ID_arf=ID\n",
    "            if(s.meta_data['product']=='isgri_rmf'):\n",
    "                ID_rmf=ID\n",
    "\n",
    "    print(ID_spec, ID_arf, ID_rmf)\n",
    "\n",
    "    spec=data._p_list[ID_spec].data_unit[1].data\n",
    "    arf=data._p_list[ID_arf].data_unit[1].data\n",
    "    rmf=data._p_list[ID_rmf].data_unit[2].data\n",
    "    expos=data._p_list[0].data_unit[1].header['EXPOSURE']\n",
    "    name=source_name+'_'+str(year)\n",
    "    specname=name+'_spectrum.fits'\n",
    "    arfname=name+'_arf.fits.gz'\n",
    "    rmfname=name+'_rmf.fits.gz'\n",
    "    data._p_list[ID_spec].write_fits_file(specname)\n",
    "    data._p_list[ID_arf].write_fits_file(arfname)\n",
    "    data._p_list[ID_rmf].write_fits_file(rmfname)\n",
    "    hdul = fits.open(specname, mode='update')\n",
    "    hdul[1].header.set('EXPOSURE', expos)\n",
    "    hdul[1].header['RESPFILE']=rmfname\n",
    "    hdul[1].header['ANCRFILE']=arfname\n",
    "    hdul[1].data['SYS_ERR']=systematic_fraction\n",
    "\n",
    "    hdul.close()"
   ]
  },
  {
   "cell_type": "markdown",
   "metadata": {},
   "source": [
    "# Elaboration 2\n",
    "- If xspec is available, we make a fit of each spectrum"
   ]
  },
  {
   "cell_type": "code",
   "execution_count": 8,
   "metadata": {},
   "outputs": [
    {
     "name": "stdout",
     "output_type": "stream",
     "text": [
      "Default fit statistic is set to: Chi-Squared\n",
      "   This will apply to all current and newly loaded spectra.\n",
      "7\n",
      " Model systematic error set to 0\n",
      "\n",
      "========================================================================\n",
      "Model cflux<1>*bknpower<2> Source No.: 1   Active/Off\n",
      "Model Model Component  Parameter  Unit     Value\n",
      " par  comp\n",
      "   1    1   cflux      Emin       keV      0.500000     frozen\n",
      "   2    1   cflux      Emax       keV      10.0000      frozen\n",
      "   3    1   cflux      lg10Flux   cgs      -12.0000     +/-  0.0          \n",
      "   4    2   bknpower   PhoIndx1            1.00000      +/-  0.0          \n",
      "   5    2   bknpower   BreakE     keV      5.00000      +/-  0.0          \n",
      "   6    2   bknpower   PhoIndx2            2.00000      +/-  0.0          \n",
      "   7    2   bknpower   norm                1.00000      +/-  0.0          \n",
      "________________________________________________________________________\n",
      "\n",
      "Warning: RMF CHANTYPE keyword (PHA) is not consistent with that from spectrum (PI)\n",
      "\n",
      "1 spectrum  in use\n",
      " \n",
      "Spectral Data File: Crab_2004_spectrum.fits  Spectrum 1\n",
      "Net count rate (cts/s) for Spectrum:1  -nanISGRI ignore: **-20.00,500.-**\n",
      "      +/- -nan     \n",
      " Assigned to Data Group 1 and Plot Group 1\n",
      "  Noticed Channels:  1-62\n",
      "  Telescope: INTEGRAL Instrument: IBIS  Channel Type: PI\n",
      "  Exposure Time: 1.277e+04 sec\n",
      " Using fit statistic: chi\n",
      " Using Response (RMF) File            Crab_2004_rmf.fits.gz for Source 1\n",
      " Using Auxiliary Response (ARF) File  Crab_2004_arf.fits.gz\n",
      "\n",
      "\n",
      "Fit statistic  : Chi-Squared                    -nan     using 62 bins.\n",
      "\n",
      "Test statistic : Chi-Squared                    -nan     using 62 bins.\n",
      " Current data and model not fit yet.\n",
      "\n",
      "ignore:     1 channels ignored from  source number 1\n",
      "Fit statistic  : Chi-Squared                    -nan     using 61 bins.\n",
      "\n",
      "Test statistic : Chi-Squared                    -nan     using 61 bins.\n",
      " Current data and model not fit yet.\n",
      "\n",
      "     2 channels (61-62) ignored in spectrum #     1\n",
      "\n",
      "Fit statistic  : Chi-Squared                    -nan     using 59 bins.\n",
      "\n",
      "Test statistic : Chi-Squared                    -nan     using 59 bins.\n",
      " Current data and model not fit yet.\n",
      "\n",
      "     8 channels (1-8) ignored in spectrum #     1\n",
      "     2 channels (61-62) ignored in spectrum #     1\n",
      "\n",
      "Fit statistic  : Chi-Squared                    -nan     using 52 bins.\n",
      "\n",
      "Test statistic : Chi-Squared                    -nan     using 52 bins.\n",
      " Current data and model not fit yet.\n",
      "\n",
      "\n",
      "Fit statistic  : Chi-Squared                    -nan     using 52 bins.\n",
      "\n",
      "Test statistic : Chi-Squared                    -nan     using 52 bins.\n",
      " Current data and model not fit yet.\n",
      "\n",
      "Fit statistic  : Chi-Squared                    -nan     using 52 bins.\n",
      "\n",
      "Test statistic : Chi-Squared                    -nan     using 52 bins.\n",
      " Current data and model not fit yet.\n",
      "\n",
      "Fit statistic  : Chi-Squared                16610.24     using 52 bins.\n",
      "\n",
      "Test statistic : Chi-Squared                16610.24     using 52 bins.\n",
      " Null hypothesis probability of 0.00e+00 with 47 degrees of freedom\n",
      " Current data and model not fit yet.\n",
      "\n",
      "Fit statistic  : Chi-Squared                16610.24     using 52 bins.\n",
      "\n",
      "Test statistic : Chi-Sqlg10Fluxuared                16610.24     using 52 bins.\n",
      " Null hypothesis probability of 0.00e+00 with 48 degrees of freedom\n",
      " Current data and model not fit yet.\n",
      "\n",
      "Fit statistic  : Chi-Squared                16610.24     using 52 bins.\n",
      "\n",
      "Test statistic : Chi-Squared                16610.24     using 52 bins.\n",
      " Null hypothesis probability of 0.00e+00 with 48 degrees of freedom\n",
      " Current data and model not fit yet.\n",
      "\n",
      "Fit statistic  : Chi-Squared                17625.68     using 52 bins.\n",
      "\n",
      "Test statistic : Chi-Squared                17625.68     using 52 bins.\n",
      " Null hypothesis probability of 0.00e+00 with 48 degrees of freedom\n",
      " Current data and model not fit yet.\n",
      "\n",
      "Fit statistic  : Chi-Squared                16824.81     using 52 bins.\n",
      "\n",
      "Test statistic : Chi-Squared                16824.81     using 52 bins.\n",
      " Null hypothesis probability of 0.00e+00 with 49 degrees of freedom\n",
      " Current data and model not fit yet.\n",
      " Warning: renorm - no variable model to allow  renormalization\n",
      "                                   Parameters\n",
      "Chi-Squared  |beta|/N    Lvl    3:lg10Flux    4:PhoIndx1    6:PhoIndx2\n",
      "1223.69      27995.4      -3      -7.79892       2.09392       2.34579\n",
      "43.6611      11589.6      -4      -7.83234       2.06677       2.31150\n",
      "41.3724      459.142      -5      -7.83389       2.06456       2.31103\n",
      "41.3723      3.36647      -6      -7.83390       2.06455       2.31103\n",
      "========================================\n",
      " Variances and Principal Axes\n",
      "                 3        4        6  \n",
      " 1.1051E-06|  0.9998  -0.0191  -0.0077  \n",
      " 2.3880E-05|  0.0195   0.9980   0.0597  \n",
      " 1.4345E-03| -0.0065   0.0599  -0.9982  \n",
      "----------------------------------------\n",
      "\n",
      "====================================\n",
      "  Covariance Matrix\n",
      "        1           2           3   \n",
      "   1.175e-06  -1.148e-07   9.347e-06\n",
      "  -1.148e-07   2.893e-05  -8.430e-05\n",
      "   9.347e-06  -8.430e-05   1.429e-03\n",
      "------------------------------------\n",
      "\n",
      "========================================================================\n",
      "Model cflux<1>*bknpower<2> Source No.: 1   Active/On\n",
      "Model Model Component  Parameter  Unit     Value\n",
      " par  comp\n",
      "   1    1   cflux      Emin       keV      20.0000      frozen\n",
      "   2    1   cflux      Emax       keV      80.0000      frozen\n",
      "   3    1   cflux      lg10Flux   cgs      -7.83390     +/-  1.08378E-03  \n",
      "   4    2   bknpower   PhoIndx1            2.06455      +/-  5.37847E-03  \n",
      "   5    2   bknpower   BreakE     keV      100.000      frozen\n",
      "   6    2   bknpower   PhoIndx2            2.31103      +/-  3.78077E-02  \n",
      "   7    2   bknpower   norm                1.00000      frozen\n",
      "________________________________________________________________________\n",
      "\n",
      "\n",
      "Fit statistic  : Chi-Squared                   41.37     using 52 bins.\n",
      "\n",
      "Test statistic : Chi-Squared                   41.37     using 52 bins.\n",
      " Null hypothesis probability of 7.72e-01 with 49 degrees of freedom\n",
      "  parameter 5 is already frozen.\n",
      " Warning: renorm - no variable model to allow  renormalization\n",
      "                                   Parameters\n",
      "Chi-Squared  |beta|/N    Lvl    3:lg10Flux    4:PhoIndx1    6:PhoIndx2\n",
      "41.3723      0.0183563    -3      -7.83390       2.06455       2.31103\n",
      "========================================\n",
      " Variances and Principal Axes\n",
      "                 3        4        6  \n",
      " 1.1051E-06|  0.9998  -0.0191  -0.0077  \n",
      " 2.3882E-05|  0.0195   0.9980   0.0597  \n",
      " 1.4346E-03| -0.0065   0.0599  -0.9982  \n",
      "----------------------------------------\n",
      "\n",
      "====================================\n",
      "  Covariance Matrix\n",
      "        1           2           3   \n",
      "   1.175e-06  -1.148e-07   9.347e-06\n",
      "  -1.148e-07   2.893e-05  -8.431e-05\n",
      "   9.347e-06  -8.431e-05   1.429e-03\n",
      "------------------------------------\n",
      "\n",
      "========================================================================\n",
      "Model cflux<1>*bknpower<2> Source No.: 1   Active/On\n",
      "Model Model Component  Parameter  Unit     Value\n",
      " par  comp\n",
      "   1    1   cflux      Emin       keV      20.0000      frozen\n",
      "   2    1   cflux      Emax       keV      80.0000      frozen\n",
      "   3    1   cflux      lg10Flux   cgs      -7. 83390     +/-  1.08381E-03  \n",
      "   4    2   bknpower   PhoIndx1            2.06455      +/-  5.37861E-03  \n",
      "   5    2   bknpower   BreakE     keV      100.000      frozen\n",
      "   6    2   bknpower   PhoIndx2            2.31103      +/-  3.78086E-02  \n",
      "   7    2   bknpower   norm                1.00000      frozen\n",
      "________________________________________________________________________\n",
      "\n",
      "\n",
      "Fit statistic  : Chi-Squared                   41.37     using 52 bins.\n",
      "\n",
      "Test statistic : Chi-Squared                   41.37     using 52 bins.\n",
      " Null hypothesis probability of 7.72e-01 with 49 degrees of freedom\n",
      "*** Parameter 1 is not a variable model parameter and no confidence range will be calculated.\n",
      "*** Parameter 2 is not a variable model parameter and no confidence range will be calculated.\n",
      "*** Parameter 5 is not a variable model parameter and no confidence range will be calculated.\n",
      "*** Parameter 7 is not a variable model parameter and no confidence range will be calculated.\n",
      " Parameter   Confidence Range (-7.83 False False\n",
      "PhoIndx1 2.06 False False\n",
      "PhoIndx2 2.31 False False\n",
      "1)\n",
      "     3     -7.83499     -7.83281    (-0.0010919,0.00108657)\n",
      "     4      2.05918      2.06992    (-0.00536723,0.00537103)\n",
      "     6      2.27383      2.34882    (-0.0372053,0.0377893)\n"
     ]
    },
    {
     "name": "stderr",
     "output_type": "stream",
     "text": [
      "***Warning: POISSERR keyword is missing or of wrong format, assuming FALSE.\n",
      "PGPLOT /png: writing new file as pgplot.png_2\n"
     ]
    },
    {
     "data": {
      "image/png": "[encoded data removed]",
      "text/plain": [
       "<IPython.core.display.Image object>"
      ]
     },
     "metadata": {},
     "output_type": "display_data"
    },
    {
     "name": "stdout",
     "output_type": "stream",
     "text": [
      "\n",
      "========================================================================\n",
      "Model cflux<1>*bknpower<2> Source No.: 1   Active/Off\n",
      "Model Model Component  Parameter  Unit     Value\n",
      " par  comp\n",
      "7\n",
      "   1    1   cflux      Emin       keV      0.500000     frozen\n",
      "   2    1   cflux      Emax       keV      10.0000      frozen\n",
      "   3    1   cflux      lg10Flux   cgs      -12.0000     +/-  0.0          \n",
      "   4    2   bknpower   PhoIndx1            1.00000      +/-  0.0          \n",
      "   5    2   bknpower   BreakE     keV      5.00000      +/-  0.0          \n",
      "   6    2   bknpower   PhoIndx2            2.00000      +/-  0.0          \n",
      "   7    2   bknpower   norm                1.00000      +/-  0.0          \n",
      "________________________________________________________________________\n",
      "\n",
      "Warning: RMF CHANTYPE keyword (PHA) is not consistent with that from spectrum (PI)\n",
      "\n",
      "1 spectrum  in use\n",
      " \n",
      "Spectral Data File: Crab_2005_spectrum.fits  Spectrum 1\n",
      "Net count rate (cts/s) for Spectrum:1  -nan      +/- -nan     \n",
      " Assigned to Data Group 1 and Plot Group 1\n",
      "  Noticed Channels:  1-62\n",
      "  Telescope: INTEGRAL Instrument: IBIS  Channel Type: PI\n",
      "  Exposure Time: 1.879e+04 sec\n",
      " Using fit statistic: chi\n",
      " Using Response (RISGRI ignore: **-20.00,500.-**MF) File            Crab_2005_rmf.fits.gz for Source 1\n",
      " Using Auxiliary Response (ARF) File  Crab_2005_arf.fits.gz\n",
      "\n",
      "\n",
      "Fit statistic  : Chi-Squared                    -nan     using 62 bins.\n",
      "\n",
      "Test statistic : Chi-Squared                    -nan     using 62 bins.\n",
      " Current data and model not fit yet.\n",
      "\n",
      "ignore:     1 channels ignored from  source number 1\n",
      "Fit statistic  : Chi-Squared                    -nan     using 61 bins.\n",
      "\n",
      "Test statistic : Chi-Squared                    -nan     using 61 bins.\n",
      " Current data and model not fit yet.\n",
      "\n",
      "     2 channels (61-62) ignored in spectrum #     1\n",
      "\n",
      "Fit statistic  : Chi-Squared                    -nan     using 59 bins.\n",
      "\n",
      "Test statistic : Chi-Squared                    -nan     using 59 bins.\n",
      " Current data and model not fit yet.\n",
      "\n",
      "\n"
     ]
    },
    {
     "name": "stderr",
     "output_type": "stream",
     "text": [
      "***Warning: POISSERR keyword is missing or of wrong format, assuming FALSE.\n"
     ]
    },
    {
     "name": "stdout",
     "output_type": "stream",
     "text": [
      "     8 channels (1-8) ignored in spectrum #     1\n",
      "     2 channels (61-62) ignored in spectrum #     1\n",
      "\n",
      "Fit statistic  : Chi-Squared                    -nan     using 52 bins.\n",
      "\n",
      "Test statistic : Chi-Squared                    -nan     using 52 bins.\n",
      " Current data and model not fit yet.\n",
      "\n",
      "\n",
      "Fit statistic  : Chi-Squared                    -nan     using 52 bins.\n",
      "\n",
      "Test statistic : Chi-Squared                    -nan     using 52 bins.\n",
      " Current data and model not fit yet.\n",
      "\n",
      "Fit statistic  : Chi-Squared                    -nan     using 52 bins.\n",
      "\n",
      "Test statistic : Chi-Squared                    -nan     using 52 bins.\n",
      " Current data and model not fit yet.\n",
      "\n",
      "Fit statistic  : Chi-Squared                19542.13     using 52 bins.\n",
      "\n",
      "Test statistic : Chi-Squared                19542.13     using 52 bins.\n",
      " Null hypothesis probability of 0.00e+00 with 47 degrees of freedom\n",
      " Current data and model not fit yet.\n",
      "\n",
      "Fit statistic  : Chi-Squared                19542.13     using 52 bins.\n",
      "\n",
      "Test statistic : Chi-Sqlg10Flux -7.82 False False\n",
      "PhoIndx1 2.19 False False\n",
      "PhoIndx2 2.47 False False\n",
      "uared                19542.13     using 52 bins.\n",
      " Null hypothesis probability of 0.00e+00 with 48 degrees of freedom\n",
      " Current data and model not fit yet.\n",
      "\n",
      "Fit statistic  : Chi-Squared                19542.13     using 52 bins.\n",
      "\n",
      "Test statistic : Chi-Squared                19542.13     using 52 bins.\n",
      " Null hypothesis probability of 0.00e+00 with 48 degrees of freedom\n",
      " Current data and model not fit yet.\n",
      "\n",
      "Fit statistic  : Chi-Squared                20464.06     using 52 bins.\n",
      "\n",
      "Test statistic : Chi-Squared                20464.06     using 52 bins.\n",
      " Null hypothesis probability of 0.00e+00 with 48 degrees of freedom\n",
      " Current data and model not fit yet.\n",
      "\n",
      "Fit statistic  : Chi-Squared                19707.72     using 52 bins.\n",
      "\n",
      "Test statistic : Chi-Squared                19707.72     using 52 bins.\n",
      " Null hypothesis probability of 0.00e+00 with 49 degrees of freedom\n",
      " Current data and model not fit yet.\n",
      " Warning: renorm - no variable model to allow  renormalization\n",
      "                                   Parameters\n",
      "Chi-Squared  |beta|/N    Lvl    3:lg10Flux    4:PhoIndx1    6:PhoIndx2\n",
      "2262.53      29389.4      -3      -7.77822       2.28458       2.48308\n",
      "237.783      14465.1      -4      -7.81808       2.19880       2.46927\n",
      "231.336      673.729      -5      -7.82039       2.19156       2.47344\n",
      "231.336      5.96194      -6      -7.82041       2.19156       2.47344\n",
      "========================================\n",
      " Variances and Principal Axes\n",
      "                 3        4        6  \n",
      " 1.0358E-06|  0.9990  -0.0435  -0.0093  \n",
      " 2.1151E-05| -0.0440  -0.9969  -0.0657  \n",
      " 1.1917E-03|  0.0064  -0.0660   0.9978  \n",
      "----------------------------------------\n",
      "\n",
      "====================================\n",
      "  Covariance Matrix\n",
      "        1           2           3   \n",
      "   1.124e-06   3.785e-07   7.668e-06\n",
      "   3.785e-07   2.621e-05  -7.709e-05\n",
      "   7.668e-06  -7.709e-05   1.187e-03\n",
      "------------------------------------\n",
      "\n",
      "========================================================================\n",
      "Model cflux<1>*bknpower<2> Source No.: 1   Active/On\n",
      "Model Model Component  Parameter  Unit     Value\n",
      " par  comp\n",
      "   1    1   cflux      Emin       keV      20.0000      frozen\n",
      "   2    1   cflux      Emax       keV      80.0000      frozen\n",
      "   3    1   cflux      lg10Flux   cgs      -7.82041     +/-  1.05997E-03  \n",
      "   4    2   bknpower   PhoIndx1            2.19156      +/-  5.11975E-03  \n",
      "   5    2   bknpower   BreakE     keV      100.000      frozen\n",
      "   6    2   bknpower   PhoIndx2            2.47344      +/-  3.44470E-02  \n",
      "   7    2   bknpower   norm                1.00000      frozen\n",
      "________________________________________________________________________\n",
      "\n",
      "\n",
      "Fit statistic  : Chi-Squared                  231.34     using 52 bins.\n",
      "\n",
      "Test statistic : Chi-Squared                  231.34     using 52 bins.\n",
      " Null hypothesis probability of 1.77e-25 with 49 degrees of freedom\n",
      "  parameter 5 is already frozen.\n",
      " Warning: renorm - no variable model to allow  renormalization\n",
      "                                   Parameters\n",
      "Chi-Squared  |beta"
     ]
    },
    {
     "name": "stderr",
     "output_type": "stream",
     "text": [
      "PGPLOT /png: writing new file as pgplot.png_2\n"
     ]
    },
    {
     "data": {
      "image/png": "[encoded data removed]",
      "text/plain": [
       "<IPython.core.display.Image object>"
      ]
     },
     "metadata": {},
     "output_type": "display_data"
    },
    {
     "name": "stderr",
     "output_type": "stream",
     "text": [
      "***Warning: POISSERR keyword is missing or of wrong format, assuming FALSE.\n"
     ]
    },
    {
     "name": "stdout",
     "output_type": "stream",
     "text": [
      "|/N    Lvl    3:lg10Flux    4:PhoIndx1    6:PhoIndx2\n",
      "231.336      0.032211     -3      -7.82041       2.19156       2.47344\n",
      "========================================\n",
      " Variances and Principal Axes\n",
      "                 3        4        6  \n",
      " 1.0359E-06|  0.9990  -0.0435  -0.0093  \n",
      " 2.1153E-05| -0.0440  -0.9969  -0.0657  \n",
      " 1.1918E-03|  0.0064  -0.0660   0.9978  \n",
      "----------------------------------------\n",
      "\n",
      "====================================\n",
      "  Covariance Matrix\n",
      "        1           2           3   \n",
      "   1.124e-06   3.785e-07   7.669e-06\n",
      "   3.785e-07   2.621e-05  -7.710e-05\n",
      "   7.669e-06  -7.710e-05   1.187e-03\n",
      "------------------------------------\n",
      "\n",
      "========================================================================\n",
      "Model cflux<1>*bknpower<2> Source No.: 1   Active/On\n",
      "Model Model Component  Parameter  Unit     Value\n",
      " par  comp\n",
      "   1    1   cflux      Emin       keV      20.0000      frozen\n",
      "   2    1   cflux      Emax       keV      80.0000      frozen\n",
      "   3    1   cflux      lg10Flux   cgs      -7.82041     +/-  1.06002E-03  \n",
      "   4    2   bknpower   PhoIndx1            2.19156      +/-  5.11997E-03  \n",
      "   5    2   bknpower   BreakE     keV      100.000      frozen\n",
      "   6    2   bknpower   PhoIndx2            2.47344      +/-  3.44484E-02  \n",
      "   7    2   bknpower   norm                1.00000      frozen\n",
      "________________________________________________________________________\n",
      "\n",
      "\n",
      "Fit statistic  : Chi-Squared                  231.34     using 52 bins.\n",
      "\n",
      "Test statistic : Chi-Squared                  231.34     using 52 bins.\n",
      " Null hypothesis probability of 1.77e-25 with 49 degrees of freedom\n",
      "*** Parameter 1 is not a variable model parameter and no confidence range will be calculated.\n",
      "*** Parameter 2 is not a variable model parameter and no confidence range will be calculated.\n",
      "*** Parameter 5 is not a variable model parameter and no confidence range will be calculated.\n",
      "*** Parameter 7 is not a variable model parameter and no confidence range will be calculated.\n",
      " Parameter   Confidence Range (1)\n",
      "     3     -7.82148     -7.81935    (-0.00106875,0.00106364)\n",
      "     4      2.18645      2.19668    (-0.00511457,0.00511685)\n",
      "     6      2.43891      2.50843    (-0.0345338,0.034985)\n",
      "7\n",
      "ISGRI ignore: **-20.00,500.-**\n",
      "\n",
      "========================================================================\n",
      "Model cflux<1>*bknpower<2> Source No.: 1   Active/Off\n",
      "lg10Flux Model Model Component  Parameter  Unit     Value\n",
      " par  comp\n",
      "   1    1   cflux      Emin       keV      0.500000     frozen\n",
      "   2    1   cflux      Emax       keV      10.0000      frozen\n",
      "   3    1   cflux      lg10Flux   cgs      -12.0000     +/-  0.0          \n",
      "   4    2   bknpower   PhoIndx1            1.00000      +/-  0.0          \n",
      "   5    2   bknpower   BreakE     keV      5.00000      +/-  0.0          \n",
      "   6    2   bknpower   PhoIndx2            2.00000      +/-  0.0          \n",
      "   7    2   bknpower   norm                1.00000      +/-  0.0          \n",
      "________________________________________________________________________\n",
      "\n",
      "Warning: RMF CHANTYPE keyword (PHA) is not consistent with that from spectrum (PI)\n",
      "\n",
      "1 spectrum  in use\n",
      " \n",
      "Spectral Data File: Crab_2006_spectrum.fits  Spectrum 1\n",
      "Net count rate (cts/s) for Spectrum:1  -nan      +/- -nan     \n",
      " Assigned to Data Group 1 and Plot Group 1\n",
      "  Noticed Channels:  1-62\n",
      "  Telescope: INTEGRAL Instrument: IBIS  Channel Type: PI\n",
      "  Exposure Time-7.83 False False\n",
      "PhoIndx1 2.08 False False\n",
      "PhoIndx2 2.26 False : 1.455e+04 sec\n",
      " Using fit statistic: chi\n",
      " Using Response (RMF) File            Crab_2006_rmf.fits.gz for Source 1\n",
      " Using Auxiliary Response (ARF) File  Crab_2006_arf.fits.gz\n",
      "\n",
      "\n",
      "Fit statistic  : Chi-Squared                    -nan     using 62 bins.\n",
      "\n",
      "Test statistic : Chi-Squared                    -nan     using 62 bins.\n",
      " Current data and model not fit yet.\n",
      "\n",
      "ignore:     1 channels ignored from  source number 1\n",
      "Fit statistic  : Chi-Squared                    -nan     using 61 bins.\n",
      "\n",
      "Test statistic : Chi-Squared                    -nan     using 61 bins.\n",
      " Current data and model not fit yet.\n",
      "\n",
      "     2 channels (61-62) ignored in spectrum #     1\n",
      "\n",
      "Fit statistic  : Chi-Squared                    -nan     using 59 bins.\n",
      "\n",
      "Test statistic : Chi-Squared                    -nan     using 59 bins.\n",
      " Current data and model not fit yet.\n",
      "\n",
      "     8 channels (1-8) ignored in spectrum #     1\n",
      "     2 channels (61-62) ignored in spectrum #     1\n",
      "\n",
      "Fit statistic  : Chi-Squared                    -nan     using 52False\n",
      " bins.\n",
      "\n",
      "Test statistic : Chi-Squared                    -nan     using 52 bins.\n",
      " Current data and model not fit yet.\n",
      "\n",
      "\n",
      "Fit statistic  : Chi-Squared                    -nan     using 52 bins.\n",
      "\n",
      "Test statistic : Chi-Squared                    -nan     using 52 bins.\n",
      " Current data and model not fit yet.\n",
      "\n",
      "Fit statistic  : Chi-Squared                    -nan     using 52 bins.\n",
      "\n",
      "Test statistic : Chi-Squared                    -nan     using 52 bins.\n",
      " Current data and model not fit yet.\n",
      "\n",
      "Fit statistic  : Chi-Squared                17003.74     using 52 bins.\n",
      "\n",
      "Test statistic : Chi-Squared                17003.74     using 52 bins.\n",
      " Null hypothesis probability of 0.00e+00 with 47 degrees of freedom\n",
      " Current data and model not fit yet.\n",
      "\n",
      "Fit statistic  : Chi-Squared                17003.74     using 52 bins.\n",
      "\n",
      "Test statistic : Chi-Squared                17003.74     using 52 bins.\n",
      " Null hypothesis probability of 0.00e+00 with 48 degrees of freedom\n",
      " Current data and model not fit yet.\n",
      "\n",
      "Fit statistic  : Chi-Squared                17003.74     using 52 bins.\n",
      "\n",
      "Test statistic : Chi-Squared                17003.74     using 52 bins.\n",
      " Null hypothesis probability of 0.00e+00 with 48 degrees of freedom\n",
      " Current data and model not fit yet.\n",
      "\n",
      "Fit statistic  : Chi-Squared                18020.00     using 52 bins.\n",
      "\n",
      "Test statistic : Chi-Squared                18020.00     using 52 bins.\n",
      " Null hypothesis probability of 0.00e+00 with 48 degrees of freedom\n",
      " Current data and model not fit yet.\n",
      "\n",
      "Fit statistic  : Chi-Squared                17244.66     using 52 bins.\n",
      "\n",
      "Test statistic : Chi-Squared                17244.66     using 52 bins.\n",
      " Null hypothesis probability of 0.00e+00 with 49 degrees of freedom\n",
      " Current data and model not fit yet.\n",
      " Warning: renorm - no variable model to allow  renormalization\n",
      "                                   Parameters\n",
      "Chi-Squared  |beta|/N    Lvl    3:lg10Flux    4:PhoIndx1    6:PhoIndx2\n",
      "1260.99      28621.1      -3      -7.79884       2.11203       2.26811\n",
      "32.4047   "
     ]
    },
    {
     "name": "stderr",
     "output_type": "stream",
     "text": [
      "PGPLOT /png: writing new file as pgplot.png_2\n"
     ]
    },
    {
     "data": {
      "image/png": "[encoded data removed]",
      "text/plain": [
       "<IPython.core.display.Image object>"
      ]
     },
     "metadata": {},
     "output_type": "display_data"
    },
    {
     "name": "stdout",
     "output_type": "stream",
     "text": [
      "   11903.5      -4      -7.83229       2.07958       2.25587\n",
      "29.9577      473.3        -5      -7.83386       2.07700       2.25598\n",
      "29.9576      3.49072      -6      -7.83387       2.07699       2.25598\n",
      "========================================\n",
      " Variances and Principal Axes\n",
      "                 3        4        6  \n",
      " 1.0804E-06|  0.9998  -0.0198  -0.0083  \n",
      " 2.2834E-05|  0.0202   0.9978   0.0633  \n",
      " 1.3097E-03| -0.0070   0.0635  -0.9980  \n",
      "----------------------------------------\n",
      "\n",
      "====================================\n",
      "  Covariance Matrix\n",
      "        1           2           3   \n",
      "   1.154e-06  -1.446e-07   9.210e-06\n",
      "  -1.446e-07   2.801e-05  -8.153e-05\n",
      "   9.210e-06  -8.153e-05   1.304e-03\n",
      "------------------------------------\n",
      "\n",
      "========================================================================\n",
      "Model cflux<1>*bknpower<2> Source No.: 1   Active/On\n",
      "Model Model Component  Parameter  Unit     Value\n",
      " par  comp\n",
      "   1    1   cflux      Emin       keV      20.0000      frozen\n",
      "   2    1   cflux      Emax       keV      80.0000      frozen\n",
      "   3    1   cflux      lg10Flux   cgs      -7.83387     +/-  1.07426E-03  \n",
      "   4    2   bknpower   PhoIndx1            2.07699      +/-  5.29259E-03  \n",
      "   5    2   bknpower   BreakE     keV      100.000      frozen\n",
      "   6    2   bknpower   PhoIndx2            2.25598      +/-  3.61174E-02  \n",
      "   7    2   bknpower   norm                1.00000      frozen\n",
      "________________________________________________________________________\n",
      "\n",
      "\n",
      "Fit statistic  : Chi-Squared                   29.96     using 52 bins.\n",
      "\n",
      "Test statistic : Chi-Squared                   29.96     using 52 bins.\n",
      " Null hypothesis probability of 9.85e-01 with 49 degrees of freedom\n",
      "  parameter 5 is already frozen.\n",
      " Warning: renorm - no variable model to allow  renormalization\n",
      "                                   Parameters\n",
      "Chi-Squared  |beta|/N    Lvl    3:lg10Flux    4:PhoIndx1    6:PhoIndx2\n",
      "29.9576      0.0191331    -3      -7.83387       2.07699       2.25598\n",
      "========================================\n",
      " Variances and Principal Axes\n",
      "                 3        4        6  \n",
      " 1.0805E-06|  0.9998  -0.0198  -0.0083  \n",
      " 2.2835E-05|  0.0202   0.9978   0.0633  \n",
      " 1.3098E-03| -0.0070   0.0635  -0.9980  \n",
      "----------------------------------------\n",
      "\n",
      "====================================\n",
      "  Covariance Matrix\n",
      "        1           2           3   \n",
      "   1.154e-06  -1.446e-07   9.210e-06\n",
      "  -1.446e-07   2.801e-05  -8.153e-05\n",
      "   9.210e-06  -8.153e-05   1.305e-03\n",
      "------------------------------------\n",
      "\n",
      "========================================================================\n",
      "Model cflux<1>*bknpower<2> Source No.: 1   Active/On\n",
      "Model Model Component  Parameter  Unit     Value\n",
      " par  comp\n",
      "   1    1   cflux      Emin       keV      20.0000      frozen\n",
      "   2    1   cflux      Emax       keV      80.0000      frozen\n",
      "   3    1   cflux      lg10Flux   cgs      -7.83387     +/-  1.07429E-03  \n",
      "   4    2   bknpower   PhoIndx1            2.07699      +/-  5.29272E-03  \n",
      "   5    2   bknpower   BreakE     keV      100.000      frozen\n",
      "   6    2   bknpower   PhoIndx2            2.25598      +/-  3.61181E-02  \n",
      "   7    2   bknpower   norm                1.00000      frozen\n",
      "________________________________________________________________________\n",
      "\n",
      "\n",
      "Fit statistic  : Chi-Squared                   29.96     using 52 bins.\n",
      "\n",
      "Test statistic : Chi-Squared                   29.96     using 52 bins.\n",
      " Null hypothesis probability of 9.85e-01 with 49 degrees of freedom\n",
      "*** Parameter 1 is not a variable model parameter and no confidence range will be calculated.\n",
      "*** Parameter 2 is not a variable model parameter and no confidence range will be calculated.\n",
      "*** Parameter 5 is not a variable model parameter and no confidence range will be calculated.\n",
      "*** Parameter 7 is not a variable model parameter and no confidence range will be calculated.\n",
      " Parameter   Confidence Range (1)\n",
      "     3     -7.83496      -7.8328    (-0.00108288,0.00107766)\n",
      "     4       2.0717      2.08229    (-0.00529128,0.00529666)\n",
      "     6      2.22004      2.29245    (-0.0359406,0.0364654)\n"
     ]
    }
   ],
   "source": [
    "try:\n",
    "\n",
    "    import xspec\n",
    "    import shutil\n",
    "    from IPython.display import Image\n",
    "    from IPython.display import display \n",
    "\n",
    "    xspec.Fit.statMethod = \"chi\"\n",
    "\n",
    "    #init dictionaries\n",
    "    fit_by_lt={}\n",
    "\n",
    "    model='cflux*bknpow'\n",
    "\n",
    "    xspec.AllModels.systematic=0.0\n",
    "    low_energies=[20]\n",
    "    freeze_pow_ebreak=1\n",
    "\n",
    "    for year in range(start_year,end_year+1):\n",
    "\n",
    "        for c_emin in low_energies: #np.linspace(17,40,5):    \n",
    "            xspec.AllData.clear()\n",
    "\n",
    "            m1=xspec.Model(model)\n",
    "\n",
    "            specname=source_name+'_'+str(year)+'_spectrum.fits'\n",
    "\n",
    "            xspec.AllData(specname)\n",
    "\n",
    "            s = xspec.AllData(1)\n",
    "\n",
    "            isgri = xspec.AllModels(1)\n",
    "\n",
    "            print(m1.nParameters)\n",
    "\n",
    "            xspec.AllData.ignore('bad')\n",
    "            xspec.AllData.ignore('500.0-**')\n",
    "\n",
    "            ig=\"**-%.2f,500.-**\"%c_emin\n",
    "            print(\"ISGRI ignore: \"+ ig)\n",
    "            s.ignore(ig)\n",
    "\n",
    "            #Key for output\n",
    "            lt_key='%d_%.10lg'%(year, c_emin)\n",
    "\n",
    "            isgri.cflux.lg10Flux=-8            \n",
    "\n",
    "            isgri.cflux.Emin=20.\n",
    "            isgri.cflux.Emax=80.\n",
    "\n",
    "            isgri.bknpower.norm = \"1,-1\"\n",
    "            isgri.bknpower.PhoIndx1 = \"2.0,.01,1.,1.,3.,3.\"\n",
    "            isgri.bknpower.PhoIndx2 = \"2.2,.01,1.,1.,3.,3.\"\n",
    "            isgri.bknpower.BreakE = \"100,-1,20,20,300,300\"\n",
    "\n",
    "            xspec.Fit.perform()\n",
    "            isgri.bknpower.BreakE.frozen = freeze_pow_ebreak  > 0\n",
    "\n",
    "            xspec.Fit.perform()\n",
    "\n",
    "            max_chi=np.ceil(xspec.Fit.statistic / xspec.Fit.dof)\n",
    "\n",
    "            xspec.Fit.error(\"1.0 max %.1f 1-%d\"%(max_chi,m1.nParameters))\n",
    "\n",
    "\n",
    "            fit_by_lt[lt_key]=dict(\n",
    "                    emin=c_emin,\n",
    "                    year=year,\n",
    "                    chi2_red=xspec.Fit.statistic/xspec.Fit.dof,                                \n",
    "                    chi2=xspec.Fit.statistic,\n",
    "                    ndof=xspec.Fit.dof,                                    \n",
    "                )\n",
    "\n",
    "            for i in range(1,m1.nParameters+1): \n",
    "                if (not isgri(i).frozen) and (not bool(isgri(i).link)):\n",
    "                    #use the name plus position because there could be parameters with same name from multiple \n",
    "                    #model components (e.g., several gaussians)\n",
    "                    print(isgri(i).name, \"%.2f\"%(isgri(i).values[0]), isgri(i).frozen,bool(isgri(i).link) )\n",
    "                    fit_by_lt[lt_key][isgri(i).name+\"_%02d\"%(i)]=[ isgri(i).values[0], isgri(i).error[0], isgri(i).error[1] ]\n",
    "\n",
    "\n",
    "\n",
    "            xspec.Plot.device=\"/png\"\n",
    "            #xspec.Plot.addCommand(\"setplot en\")\n",
    "            xspec.Plot.xAxis=\"keV\"\n",
    "            xspec.Plot(\"ldata del\")\n",
    "            xspec.Plot.device=\"/png\"\n",
    "\n",
    "            fn=\"fit_%s.png\"%lt_key\n",
    "            fit_by_lt[lt_key]['plot_fname'] = fn\n",
    "\n",
    "            shutil.move(\"pgplot.png_2\", fn)\n",
    "\n",
    "            _=display(Image(filename=fn,format=\"png\"))\n",
    "\n",
    "except ImportError:\n",
    "    print(\"no problem!\")"
   ]
  }
 ],
 "metadata": {
  "celltoolbar": "Tags",
  "kernelspec": {
   "display_name": "Python 3 (ipykernel)",
   "language": "python",
   "name": "python3"
  },
  "language_info": {
   "codemirror_mode": {
    "name": "ipython",
    "version": 3
   },
   "file_extension": ".py",
   "mimetype": "text/x-python",
   "name": "python",
   "nbconvert_exporter": "python",
   "pygments_lexer": "ipython3",
   "version": "3.8.10"
  }
 },
 "nbformat": 4,
 "nbformat_minor": 2
}
