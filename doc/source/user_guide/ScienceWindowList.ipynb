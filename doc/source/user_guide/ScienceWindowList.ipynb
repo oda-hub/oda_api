{
 "cells": [
  {
   "cell_type": "markdown",
   "id": "6097307c",
   "metadata": {},
   "source": [
    "# In this example we select a list of science window and submit it to ODA to obtain an image"
   ]
  },
  {
   "cell_type": "code",
   "execution_count": 1,
   "id": "dfc5c155",
   "metadata": {},
   "outputs": [],
   "source": [
    "# with no surprise, we do it for the Crab\n",
    "source_name='Crab'"
   ]
  },
  {
   "cell_type": "markdown",
   "id": "4468a42c",
   "metadata": {},
   "source": [
    "## Astroquery can be used to retrieve the list\n",
    "\n",
    "We build a convenience function.\n",
    "\n",
    "For the scope of this socumentation, we make sure the `astroquery` library version, is within a specific version range. For newer (or older) version, please consult the offical documentation."
   ]
  },
  {
   "cell_type": "code",
   "execution_count": 2,
   "id": "a016c3e3",
   "metadata": {},
   "outputs": [],
   "source": [
    "#Example of functions to select a science window list\n",
    "import time\n",
    "\n",
    "import astroquery.heasarc\n",
    "from astropy.coordinates import SkyCoord\n",
    "from astropy import units as u\n",
    "\n",
    "Heasarc = astroquery.heasarc.Heasarc()\n",
    "\n",
    "\n",
    "def get_scw_list(ra_obj, dec_obj,radius,start_date,end_date ):\n",
    "    R = Heasarc.query_region(\n",
    "            position = SkyCoord(ra_obj, dec_obj, unit='deg'),\n",
    "            radius = f\"{radius} deg\",\n",
    "            mission = 'intscw',\n",
    "            time = start_date + \" .. \" + end_date,\n",
    "            good_isgri = \">1000\",\n",
    "        )\n",
    "    R.sort('SCW_ID')\n",
    "\n",
    "    return R['SCW_ID'], R['SCW_VER']\n",
    "\n",
    "\n",
    "assert astroquery.__version__ >= '0.4.2.dev6611' and astroquery.__version__ <= '0.4.7'\n",
    "\n",
    "# it means it's our fork\n",
    "assert 'isdc' in astroquery.heasarc.Conf.server.cfgtype"
   ]
  },
  {
   "cell_type": "code",
   "execution_count": 3,
   "id": "cc0b1d77",
   "metadata": {},
   "outputs": [],
   "source": [
    "from astroquery.simbad import Simbad\n",
    "from astropy import coordinates as coord\n",
    "\n",
    "import json\n",
    "\n",
    "import os\n",
    "import shutil\n",
    "import random\n",
    "\n",
    "from astropy.io import fits\n",
    "\n",
    "from scipy import stats\n",
    "result_table = Simbad.query_object(source_name)\n",
    "source_coord = coord.SkyCoord(result_table['RA'][0], result_table['DEC'][0], unit=(\"hourangle\", \"deg\"))\n",
    "ra=source_coord.ra.deg\n",
    "dec=source_coord.dec.deg\n",
    "radius=8."
   ]
  },
  {
   "cell_type": "markdown",
   "id": "e42cd47b",
   "metadata": {},
   "source": [
    "- We get science windows within 10 degrees from the Crab position \n",
    "- between the given dates expressed in the ISOT format"
   ]
  },
  {
   "cell_type": "code",
   "execution_count": 4,
   "id": "4924358e",
   "metadata": {},
   "outputs": [
    {
     "name": "stderr",
     "output_type": "stream",
     "text": [
      "WARNING: InputWarning: Coordinate string is being interpreted as an ICRS coordinate provided in degrees. [astroquery.utils.commons]\n",
      "WARNING: UnitsWarning: 'mjd' did not parse as fits unit: At col 0, Unit 'mjd' not supported by the FITS standard. Did you mean MJ or mJ? If this is meant to be a custom unit, define it with 'u.def_unit'. To have it recognized inside a file reader or other code, enable it with 'u.add_enabled_units'. For details, see https://docs.astropy.org/en/latest/units/combining_and_defining.html [astropy.units.core]\n",
      "WARNING: UnitsWarning: 'IJD' did not parse as fits unit: At col 0, Unit 'IJD' not supported by the FITS standard.  If this is meant to be a custom unit, define it with 'u.def_unit'. To have it recognized inside a file reader or other code, enable it with 'u.add_enabled_units'. For details, see https://docs.astropy.org/en/latest/units/combining_and_defining.html [astropy.units.core]\n",
      "WARNING: UnitsWarning: 'mjd' did not parse as fits unit: At col 0, Unit 'mjd' not supported by the FITS standard. Did you mean MJ or mJ? If this is meant to be a custom unit, define it with 'u.def_unit'. To have it recognized inside a file reader or other code, enable it with 'u.add_enabled_units'. For details, see https://docs.astropy.org/en/latest/units/combining_and_defining.html [astropy.units.core]\n"
     ]
    }
   ],
   "source": [
    "scwlist,version = get_scw_list(ra,dec, 10, '2020-01-01T00:00:00', '2020-06-01T00:00:00')"
   ]
  },
  {
   "cell_type": "markdown",
   "id": "be05a50e",
   "metadata": {},
   "source": [
    "- We pick at random nscw = 10 science window from the list (this is as ODA backend does)"
   ]
  },
  {
   "cell_type": "code",
   "execution_count": 5,
   "id": "aa71e299",
   "metadata": {},
   "outputs": [],
   "source": [
    "\n",
    "nscw = 10\n",
    "if len(scwlist) == 0:\n",
    "    raise Exception('No science windows')\n",
    "\n",
    "scw_pick = [(s+\".\"+v).strip() for s,v in zip(scwlist,version)]\n",
    "\n",
    "if nscw >0 and len(scw_pick)>=nscw:\n",
    "    random.seed(0)\n",
    "    scw_pick = random.sample(scw_pick, nscw)\n",
    "scw_pick = sorted(scw_pick)"
   ]
  },
  {
   "cell_type": "code",
   "execution_count": 6,
   "id": "81cacabf",
   "metadata": {},
   "outputs": [
    {
     "data": {
      "text/plain": [
       "['219400710010.001',\n",
       " '221000540010.001',\n",
       " '221200100010.001',\n",
       " '221400280010.001',\n",
       " '221400420010.001',\n",
       " '221400520010.001',\n",
       " '221500030010.001',\n",
       " '221500320010.001',\n",
       " '221500360010.001',\n",
       " '221500490010.001']"
      ]
     },
     "execution_count": 6,
     "metadata": {},
     "output_type": "execute_result"
    }
   ],
   "source": [
    "scw_pick"
   ]
  },
  {
   "cell_type": "markdown",
   "id": "43b12cad",
   "metadata": {},
   "source": [
    "- Token for a given user "
   ]
  },
  {
   "cell_type": "code",
   "execution_count": 7,
   "id": "be5db1ac",
   "metadata": {},
   "outputs": [],
   "source": [
    "token=''"
   ]
  },
  {
   "cell_type": "code",
   "execution_count": 8,
   "id": "4920c68e",
   "metadata": {},
   "outputs": [
    {
     "name": "stdout",
     "output_type": "stream",
     "text": [
      "Insert the token········\n"
     ]
    }
   ],
   "source": [
    "#You can provide a valid token as explained in the 'Authentication' example or skip this cell\n",
    "import getpass\n",
    "token = getpass.getpass('Insert the token')"
   ]
  },
  {
   "cell_type": "markdown",
   "id": "9aafe37a",
   "metadata": {},
   "source": [
    "## Let's get some logging\n",
    "\n",
    "This is to help visualizing the progress.\n",
    "\n",
    "- WANRING is the default level\n",
    "- INFO writes some more information\n",
    "- DEBUG is maily for developers and issue tracking\n"
   ]
  },
  {
   "cell_type": "code",
   "execution_count": 9,
   "id": "62842f3d",
   "metadata": {},
   "outputs": [],
   "source": [
    "import logging\n",
    "#default\n",
    "#logging.getLogger().setLevel(logging.WARNING)\n",
    "#slightly more verbose\n",
    "logging.getLogger().setLevel(logging.INFO)\n",
    "#all messages\n",
    "#logging.getLogger().setLevel(logging.DEBUG)\n",
    "\n",
    "logging.getLogger('oda_api').addHandler(logging.StreamHandler()) "
   ]
  },
  {
   "cell_type": "code",
   "execution_count": 10,
   "id": "a76dfcad",
   "metadata": {},
   "outputs": [
    {
     "name": "stderr",
     "output_type": "stream",
     "text": [
      "found token in TokenLocation.FILE_CUR_DIR your token payload: {\n",
      "    \"email\": \"Gabriele.Barni@unige.ch\",\n",
      "    \"exp\": 1748257223,\n",
      "    \"msdone\": false,\n",
      "    \"msfail\": false,\n",
      "    \"mssub\": false,\n",
      "    \"name\": \"gbarni\",\n",
      "    \"roles\": \"authenticated user, administrator, user manager, content manager, general, integral-private-qla, magic, unige-hpc-full, public-pool-hpc, antares, sdss, apc, bitp, renku contributor, gallery contributor, job manager, developer, oda workflow developer, refresh-tokens\",\n",
      "    \"sub\": \"Gabriele.Barni@unige.ch\"\n",
      "}\n",
      "token expires in 1220.8 h\n",
      "discovered token in environment\n",
      "please beware that by default, in a typical setup, oda_api will not output much. To learn how to increase the verbosity, please refer to the documentation: https://oda-api.readthedocs.io/en/latest/user_guide/ScienceWindowList.html?highlight=logging#Let's-get-some-logging . \n",
      "To disable this message you can pass `.get_product(..., silent=True)`\n",
      "/home/gabriele/Workspace/oda_api/venv/lib/python3.8/site-packages/oda_api/api.py:1102: UserWarning: \n",
      "----------------------------------------------------------------------------\n",
      "the parameter: oda_api_version   is not among valid ones:\n",
      "['src_name', 'RA', 'DEC', 'T1', 'T_format', 'T2', 'token', 'scw_list', 'selected_catalog', 'radius', 'max_pointings', 'osa_version', 'integral_data_rights', 'E1_keV', 'E2_keV', 'detection_threshold', 'image_scale_min', 'image_scale_max']\n",
      "----------------------------------------------------------------------------\n",
      "\n",
      "  warnings.warn(msg)\n",
      "- waiting for remote response (since 2025-04-05 16:13:13), please wait for https://www.astro.unige.ch/mmoda/dispatch-data/run_analysis\n",
      "session: T9SH9V8N9S2FYUPS job: f807231b8c529ad2\n",
      "\n",
      "... query status \u001b[35mprepared\u001b[0m => \u001b[35mdone\u001b[0m\n",
      "... assigned job id: \u001b[33mf807231b8c529ad2\u001b[0m\n",
      "\u001b[32mquery COMPLETED SUCCESSFULLY (state done)\u001b[0m\n",
      "query complete: terminating\n"
     ]
    }
   ],
   "source": [
    "from oda_api.api import DispatcherAPI\n",
    "from astroquery.simbad import Simbad\n",
    "from astropy import units as u\n",
    "from astropy.coordinates import SkyCoord\n",
    "\n",
    "disp = DispatcherAPI(url=\"https://www.astro.unige.ch/mmoda/dispatch-data\", instrument=\"mock\")\n",
    "\n",
    "# par_dict = {\n",
    "# \"E1_keV\": \"28\",\n",
    "# \"E2_keV\": \"40\",\n",
    "# \"detection_threshold\": \"7\",\n",
    "# \"instrument\": \"isgri\",\n",
    "# \"osa_version\": \"OSA11.2\",\n",
    "# \"product\": \"isgri_image\",\n",
    "# \"product_type\": \"Real\",\n",
    "# \"scw_list\": scw_pick,\n",
    "# \"integral_data_rights\": \"all-private\"\n",
    "# }\n",
    "\n",
    "source_name=\"GX 1+4\"\n",
    "simbad = Simbad.query_object(source_name)\n",
    "coord = SkyCoord(simbad['RA'], simbad['DEC'], unit=[u.hour, u.deg])\n",
    "\n",
    "ra = coord.ra.deg\n",
    "dec = coord.dec.deg\n",
    "\n",
    "par_dict = {\n",
    "\"DEC\": \"%f\" % dec,\n",
    "\"E1_keV\": 28,\n",
    "\"E2_keV\": 50,\n",
    "\"RA\": \"%f\" % ra,\n",
    "\"T1\": '2019-01-01T00:00:00',\n",
    "\"T2\": '2019-03-31T23:59:59',\n",
    "\"radius\": 8,\n",
    "\"src_name\": source_name,\n",
    "\"max_pointings\": 10,\n",
    "\"detection_threshold\": \"7.0\",\n",
    "\"instrument\": \"isgri\",\n",
    "\"integral_data_rights\": \"public\",\n",
    "\"oda_api_version\": \"1.1.22\",\n",
    "\"off_line\": \"False\",\n",
    "\"osa_version\": \"OSA11.2\",\n",
    "\"product\": \"isgri_image\",\n",
    "\"product_type\": \"Real\",\n",
    "}\n",
    "\n",
    "if token != '':\n",
    "    par_dict.update({'token': token})\n",
    "\n",
    "data_collection = disp.get_product(**par_dict)"
   ]
  },
  {
   "cell_type": "code",
   "execution_count": 11,
   "id": "10244e13",
   "metadata": {},
   "outputs": [
    {
     "name": "stdout",
     "output_type": "stream",
     "text": [
      "------------------------------\n",
      "name: mosaic_image\n",
      "meta_data dict_keys(['product', 'instrument', 'src_name', 'query_parameters'])\n",
      "number of data units 6\n",
      "------------------------------\n",
      "data uniti 0 ,name: PRIMARY\n",
      "data uniti 1 ,name: GROUPING\n",
      "data uniti 2 ,name: ISGR-MOSA-IMA\n",
      "data uniti 3 ,name: ISGR-MOSA-IMA\n",
      "data uniti 4 ,name: ISGR-MOSA-IMA\n",
      "data uniti 5 ,name: ISGR-MOSA-IMA\n"
     ]
    }
   ],
   "source": [
    "data_collection.mosaic_image_0_mosaic.show()"
   ]
  },
  {
   "cell_type": "code",
   "execution_count": 12,
   "id": "0134b4a3",
   "metadata": {},
   "outputs": [
    {
     "name": "stdout",
     "output_type": "stream",
     "text": [
      "------------------------------\n",
      "product : mosaic\n",
      "instrument : isgri\n",
      "src_name : \n",
      "query_parameters : None\n",
      "------------------------------\n"
     ]
    }
   ],
   "source": [
    "data_collection.mosaic_image_0_mosaic.show_meta()"
   ]
  },
  {
   "cell_type": "code",
   "execution_count": 13,
   "id": "6f52bfdf",
   "metadata": {},
   "outputs": [
    {
     "name": "stderr",
     "output_type": "stream",
     "text": [
      "WARNING: FITSFixedWarning: RADECSYS= 'FK5 ' \n",
      "the RADECSYS keyword is deprecated, use RADESYSa. [astropy.wcs.wcs]\n",
      "WARNING: FITSFixedWarning: 'datfix' made the change 'Set DATEREF to '2000-01-01' from MJDREF.\n",
      "Set MJD-OBS to 58526.447905 from DATE-OBS.\n",
      "Set MJD-END to 58557.991262 from DATE-END'. [astropy.wcs.wcs]\n",
      "/home/gabriele/Workspace/oda_api/venv/lib/python3.8/site-packages/oda_api/plot_tools.py:104: UserWarning: Matplotlib is currently using module://matplotlib_inline.backend_inline, which is a non-GUI backend, so cannot show the figure.\n",
      "  plt.show()\n"
     ]
    },
    {
     "data": {
      "image/png": "[encoded data removed]",
      "text/plain": [
       "<Figure size 576x355.556 with 4 Axes>"
      ]
     },
     "metadata": {
      "needs_background": "light"
     },
     "output_type": "display_data"
    }
   ],
   "source": [
    "from oda_api.plot_tools import OdaImage\n",
    "#interactive\n",
    "%matplotlib inline\n",
    "\n",
    "im=OdaImage(data_collection)\n",
    "im.show(unit_ID=3)"
   ]
  },
  {
   "cell_type": "code",
   "execution_count": null,
   "id": "83e19ad1",
   "metadata": {},
   "outputs": [],
   "source": []
  }
 ],
 "metadata": {
  "kernelspec": {
   "display_name": "Python 3 (ipykernel)",
   "language": "python",
   "name": "python3"
  },
  "language_info": {
   "codemirror_mode": {
    "name": "ipython",
    "version": 3
   },
   "file_extension": ".py",
   "mimetype": "text/x-python",
   "name": "python",
   "nbconvert_exporter": "python",
   "pygments_lexer": "ipython3",
   "version": "3.8.10"
  }
 },
 "nbformat": 4,
 "nbformat_minor": 5
}
