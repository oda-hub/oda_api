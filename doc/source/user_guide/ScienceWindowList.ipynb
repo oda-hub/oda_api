{
 "cells": [
  {
   "cell_type": "markdown",
   "id": "6097307c",
   "metadata": {},
   "source": [
    "# In this example we select a list of science window and submit it to ODA to obtain an image"
   ]
  },
  {
   "cell_type": "code",
   "execution_count": null,
   "id": "dfc5c155",
   "metadata": {},
   "outputs": [],
   "source": [
    "# with no surprise, we do it for the Crab\n",
    "source_name='Crab'"
   ]
  },
  {
   "cell_type": "markdown",
   "id": "4468a42c",
   "metadata": {},
   "source": [
    "## Astroquery can be used to retrieve the list\n",
    "\n",
    "We build a convenience function.\n",
    "\n",
    "For the scope of this socumentation, we make sure the `astroquery` library version, is within a specific version range. For newer (or older) version, please consult the offical documentation."
   ]
  },
  {
   "cell_type": "code",
   "execution_count": null,
   "id": "a016c3e3",
   "metadata": {},
   "outputs": [],
   "source": [
    "#Example of functions to select a science window list\n",
    "import time\n",
    "\n",
    "import astroquery.heasarc\n",
    "from astropy.coordinates import SkyCoord\n",
    "from astropy import units as u\n",
    "\n",
    "Heasarc = astroquery.heasarc.Heasarc()\n",
    "\n",
    "\n",
    "def get_scw_list(ra_obj, dec_obj,radius,start_date,end_date ):\n",
    "    R = Heasarc.query_region(\n",
    "            position = SkyCoord(ra_obj, dec_obj, unit='deg'),\n",
    "            radius = f\"{radius} deg\",\n",
    "            mission = 'intscw',\n",
    "            time = start_date + \" .. \" + end_date,\n",
    "            good_isgri = \">1000\",\n",
    "        )\n",
    "    R.sort('SCW_ID')\n",
    "\n",
    "    return R['SCW_ID'], R['SCW_VER']\n",
    "\n",
    "\n",
    "assert astroquery.__version__ >= '0.4.2.dev6611' and astroquery.__version__ <= '0.4.7'\n",
    "\n",
    "# it means it's our fork\n",
    "assert 'isdc' in astroquery.heasarc.Conf.server.cfgtype"
   ]
  },
  {
   "cell_type": "code",
   "execution_count": null,
   "id": "cc0b1d77",
   "metadata": {},
   "outputs": [],
   "source": [
    "from astroquery.simbad import Simbad\n",
    "from astropy import coordinates as coord\n",
    "\n",
    "import json\n",
    "\n",
    "import os\n",
    "import shutil\n",
    "import random\n",
    "\n",
    "from astropy.io import fits\n",
    "\n",
    "from scipy import stats\n",
    "result_table = Simbad.query_object(source_name)\n",
    "source_coord = coord.SkyCoord(result_table['RA'][0], result_table['DEC'][0], unit=(\"hourangle\", \"deg\"))\n",
    "ra=source_coord.ra.deg\n",
    "dec=source_coord.dec.deg\n",
    "radius=8."
   ]
  },
  {
   "cell_type": "markdown",
   "id": "e42cd47b",
   "metadata": {},
   "source": [
    "- We get science windows within 10 degrees from the Crab position \n",
    "- between the given dates expressed in the ISOT format"
   ]
  },
  {
   "cell_type": "code",
   "execution_count": null,
   "id": "4924358e",
   "metadata": {},
   "outputs": [],
   "source": [
    "scwlist,version = get_scw_list(ra,dec, 10, '2020-01-01T00:00:00', '2020-06-01T00:00:00')"
   ]
  },
  {
   "cell_type": "markdown",
   "id": "be05a50e",
   "metadata": {},
   "source": [
    "- We pick at random nscw = 10 science window from the list (this is as ODA backend does)"
   ]
  },
  {
   "cell_type": "code",
   "execution_count": null,
   "id": "aa71e299",
   "metadata": {},
   "outputs": [],
   "source": [
    "\n",
    "nscw = 10\n",
    "if len(scwlist) == 0:\n",
    "    raise Exception('No science windows')\n",
    "\n",
    "scw_pick = [(s+\".\"+v).strip() for s,v in zip(scwlist,version)]\n",
    "\n",
    "if nscw >0 and len(scw_pick)>=nscw:\n",
    "    random.seed(0)\n",
    "    scw_pick = random.sample(scw_pick, nscw)\n",
    "scw_pick = sorted(scw_pick)"
   ]
  },
  {
   "cell_type": "code",
   "execution_count": null,
   "id": "81cacabf",
   "metadata": {},
   "outputs": [],
   "source": [
    "scw_pick"
   ]
  },
  {
   "cell_type": "markdown",
   "id": "43b12cad",
   "metadata": {},
   "source": [
    "- Token for a given user "
   ]
  },
  {
   "cell_type": "code",
   "execution_count": null,
   "id": "be5db1ac",
   "metadata": {},
   "outputs": [],
   "source": [
    "token=''"
   ]
  },
  {
   "cell_type": "code",
   "execution_count": null,
   "id": "4920c68e",
   "metadata": {},
   "outputs": [],
   "source": [
    "#You can provide a valid token as explained in the 'Authentication' example or skip this cell\n",
    "import getpass\n",
    "token = getpass.getpass('Insert the token')"
   ]
  },
  {
   "cell_type": "markdown",
   "id": "9aafe37a",
   "metadata": {},
   "source": [
    "## Let's get some logging\n",
    "\n",
    "This is to help visualizing the progress.\n",
    "\n",
    "- WANRING is the default level\n",
    "- INFO writes some more information\n",
    "- DEBUG is maily for developers and issue tracking\n"
   ]
  },
  {
   "cell_type": "code",
   "execution_count": null,
   "id": "62842f3d",
   "metadata": {},
   "outputs": [],
   "source": [
    "import logging\n",
    "#default\n",
    "#logging.getLogger().setLevel(logging.WARNING)\n",
    "#slightly more verbose\n",
    "logging.getLogger().setLevel(logging.INFO)\n",
    "#all messages\n",
    "#logging.getLogger().setLevel(logging.DEBUG)\n",
    "\n",
    "logging.getLogger('oda_api').addHandler(logging.StreamHandler()) "
   ]
  },
  {
   "cell_type": "code",
   "execution_count": null,
   "id": "a76dfcad",
   "metadata": {},
   "outputs": [],
   "source": [
    "from oda_api.api import DispatcherAPI\n",
    "\n",
    "disp = DispatcherAPI(url=\"https://www.astro.unige.ch/mmoda/dispatch-data\", instrument=\"mock\")\n",
    "\n",
    "par_dict = {\n",
    "\"E1_keV\": \"28\",\n",
    "\"E2_keV\": \"40\",\n",
    "\"detection_threshold\": \"7\",\n",
    "\"instrument\": \"isgri\",\n",
    "\"osa_version\": \"OSA11.2\",\n",
    "\"product\": \"isgri_image\",\n",
    "\"product_type\": \"Real\",\n",
    "\"scw_list\": scw_pick,\n",
    "\"integral_data_rights\": \"all-private\"    \n",
    "}\n",
    "\n",
    "if token != '':\n",
    "    par_dict.update({'token': token})\n",
    "\n",
    "data_collection = disp.get_product(**par_dict)"
   ]
  },
  {
   "cell_type": "code",
   "execution_count": null,
   "id": "10244e13",
   "metadata": {},
   "outputs": [],
   "source": [
    "data_collection.mosaic_image_0_mosaic.show()"
   ]
  },
  {
   "cell_type": "code",
   "execution_count": null,
   "id": "0134b4a3",
   "metadata": {},
   "outputs": [],
   "source": [
    "data_collection.mosaic_image_0_mosaic.show_meta()"
   ]
  },
  {
   "cell_type": "code",
   "execution_count": null,
   "id": "6f52bfdf",
   "metadata": {},
   "outputs": [],
   "source": [
    "from oda_api.plot_tools import OdaImage\n",
    "#interactive\n",
    "%matplotlib inline\n",
    "\n",
    "im=OdaImage(data_collection.mosaic_image_0_mosaic)\n",
    "im.show(unit_ID=4)"
   ]
  }
 ],
 "metadata": {
  "kernelspec": {
   "display_name": "Python 3 (ipykernel)",
   "language": "python",
   "name": "python3"
  },
  "language_info": {
   "codemirror_mode": {
    "name": "ipython",
    "version": 3
   },
   "file_extension": ".py",
   "mimetype": "text/x-python",
   "name": "python",
   "nbconvert_exporter": "python",
   "pygments_lexer": "ipython3",
   "version": "3.8.10"
  }
 },
 "nbformat": 4,
 "nbformat_minor": 5
}
