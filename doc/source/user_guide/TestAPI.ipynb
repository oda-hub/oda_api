{
 "cells": [
  {
   "cell_type": "markdown",
   "metadata": {},
   "source": [
    "# Quick Start (oda api v1.1.24)"
   ]
  },
  {
   "cell_type": "code",
   "execution_count": 1,
   "metadata": {},
   "outputs": [],
   "source": [
    "from oda_api.api import DispatcherAPI\n",
    "from oda_api.plot_tools import OdaImage,OdaLightCurve\n",
    "from oda_api.data_products import BinaryData\n",
    "import os\n",
    "#%matplotlib notebook\n"
   ]
  },
  {
   "cell_type": "markdown",
   "metadata": {},
   "source": [
    "## Connection to the dispatcher "
   ]
  },
  {
   "cell_type": "markdown",
   "metadata": {},
   "source": [
    "### build the dispatcher object"
   ]
  },
  {
   "cell_type": "code",
   "execution_count": 2,
   "metadata": {},
   "outputs": [],
   "source": [
    "disp=DispatcherAPI(url='https://www.astro.unige.ch/mmoda/dispatch-data',instrument='mock')"
   ]
  },
  {
   "cell_type": "code",
   "execution_count": 3,
   "metadata": {
    "scrolled": false
   },
   "outputs": [
    {
     "name": "stdout",
     "output_type": "stream",
     "text": [
      "magic\n",
      "isgri\n",
      "jemx\n",
      "polar\n",
      "antares\n",
      "spi_acs\n"
     ]
    }
   ],
   "source": [
    "instr_list=disp.get_instruments_list()\n",
    "for i in instr_list:\n",
    "    print (i)"
   ]
  },
  {
   "cell_type": "markdown",
   "metadata": {},
   "source": [
    "### get the description of the instrument"
   ]
  },
  {
   "cell_type": "code",
   "execution_count": 4,
   "metadata": {},
   "outputs": [
    {
     "data": {
      "text/plain": [
       "[[{'instrumet': 'isgri'},\n",
       "  {'prod_dict': {'isgri_image': 'isgri_image_query',\n",
       "    'isgri_lc': 'isgri_lc_query',\n",
       "    'isgri_spectrum': 'isgri_spectrum_query',\n",
       "    'spectral_fit': 'spectral_fit_query'}},\n",
       "  '[{\"query_name\": \"src_query\"}, {\"name\": \"src_name\", \"units\": \"str\", \"value\": \"test\"}, {\"name\": \"RA\", \"units\": \"deg\", \"value\": 0.0}, {\"name\": \"DEC\", \"units\": \"deg\", \"value\": 0.0}, {\"name\": \"T1\", \"units\": None, \"value\": \"2001-12-11T00:00:00.000\"}, {\"name\": \"T2\", \"units\": None, \"value\": \"2001-12-11T00:00:00.000\"}, {\"name\": \"token\", \"units\": \"str\", \"value\": None}]',\n",
       "  '[{\"query_name\": \"isgri_parameters\"}, {\"name\": \"user_catalog\", \"units\": \"str\", \"value\": None}, {\"name\": \"scw_list\", \"units\": \"names_list\", \"value\": []}, {\"name\": \"selected_catalog\", \"units\": \"str\", \"value\": None}, {\"name\": \"radius\", \"units\": \"deg\", \"value\": 5.0}, {\"name\": \"max_pointings\", \"units\": None, \"value\": 50}, {\"name\": \"osa_version\", \"units\": \"str\", \"value\": None}, {\"name\": \"integral_data_rights\", \"units\": \"str\", \"value\": \"public\"}, {\"name\": \"E1_keV\", \"units\": \"keV\", \"value\": 15.0}, {\"name\": \"E2_keV\", \"units\": \"keV\", \"value\": 40.0}]',\n",
       "  '[{\"query_name\": \"isgri_image_query\"}, {\"product_name\": \"isgri_image\"}, {\"name\": \"detection_threshold\", \"units\": \"sigma\", \"value\": 0.0}, {\"name\": \"image_scale_min\", \"units\": None, \"value\": None}, {\"name\": \"image_scale_max\", \"units\": None, \"value\": None}]',\n",
       "  '[{\"query_name\": \"isgri_spectrum_query\"}, {\"product_name\": \"isgri_spectrum\"}]',\n",
       "  '[{\"query_name\": \"isgri_lc_query\"}, {\"product_name\": \"isgri_lc\"}, {\"name\": \"time_bin\", \"units\": \"sec\", \"value\": 1000.0}]',\n",
       "  '[{\"query_name\": \"spectral_fit_query\"}, {\"product_name\": \"spectral_fit\"}, {\"name\": \"xspec_model\", \"units\": \"str\", \"value\": \"powerlaw\"}, {\"name\": \"ph_file_name\", \"units\": \"str\", \"value\": \"\"}, {\"name\": \"arf_file_name\", \"units\": \"str\", \"value\": \"\"}, {\"name\": \"rmf_file_name\", \"units\": \"str\", \"value\": \"\"}]']]"
      ]
     },
     "execution_count": 4,
     "metadata": {},
     "output_type": "execute_result"
    }
   ],
   "source": [
    "disp.get_instrument_description('isgri')"
   ]
  },
  {
   "cell_type": "markdown",
   "metadata": {},
   "source": [
    "### get the description of the product\n"
   ]
  },
  {
   "cell_type": "code",
   "execution_count": 5,
   "metadata": {},
   "outputs": [
    {
     "data": {
      "text/plain": [
       "[[{'instrumet': 'isgri'},\n",
       "  {'prod_dict': {'isgri_image': 'isgri_image_query',\n",
       "    'isgri_lc': 'isgri_lc_query',\n",
       "    'isgri_spectrum': 'isgri_spectrum_query',\n",
       "    'spectral_fit': 'spectral_fit_query'}},\n",
       "  '[{\"query_name\": \"src_query\"}, {\"name\": \"src_name\", \"units\": \"str\", \"value\": \"test\"}, {\"name\": \"RA\", \"units\": \"deg\", \"value\": 0.0}, {\"name\": \"DEC\", \"units\": \"deg\", \"value\": 0.0}, {\"name\": \"T1\", \"units\": None, \"value\": \"2001-12-11T00:00:00.000\"}, {\"name\": \"T2\", \"units\": None, \"value\": \"2001-12-11T00:00:00.000\"}, {\"name\": \"token\", \"units\": \"str\", \"value\": None}]',\n",
       "  '[{\"query_name\": \"isgri_parameters\"}, {\"name\": \"user_catalog\", \"units\": \"str\", \"value\": None}, {\"name\": \"scw_list\", \"units\": \"names_list\", \"value\": []}, {\"name\": \"selected_catalog\", \"units\": \"str\", \"value\": None}, {\"name\": \"radius\", \"units\": \"deg\", \"value\": 5.0}, {\"name\": \"max_pointings\", \"units\": None, \"value\": 50}, {\"name\": \"osa_version\", \"units\": \"str\", \"value\": None}, {\"name\": \"integral_data_rights\", \"units\": \"str\", \"value\": \"public\"}, {\"name\": \"E1_keV\", \"units\": \"keV\", \"value\": 15.0}, {\"name\": \"E2_keV\", \"units\": \"keV\", \"value\": 40.0}]',\n",
       "  '[{\"query_name\": \"isgri_image_query\"}, {\"product_name\": \"isgri_image\"}, {\"name\": \"detection_threshold\", \"units\": \"sigma\", \"value\": 0.0}, {\"name\": \"image_scale_min\", \"units\": None, \"value\": None}, {\"name\": \"image_scale_max\", \"units\": None, \"value\": None}]']]"
      ]
     },
     "execution_count": 5,
     "metadata": {},
     "output_type": "execute_result"
    }
   ],
   "source": [
    "disp.get_product_description(instrument='isgri',product_name='isgri_image')"
   ]
  },
  {
   "cell_type": "markdown",
   "metadata": {},
   "source": [
    "### check query before submission\n",
    "in case of error in the parameters, an error is issued"
   ]
  },
  {
   "cell_type": "code",
   "execution_count": 6,
   "metadata": {},
   "outputs": [
    {
     "ename": "RequestNotUnderstood",
     "evalue": "[ RequestNotUnderstood: RequestNotUnderstood():[ InstrumentQueryBackEnd : isgri ] constructor failed: Invalid character at col 0 in angle 'a' ]",
     "output_type": "error",
     "traceback": [
      "\u001b[0;31m---------------------------------------------------------------------------\u001b[0m",
      "\u001b[0;31mRequestNotUnderstood\u001b[0m                      Traceback (most recent call last)",
      "\u001b[0;32m/tmp/ipykernel_11979/2086683828.py\u001b[0m in \u001b[0;36m<module>\u001b[0;34m\u001b[0m\n\u001b[0;32m----> 1\u001b[0;31m data_collection=disp.get_product(instrument='isgri',\n\u001b[0m\u001b[1;32m      2\u001b[0m                                  \u001b[0mproduct\u001b[0m\u001b[0;34m=\u001b[0m\u001b[0;34m'isgri_image'\u001b[0m\u001b[0;34m,\u001b[0m\u001b[0;34m\u001b[0m\u001b[0;34m\u001b[0m\u001b[0m\n\u001b[1;32m      3\u001b[0m                                  \u001b[0mT1\u001b[0m\u001b[0;34m=\u001b[0m\u001b[0;34m'2003-03-15T23:27:40.0'\u001b[0m\u001b[0;34m,\u001b[0m\u001b[0;34m\u001b[0m\u001b[0;34m\u001b[0m\u001b[0m\n\u001b[1;32m      4\u001b[0m                                  \u001b[0mT2\u001b[0m\u001b[0;34m=\u001b[0m\u001b[0;34m'2003-03-16T00:03:12.0'\u001b[0m\u001b[0;34m,\u001b[0m\u001b[0;34m\u001b[0m\u001b[0;34m\u001b[0m\u001b[0m\n\u001b[1;32m      5\u001b[0m                                  \u001b[0mosa_version\u001b[0m\u001b[0;34m=\u001b[0m\u001b[0;34m'OSA10.2'\u001b[0m\u001b[0;34m,\u001b[0m\u001b[0;34m\u001b[0m\u001b[0;34m\u001b[0m\u001b[0m\n",
      "\u001b[0;32m~/.venv/myVE/lib/python3.8/site-packages/oda_api/api.py\u001b[0m in \u001b[0;36mget_product\u001b[0;34m(self, product, instrument, verbose, dry_run, product_type, **kwargs)\u001b[0m\n\u001b[1;32m    886\u001b[0m \u001b[0;34m\u001b[0m\u001b[0m\n\u001b[1;32m    887\u001b[0m         \u001b[0;31m# >\u001b[0m\u001b[0;34m\u001b[0m\u001b[0;34m\u001b[0m\u001b[0;34m\u001b[0m\u001b[0m\n\u001b[0;32m--> 888\u001b[0;31m         \u001b[0mself\u001b[0m\u001b[0;34m.\u001b[0m\u001b[0mrequest\u001b[0m\u001b[0;34m(\u001b[0m\u001b[0mkwargs\u001b[0m\u001b[0;34m)\u001b[0m\u001b[0;34m\u001b[0m\u001b[0;34m\u001b[0m\u001b[0m\n\u001b[0m\u001b[1;32m    889\u001b[0m \u001b[0;34m\u001b[0m\u001b[0m\n\u001b[1;32m    890\u001b[0m         \u001b[0;32mif\u001b[0m \u001b[0mself\u001b[0m\u001b[0;34m.\u001b[0m\u001b[0mis_failed\u001b[0m\u001b[0;34m:\u001b[0m\u001b[0;34m\u001b[0m\u001b[0;34m\u001b[0m\u001b[0m\n",
      "\u001b[0;32m~/.venv/myVE/lib/python3.8/site-packages/oda_api/api.py\u001b[0m in \u001b[0;36mfunc_wrapper\u001b[0;34m(*args, **kwargs)\u001b[0m\n\u001b[1;32m    121\u001b[0m         \u001b[0;32mwhile\u001b[0m \u001b[0;32mTrue\u001b[0m\u001b[0;34m:\u001b[0m\u001b[0;34m\u001b[0m\u001b[0;34m\u001b[0m\u001b[0m\n\u001b[1;32m    122\u001b[0m             \u001b[0;32mtry\u001b[0m\u001b[0;34m:\u001b[0m\u001b[0;34m\u001b[0m\u001b[0;34m\u001b[0m\u001b[0m\n\u001b[0;32m--> 123\u001b[0;31m                 \u001b[0;32mreturn\u001b[0m \u001b[0mfunc\u001b[0m\u001b[0;34m(\u001b[0m\u001b[0;34m*\u001b[0m\u001b[0margs\u001b[0m\u001b[0;34m,\u001b[0m \u001b[0;34m**\u001b[0m\u001b[0mkwargs\u001b[0m\u001b[0;34m)\u001b[0m\u001b[0;34m\u001b[0m\u001b[0;34m\u001b[0m\u001b[0m\n\u001b[0m\u001b[1;32m    124\u001b[0m             \u001b[0;32mexcept\u001b[0m \u001b[0mUserError\u001b[0m \u001b[0;32mas\u001b[0m \u001b[0me\u001b[0m\u001b[0;34m:\u001b[0m\u001b[0;34m\u001b[0m\u001b[0;34m\u001b[0m\u001b[0m\n\u001b[1;32m    125\u001b[0m                 \u001b[0mlogger\u001b[0m\u001b[0;34m.\u001b[0m\u001b[0mexception\u001b[0m\u001b[0;34m(\u001b[0m\u001b[0;34m\"user error: %s\"\u001b[0m\u001b[0;34m,\u001b[0m \u001b[0me\u001b[0m\u001b[0;34m)\u001b[0m\u001b[0;34m\u001b[0m\u001b[0;34m\u001b[0m\u001b[0m\n",
      "\u001b[0;32m~/.venv/myVE/lib/python3.8/site-packages/oda_api/api.py\u001b[0m in \u001b[0;36mrequest\u001b[0;34m(self, parameters_dict, handle, url, wait, quiet)\u001b[0m\n\u001b[1;32m    661\u001b[0m \u001b[0;34m\u001b[0m\u001b[0m\n\u001b[1;32m    662\u001b[0m         \u001b[0;32mwhile\u001b[0m \u001b[0;32mTrue\u001b[0m\u001b[0;34m:\u001b[0m\u001b[0;34m\u001b[0m\u001b[0;34m\u001b[0m\u001b[0m\n\u001b[0;32m--> 663\u001b[0;31m             \u001b[0mself\u001b[0m\u001b[0;34m.\u001b[0m\u001b[0mpoll\u001b[0m\u001b[0;34m(\u001b[0m\u001b[0;34m)\u001b[0m\u001b[0;34m\u001b[0m\u001b[0;34m\u001b[0m\u001b[0m\n\u001b[0m\u001b[1;32m    664\u001b[0m \u001b[0;34m\u001b[0m\u001b[0m\n\u001b[1;32m    665\u001b[0m             \u001b[0;32mif\u001b[0m \u001b[0;32mnot\u001b[0m \u001b[0mself\u001b[0m\u001b[0;34m.\u001b[0m\u001b[0mwait\u001b[0m\u001b[0;34m:\u001b[0m\u001b[0;34m\u001b[0m\u001b[0;34m\u001b[0m\u001b[0m\n",
      "\u001b[0;32m~/.venv/myVE/lib/python3.8/site-packages/oda_api/api.py\u001b[0m in \u001b[0;36mfunc_wrapper\u001b[0;34m(*args, **kwargs)\u001b[0m\n\u001b[1;32m    121\u001b[0m         \u001b[0;32mwhile\u001b[0m \u001b[0;32mTrue\u001b[0m\u001b[0;34m:\u001b[0m\u001b[0;34m\u001b[0m\u001b[0;34m\u001b[0m\u001b[0m\n\u001b[1;32m    122\u001b[0m             \u001b[0;32mtry\u001b[0m\u001b[0;34m:\u001b[0m\u001b[0;34m\u001b[0m\u001b[0;34m\u001b[0m\u001b[0m\n\u001b[0;32m--> 123\u001b[0;31m                 \u001b[0;32mreturn\u001b[0m \u001b[0mfunc\u001b[0m\u001b[0;34m(\u001b[0m\u001b[0;34m*\u001b[0m\u001b[0margs\u001b[0m\u001b[0;34m,\u001b[0m \u001b[0;34m**\u001b[0m\u001b[0mkwargs\u001b[0m\u001b[0;34m)\u001b[0m\u001b[0;34m\u001b[0m\u001b[0;34m\u001b[0m\u001b[0m\n\u001b[0m\u001b[1;32m    124\u001b[0m             \u001b[0;32mexcept\u001b[0m \u001b[0mUserError\u001b[0m \u001b[0;32mas\u001b[0m \u001b[0me\u001b[0m\u001b[0;34m:\u001b[0m\u001b[0;34m\u001b[0m\u001b[0;34m\u001b[0m\u001b[0m\n\u001b[1;32m    125\u001b[0m                 \u001b[0mlogger\u001b[0m\u001b[0;34m.\u001b[0m\u001b[0mexception\u001b[0m\u001b[0;34m(\u001b[0m\u001b[0;34m\"user error: %s\"\u001b[0m\u001b[0;34m,\u001b[0m \u001b[0me\u001b[0m\u001b[0;34m)\u001b[0m\u001b[0;34m\u001b[0m\u001b[0;34m\u001b[0m\u001b[0m\n",
      "\u001b[0;32m~/.venv/myVE/lib/python3.8/site-packages/oda_api/api.py\u001b[0m in \u001b[0;36mpoll\u001b[0;34m(self, verbose, silent)\u001b[0m\n\u001b[1;32m    558\u001b[0m \u001b[0;34m\u001b[0m\u001b[0m\n\u001b[1;32m    559\u001b[0m         \u001b[0;31m# >\u001b[0m\u001b[0;34m\u001b[0m\u001b[0;34m\u001b[0m\u001b[0;34m\u001b[0m\u001b[0m\n\u001b[0;32m--> 560\u001b[0;31m         \u001b[0mself\u001b[0m\u001b[0;34m.\u001b[0m\u001b[0mresponse_json\u001b[0m \u001b[0;34m=\u001b[0m \u001b[0mself\u001b[0m\u001b[0;34m.\u001b[0m\u001b[0mrequest_to_json\u001b[0m\u001b[0;34m(\u001b[0m\u001b[0;34m)\u001b[0m\u001b[0;34m\u001b[0m\u001b[0;34m\u001b[0m\u001b[0m\n\u001b[0m\u001b[1;32m    561\u001b[0m         \u001b[0;31m# <\u001b[0m\u001b[0;34m\u001b[0m\u001b[0;34m\u001b[0m\u001b[0;34m\u001b[0m\u001b[0m\n\u001b[1;32m    562\u001b[0m \u001b[0;34m\u001b[0m\u001b[0m\n",
      "\u001b[0;32m~/.venv/myVE/lib/python3.8/site-packages/oda_api/api.py\u001b[0m in \u001b[0;36mrequest_to_json\u001b[0;34m(self, verbose)\u001b[0m\n\u001b[1;32m    392\u001b[0m \u001b[0;34m\u001b[0m\u001b[0m\n\u001b[1;32m    393\u001b[0m             \u001b[0;32mif\u001b[0m \u001b[0mresponse\u001b[0m\u001b[0;34m.\u001b[0m\u001b[0mstatus_code\u001b[0m \u001b[0;34m==\u001b[0m \u001b[0;36m400\u001b[0m\u001b[0;34m:\u001b[0m\u001b[0;34m\u001b[0m\u001b[0;34m\u001b[0m\u001b[0m\n\u001b[0;32m--> 394\u001b[0;31m                 raise RequestNotUnderstood(\n\u001b[0m\u001b[1;32m    395\u001b[0m                     response.json())\n\u001b[1;32m    396\u001b[0m \u001b[0;34m\u001b[0m\u001b[0m\n",
      "\u001b[0;31mRequestNotUnderstood\u001b[0m: [ RequestNotUnderstood: RequestNotUnderstood():[ InstrumentQueryBackEnd : isgri ] constructor failed: Invalid character at col 0 in angle 'a' ]"
     ]
    }
   ],
   "source": [
    "data_collection=disp.get_product(instrument='isgri',\n",
    "                                 product='isgri_image',\n",
    "                                 T1='2003-03-15T23:27:40.0',\n",
    "                                 T2='2003-03-16T00:03:12.0',\n",
    "                                 osa_version='OSA10.2',\n",
    "                                 RA='a',\n",
    "                                 DEC=-37.844167,\n",
    "                                 detection_threshold=5.0,\n",
    "                                 radius=15.,\n",
    "                                 product_type='Real')"
   ]
  },
  {
   "cell_type": "markdown",
   "metadata": {},
   "source": [
    "## Get ODA products\n",
    "now we actually get the products with the right parameters"
   ]
  },
  {
   "cell_type": "code",
   "execution_count": 9,
   "metadata": {
    "scrolled": false
   },
   "outputs": [],
   "source": [
    "data_collection=disp.get_product(instrument='isgri',\n",
    "                      product='isgri_image',\n",
    "                      T1='2003-03-15T23:27:40.0',\n",
    "                      T2='2003-03-16T00:03:15.0',\n",
    "                      E1_keV=20.0,\n",
    "                      E2_keV=40.0,\n",
    "                      osa_version='OSA10.2',\n",
    "                      RA=257.815417,\n",
    "                      DEC=-41.593417,\n",
    "                      detection_threshold=5.0,\n",
    "                      radius=15.,\n",
    "                      product_type='Real')"
   ]
  },
  {
   "cell_type": "markdown",
   "metadata": {},
   "source": [
    "### the ODA data structure"
   ]
  },
  {
   "cell_type": "code",
   "execution_count": 10,
   "metadata": {},
   "outputs": [
    {
     "name": "stdout",
     "output_type": "stream",
     "text": [
      "ID=0 prod_name=mosaic_image_0_mosaic  meta_data: {'product': 'mosaic', 'instrument': 'isgri', 'src_name': '', 'query_parameters': '[{\"query_name\": \"isgri_image_query\"}, {\"product_name\": \"isgri_image_query\"}, {\"name\": \"detection_threshold\", \"units\": \"sigma\", \"value\": \"5.0\"}, {\"name\": \"image_scale_min\", \"units\": None, \"value\": None}, {\"name\": \"image_scale_max\", \"units\": None, \"value\": None}]'}\n",
      "\n",
      "ID=1 prod_name=dispatcher_catalog_1  meta_data: \n",
      "\n"
     ]
    }
   ],
   "source": [
    "data_collection.show()"
   ]
  },
  {
   "cell_type": "markdown",
   "metadata": {},
   "source": [
    "you can acess memeber by name:"
   ]
  },
  {
   "cell_type": "code",
   "execution_count": 11,
   "metadata": {},
   "outputs": [
    {
     "data": {
      "text/plain": [
       "<oda_api.data_products.NumpyDataProduct at 0x7f54f77a95e0>"
      ]
     },
     "execution_count": 11,
     "metadata": {},
     "output_type": "execute_result"
    }
   ],
   "source": [
    "data_collection.mosaic_image_0_mosaic"
   ]
  },
  {
   "cell_type": "markdown",
   "metadata": {},
   "source": [
    "or by position in the data list"
   ]
  },
  {
   "cell_type": "code",
   "execution_count": 12,
   "metadata": {},
   "outputs": [
    {
     "data": {
      "text/plain": [
       "<oda_api.data_products.NumpyDataProduct at 0x7f54f77a95e0>"
      ]
     },
     "execution_count": 12,
     "metadata": {},
     "output_type": "execute_result"
    }
   ],
   "source": [
    "data_collection._p_list[0]"
   ]
  },
  {
   "cell_type": "markdown",
   "metadata": {},
   "source": [
    "### the ODA catalog"
   ]
  },
  {
   "cell_type": "code",
   "execution_count": 13,
   "metadata": {},
   "outputs": [
    {
     "data": {
      "text/html": [
       "<div><i>Table length=4</i>\n",
       "<table id=\"table140002906006576\" class=\"table-striped table-bordered table-condensed\">\n",
       "<thead><tr><th>meta_ID</th><th>src_names</th><th>significance</th><th>ra</th><th>dec</th><th>NEW_SOURCE</th><th>ISGRI_FLAG</th><th>FLAG</th><th>ERR_RAD</th></tr></thead>\n",
       "<thead><tr><th></th><th></th><th></th><th>deg</th><th>deg</th><th></th><th></th><th></th><th></th></tr></thead>\n",
       "<thead><tr><th>int64</th><th>str12</th><th>float64</th><th>float64</th><th>float64</th><th>int64</th><th>int64</th><th>int64</th><th>float64</th></tr></thead>\n",
       "<tr><td>68</td><td>OAO 1657-415</td><td>17.827661514282227</td><td>255.19740295410156</td><td>-41.653175354003906</td><td>-32768</td><td>2</td><td>0</td><td>0.00014000000373926014</td></tr>\n",
       "<tr><td>74</td><td>4U 1700-377</td><td>21.19563102722168</td><td>255.9771270751953</td><td>-37.83724594116211</td><td>-32768</td><td>2</td><td>0</td><td>0.0002800000074785203</td></tr>\n",
       "<tr><td>77</td><td>GX 349+2</td><td>13.917550086975098</td><td>256.42901611328125</td><td>-36.41566467285156</td><td>-32768</td><td>2</td><td>0</td><td>0.0002800000074785203</td></tr>\n",
       "<tr><td>130</td><td>GX 354-0</td><td>8.97690486907959</td><td>262.9885559082031</td><td>-33.82877731323242</td><td>-32768</td><td>2</td><td>0</td><td>0.0002800000074785203</td></tr>\n",
       "</table></div>"
      ],
      "text/plain": [
       "<Table length=4>\n",
       "meta_ID  src_names      significance    ...  FLAG        ERR_RAD        \n",
       "                                        ...                             \n",
       " int64     str12          float64       ... int64        float64        \n",
       "------- ------------ ------------------ ... ----- ----------------------\n",
       "     68 OAO 1657-415 17.827661514282227 ...     0 0.00014000000373926014\n",
       "     74  4U 1700-377  21.19563102722168 ...     0  0.0002800000074785203\n",
       "     77     GX 349+2 13.917550086975098 ...     0  0.0002800000074785203\n",
       "    130     GX 354-0   8.97690486907959 ...     0  0.0002800000074785203"
      ]
     },
     "execution_count": 13,
     "metadata": {},
     "output_type": "execute_result"
    }
   ],
   "source": [
    "data_collection.dispatcher_catalog_1.table"
   ]
  },
  {
   "cell_type": "markdown",
   "metadata": {},
   "source": [
    "you can use astropy.table commands to modify the table of the catatlog http://docs.astropy.org/en/stable/table/modify_table.html"
   ]
  },
  {
   "cell_type": "markdown",
   "metadata": {},
   "source": [
    "to generate a catalog to pass to the dispatcher api"
   ]
  },
  {
   "cell_type": "code",
   "execution_count": 14,
   "metadata": {},
   "outputs": [],
   "source": [
    "api_cat=data_collection.dispatcher_catalog_1.get_api_dictionary()"
   ]
  },
  {
   "cell_type": "code",
   "execution_count": 15,
   "metadata": {},
   "outputs": [
    {
     "data": {
      "text/plain": [
       "'{\"cat_frame\": \"fk5\", \"cat_coord_units\": \"deg\", \"cat_column_list\": [[68, 74, 77, 130], [\"OAO 1657-415\", \"4U 1700-377\", \"GX 349+2\", \"GX 354-0\"], [17.827661514282227, 21.19563102722168, 13.917550086975098, 8.97690486907959], [255.19740295410156, 255.9771270751953, 256.42901611328125, 262.9885559082031], [-41.653175354003906, -37.83724594116211, -36.41566467285156, -33.82877731323242], [-32768, -32768, -32768, -32768], [2, 2, 2, 2], [0, 0, 0, 0], [0.00014000000373926014, 0.0002800000074785203, 0.0002800000074785203, 0.0002800000074785203]], \"cat_column_names\": [\"meta_ID\", \"src_names\", \"significance\", \"ra\", \"dec\", \"NEW_SOURCE\", \"ISGRI_FLAG\", \"FLAG\", \"ERR_RAD\"], \"cat_column_descr\": [[\"meta_ID\", \"<i8\"], [\"src_names\", \"<U12\"], [\"significance\", \"<f8\"], [\"ra\", \"<f8\"], [\"dec\", \"<f8\"], [\"NEW_SOURCE\", \"<i8\"], [\"ISGRI_FLAG\", \"<i8\"], [\"FLAG\", \"<i8\"], [\"ERR_RAD\", \"<f8\"]], \"cat_lat_name\": \"dec\", \"cat_lon_name\": \"ra\"}'"
      ]
     },
     "execution_count": 15,
     "metadata": {},
     "output_type": "execute_result"
    }
   ],
   "source": [
    "api_cat"
   ]
  },
  {
   "cell_type": "code",
   "execution_count": 16,
   "metadata": {},
   "outputs": [],
   "source": [
    "data_collection=disp.get_product(instrument='isgri',\n",
    "                              product='isgri_image',\n",
    "                              T1='2003-03-15T23:27:40.0',\n",
    "                              T2='2003-03-16T00:03:15.0',\n",
    "                              E1_keV=20.0,\n",
    "                              E2_keV=40.0,\n",
    "                              osa_version='OSA10.2',\n",
    "                              RA=255.986542,\n",
    "                              DEC=-37.844167,\n",
    "                              detection_threshold=5.0,\n",
    "                              radius=15.,\n",
    "                              product_type='Real',\n",
    "                              selected_catalog=api_cat)"
   ]
  },
  {
   "cell_type": "markdown",
   "metadata": {},
   "source": [
    "you can explore the image with the following command"
   ]
  },
  {
   "cell_type": "code",
   "execution_count": 17,
   "metadata": {},
   "outputs": [
    {
     "name": "stdout",
     "output_type": "stream",
     "text": [
      "------------------------------\n",
      "name: mosaic_image\n",
      "meta_data dict_keys(['product', 'instrument', 'src_name', 'query_parameters'])\n",
      "number of data units 6\n",
      "------------------------------\n",
      "data uniti 0 ,name: PRIMARY\n",
      "data uniti 1 ,name: GROUPING\n",
      "data uniti 2 ,name: ISGR-MOSA-IMA\n",
      "data uniti 3 ,name: ISGR-MOSA-IMA\n",
      "data uniti 4 ,name: ISGR-MOSA-IMA\n",
      "data uniti 5 ,name: ISGR-MOSA-IMA\n"
     ]
    }
   ],
   "source": [
    "data_collection.mosaic_image_0_mosaic.show()"
   ]
  },
  {
   "cell_type": "code",
   "execution_count": 18,
   "metadata": {},
   "outputs": [
    {
     "name": "stdout",
     "output_type": "stream",
     "text": [
      "------------------------------\n",
      "product : mosaic\n",
      "instrument : isgri\n",
      "src_name : \n",
      "query_parameters : [{\"query_name\": \"isgri_image_query\"}, {\"product_name\": \"isgri_image_query\"}, {\"name\": \"detection_threshold\", \"units\": \"sigma\", \"value\": \"5.0\"}, {\"name\": \"image_scale_min\", \"units\": None, \"value\": None}, {\"name\": \"image_scale_max\", \"units\": None, \"value\": None}]\n",
      "------------------------------\n"
     ]
    }
   ],
   "source": [
    "data_collection.mosaic_image_0_mosaic.show_meta()"
   ]
  },
  {
   "cell_type": "code",
   "execution_count": 19,
   "metadata": {},
   "outputs": [
    {
     "data": {
      "text/plain": [
       "FITS_rec([('IMAGE', 'ISGR-MOSA-IMA', 1, 3, '', '', 'INTENSITY',     20,     40, 20., 30., 40., 1169.97884473, 1169.99724527, 1589., 1587.05859375),\n",
       "          ('IMAGE', 'ISGR-MOSA-IMA', 2, 4, '', '', 'VARIANCE',     20,     40, 20., 30., 40., 1169.97884473, 1169.99724527, 1589., 1587.05859375),\n",
       "          ('IMAGE', 'ISGR-MOSA-IMA', 3, 5, '', '', 'SIGNIFICANCE',     20,     40, 20., 30., 40., 1169.97884473, 1169.99724527, 1589., 1587.05859375),\n",
       "          ('IMAGE', 'ISGR-MOSA-IMA', 4, 6, '', '', 'EXPOSURE',     20,     40, 20., 30., 40., 1169.97884473, 1169.99724527, 1589., 1587.05859375)],\n",
       "         dtype=(numpy.record, [('MEMBER_XTENSION', 'S8'), ('MEMBER_NAME', 'S32'), ('MEMBER_VERSION', '>i4'), ('MEMBER_POSITION', '>i4'), ('MEMBER_LOCATION', 'S256'), ('MEMBER_URI_TYPE', 'S3'), ('IMATYPE', 'S32'), ('CHANMIN', '>i2'), ('CHANMAX', '>i2'), ('E_MIN', '>f4'), ('E_MEAN', '>f4'), ('E_MAX', '>f4'), ('TFIRST', '>f8'), ('TLAST', '>f8'), ('TELAPSE', '>f8'), ('ONTIME', '>f8')]))"
      ]
     },
     "execution_count": 19,
     "metadata": {},
     "output_type": "execute_result"
    }
   ],
   "source": [
    "data_collection.mosaic_image_0_mosaic.data_unit[1].data"
   ]
  },
  {
   "cell_type": "code",
   "execution_count": 20,
   "metadata": {},
   "outputs": [],
   "source": [
    "hdu=data_collection.mosaic_image_0_mosaic.to_fits_hdu_list()"
   ]
  },
  {
   "cell_type": "code",
   "execution_count": 21,
   "metadata": {},
   "outputs": [
    {
     "data": {
      "text/plain": [
       "(4,)"
      ]
     },
     "execution_count": 21,
     "metadata": {},
     "output_type": "execute_result"
    }
   ],
   "source": [
    "data_collection.mosaic_image_0_mosaic.data_unit[1].data.shape"
   ]
  },
  {
   "cell_type": "code",
   "execution_count": 22,
   "metadata": {},
   "outputs": [],
   "source": [
    "data_collection.mosaic_image_0_mosaic.write_fits_file('test.fits',overwrite=True)"
   ]
  },
  {
   "cell_type": "markdown",
   "metadata": {},
   "source": [
    "### the ODA Image   plotting tool"
   ]
  },
  {
   "cell_type": "code",
   "execution_count": 23,
   "metadata": {},
   "outputs": [],
   "source": [
    "#interactive\n",
    "#%matplotlib notebook\n",
    "\n",
    "%matplotlib inline\n",
    "im=OdaImage(data_collection.mosaic_image_0_mosaic)"
   ]
  },
  {
   "cell_type": "code",
   "execution_count": 24,
   "metadata": {},
   "outputs": [
    {
     "data": {
      "image/png": "[encoded data removed]",
      "text/plain": [
       "<Figure size 576x432 with 3 Axes>"
      ]
     },
     "metadata": {
      "needs_background": "light"
     },
     "output_type": "display_data"
    }
   ],
   "source": [
    "im.show(unit_ID=4)"
   ]
  },
  {
   "cell_type": "code",
   "execution_count": 25,
   "metadata": {},
   "outputs": [
    {
     "data": {
      "text/plain": [
       "{'BASETYPE': 'DAL_GROUP',\n",
       " 'BITPIX': 8,\n",
       " 'CHECKSUM': '59K3A7H157H1A7H1',\n",
       " 'COMMENT': '  on the next keyword which has the name CONTINUE.',\n",
       " 'CONFIGUR': 'osa_2019-07-29T14:07:33',\n",
       " 'CREATOR': 'ii_skyimage 5.4.4',\n",
       " 'DATASUM': '910507346',\n",
       " 'DATE': '2021-09-01T13:14:08',\n",
       " 'DATE-END': '2003-03-15T23:57:39',\n",
       " 'DATE-OBS': '2003-03-15T23:27:53',\n",
       " 'DETNAM': 'ISGRI',\n",
       " 'EXTNAME': 'GROUPING',\n",
       " 'EXTREL': '7.2',\n",
       " 'EXTVER': 1,\n",
       " 'GCOUNT': 1,\n",
       " 'GRPID1': -1,\n",
       " 'GRPLC1': 'ogg.fits',\n",
       " 'GRPNAME': 'ISGR-MOSA-IMA-IDX',\n",
       " 'IDXMEMBR': 'ISGR-MOSA-IMA',\n",
       " 'INSTRUME': 'IBIS',\n",
       " 'ISDCLEVL': 'IMA',\n",
       " 'LONGSTRN': 'OGIP 1.0',\n",
       " 'MJDREF': 51544.0,\n",
       " 'NAXIS': 2,\n",
       " 'NAXIS1': 387,\n",
       " 'NAXIS2': 4,\n",
       " 'ORIGIN': 'ISDC',\n",
       " 'PCOUNT': 0,\n",
       " 'STAMP': '2021-09-01T13:14:08 ii_skyimage 5.4.4',\n",
       " 'TELESCOP': 'INTEGRAL',\n",
       " 'TFIELDS': 16,\n",
       " 'TFORM1': '8A',\n",
       " 'TFORM10': '1E',\n",
       " 'TFORM11': '1E',\n",
       " 'TFORM12': '1E',\n",
       " 'TFORM13': '1D',\n",
       " 'TFORM14': '1D',\n",
       " 'TFORM15': '1D',\n",
       " 'TFORM16': '1D',\n",
       " 'TFORM2': '32A',\n",
       " 'TFORM3': '1J',\n",
       " 'TFORM4': '1J',\n",
       " 'TFORM5': '256A',\n",
       " 'TFORM6': '3A',\n",
       " 'TFORM7': '32A',\n",
       " 'TFORM8': '1I',\n",
       " 'TFORM9': '1I',\n",
       " 'TIMEREF': 'LOCAL',\n",
       " 'TIMESYS': 'TT',\n",
       " 'TIMEUNIT': 'd',\n",
       " 'TNULL3': 0,\n",
       " 'TNULL4': 0,\n",
       " 'TSCAL8': 1,\n",
       " 'TSCAL9': 1,\n",
       " 'TSTART': 1169.97844975867,\n",
       " 'TSTOP': 1169.99912106495,\n",
       " 'TTYPE1': 'MEMBER_XTENSION',\n",
       " 'TTYPE10': 'E_MIN',\n",
       " 'TTYPE11': 'E_MEAN',\n",
       " 'TTYPE12': 'E_MAX',\n",
       " 'TTYPE13': 'TFIRST',\n",
       " 'TTYPE14': 'TLAST',\n",
       " 'TTYPE15': 'TELAPSE',\n",
       " 'TTYPE16': 'ONTIME',\n",
       " 'TTYPE2': 'MEMBER_NAME',\n",
       " 'TTYPE3': 'MEMBER_VERSION',\n",
       " 'TTYPE4': 'MEMBER_POSITION',\n",
       " 'TTYPE5': 'MEMBER_LOCATION',\n",
       " 'TTYPE6': 'MEMBER_URI_TYPE',\n",
       " 'TTYPE7': 'IMATYPE',\n",
       " 'TTYPE8': 'CHANMIN',\n",
       " 'TTYPE9': 'CHANMAX',\n",
       " 'TUNIT10': 'keV',\n",
       " 'TUNIT11': 'keV',\n",
       " 'TUNIT12': 'keV',\n",
       " 'TUNIT13': 'd',\n",
       " 'TUNIT14': 'd',\n",
       " 'TUNIT15': 's',\n",
       " 'TUNIT16': 's',\n",
       " 'TZERO8': 32768,\n",
       " 'TZERO9': 32768,\n",
       " 'XTENSION': 'BINTABLE'}"
      ]
     },
     "execution_count": 25,
     "metadata": {},
     "output_type": "execute_result"
    }
   ],
   "source": [
    "data_collection.mosaic_image_0_mosaic.data_unit[1].header"
   ]
  },
  {
   "cell_type": "markdown",
   "metadata": {},
   "source": [
    "### the ODA LC  plotting tool"
   ]
  },
  {
   "cell_type": "code",
   "execution_count": 26,
   "metadata": {
    "scrolled": false
   },
   "outputs": [],
   "source": [
    "data_collection=disp.get_product(instrument='isgri',\n",
    "                      product='isgri_lc',\n",
    "                      T1='2003-03-15T23:27:40.0',\n",
    "                      T2='2003-03-16T00:03:12.0',\n",
    "                      time_bin=70,\n",
    "                      osa_version='OSA10.2',\n",
    "                      RA=255.986542,\n",
    "                      DEC=-37.844167,\n",
    "                      radius=15.,\n",
    "                      product_type='Real')"
   ]
  },
  {
   "cell_type": "markdown",
   "metadata": {},
   "source": [
    "### explore LC"
   ]
  },
  {
   "cell_type": "code",
   "execution_count": 27,
   "metadata": {},
   "outputs": [
    {
     "name": "stdout",
     "output_type": "stream",
     "text": [
      "ID=0 prod_name=isgri_lc_0_OAO1657m415  meta_data: {'src_name': 'OAO 1657-415', 'time_bin': 0.000810143479094966, 'time': 'TIME', 'rate': 'RATE', 'rate_err': 'ERROR'}\n",
      "\n",
      "ID=1 prod_name=isgri_lc_1_4U1700m377  meta_data: {'src_name': '4U 1700-377', 'time_bin': 0.000810143479094966, 'time': 'TIME', 'rate': 'RATE', 'rate_err': 'ERROR'}\n",
      "\n",
      "ID=2 prod_name=isgri_lc_2_GX349p2  meta_data: {'src_name': 'GX 349+2', 'time_bin': 0.000810143479094966, 'time': 'TIME', 'rate': 'RATE', 'rate_err': 'ERROR'}\n",
      "\n",
      "ID=3 prod_name=isgri_lc_3_H1705m440  meta_data: {'src_name': 'H 1705-440', 'time_bin': 0.000810143479094966, 'time': 'TIME', 'rate': 'RATE', 'rate_err': 'ERROR'}\n",
      "\n",
      "ID=4 prod_name=isgri_lc_4_GX354m0  meta_data: {'src_name': 'GX 354-0', 'time_bin': 0.000810143479094966, 'time': 'TIME', 'rate': 'RATE', 'rate_err': 'ERROR'}\n",
      "\n",
      "ID=5 prod_name=isgri_lc_5_GX1p4  meta_data: {'src_name': 'GX 1+4', 'time_bin': 0.000810143479094966, 'time': 'TIME', 'rate': 'RATE', 'rate_err': 'ERROR'}\n",
      "\n"
     ]
    }
   ],
   "source": [
    "data_collection.show()"
   ]
  },
  {
   "cell_type": "code",
   "execution_count": 28,
   "metadata": {},
   "outputs": [
    {
     "name": "stdout",
     "output_type": "stream",
     "text": [
      "------------------------------\n",
      "name: isgri_lc\n",
      "meta_data dict_keys(['src_name', 'time_bin', 'time', 'rate', 'rate_err'])\n",
      "number of data units 2\n",
      "------------------------------\n",
      "data uniti 0 ,name: PRIMARY\n",
      "data uniti 1 ,name: ISGR-SRC.-LCR\n"
     ]
    }
   ],
   "source": [
    "data_collection.isgri_lc_2_GX349p2.show()"
   ]
  },
  {
   "cell_type": "code",
   "execution_count": 29,
   "metadata": {},
   "outputs": [
    {
     "name": "stdout",
     "output_type": "stream",
     "text": [
      "0 OAO 1657-415\n",
      "1 4U 1700-377\n",
      "2 GX 349+2\n",
      "3 H 1705-440\n",
      "4 GX 354-0\n",
      "5 GX 1+4\n"
     ]
    }
   ],
   "source": [
    "for ID,s in enumerate(data_collection._p_list):\n",
    "    print (ID,s.meta_data['src_name'])"
   ]
  },
  {
   "cell_type": "code",
   "execution_count": 30,
   "metadata": {},
   "outputs": [
    {
     "data": {
      "text/plain": [
       "array([(1169.97924981, 189.06061, 208.61382 , 3.0928352, 36.32327 , 8.367494 , 0.9999995, 0.00040507, 0.00081014),\n",
       "       (1169.98006   , 184.00623, 128.52094 , 3.0739527, 44.749542, 8.25954  , 0.9999995, 0.00040507, 0.00081014),\n",
       "       (1169.98087017, 156.61322, 107.2609  , 2.7437818, 19.096039, 7.5178704, 0.9999995, 0.00040507, 0.00081014),\n",
       "       (1169.98168037, 160.68495, 113.83268 , 2.8039339, 19.251225, 7.650763 , 0.9999995, 0.00040507, 0.00081014),\n",
       "       (1169.98249057, 169.17253, 113.41755 , 2.8749352, 25.947037, 7.839797 , 0.9999995, 0.00040507, 0.00081014),\n",
       "       (1169.98330074, 161.08427, 107.967094, 2.8938215, 23.221224, 7.6593533, 0.9999995, 0.00040507, 0.00081014),\n",
       "       (1169.98411092, 168.77126, 117.82072 , 2.8845947, 31.26426 , 7.8425374, 0.9999995, 0.00040507, 0.00081014),\n",
       "       (1169.98492112, 160.38077, 115.27191 , 2.942873 , 25.611507, 7.637102 , 0.9999995, 0.00040507, 0.00081014),\n",
       "       (1169.9857313 , 159.43456, 114.650406, 2.8541234, 25.057646, 7.6175227, 0.9999995, 0.00040507, 0.00081014),\n",
       "       (1169.98654149, 154.47977, 101.08613 , 2.791371 , 32.808315, 7.4923277, 0.9999995, 0.00040507, 0.00081014),\n",
       "       (1169.98735168, 150.6925 , 102.68129 , 2.76442  , 22.8526  , 7.3896174, 0.9999995, 0.00040507, 0.00081014),\n",
       "       (1169.98816182, 146.80734, 100.66747 , 2.6543057, 46.189266, 7.3128138, 0.9980645, 0.00040507, 0.00081014),\n",
       "       (1169.98897204, 148.31848, 105.12519 , 2.8063016, 30.23531 , 7.36563  , 0.9999995, 0.00040507, 0.00081014),\n",
       "       (1169.98978224, 151.88261, 106.98407 , 2.8313267, 20.044998, 7.464697 , 0.9999995, 0.00040507, 0.00081014),\n",
       "       (1169.9905924 , 193.02788, 135.57555 , 3.1867957, 18.478785, 8.478564 , 0.9987744, 0.00040507, 0.00081014),\n",
       "       (1169.9914026 , 176.79617, 122.84473 , 3.1522508, 30.608587, 8.218244 , 0.9656138, 0.00040507, 0.00081014),\n",
       "       (1169.99221276, 165.54268, 118.42887 , 2.8857293, 35.064762, 7.792433 , 0.9999995, 0.00040507, 0.00081014),\n",
       "       (1169.99302296, 155.6777 , 107.725555, 2.7923737, 30.44729 , 7.5125117, 0.9999995, 0.00040507, 0.00081014),\n",
       "       (1169.99383313, 153.74835, 109.006096, 2.8350844, 41.316975, 7.4837537, 0.9999995, 0.00040507, 0.00081014),\n",
       "       (1169.99464334, 152.44218, 100.14908 , 2.7715   , 36.908443, 7.4560814, 0.9983044, 0.00040507, 0.00081014),\n",
       "       (1169.99545352, 152.91246, 107.17616 , 2.7963147, 35.36147 , 7.4534373, 0.9999995, 0.00040507, 0.00081014),\n",
       "       (1169.99626372, 154.3732 , 103.014656, 2.7716458, 27.397203, 7.483038 , 0.9999995, 0.00040507, 0.00081014),\n",
       "       (1169.99695709, 157.10977, 109.46534 , 3.3767562, 40.66689 , 8.954308 , 0.9999995, 0.0002883 , 0.00057659)],\n",
       "      dtype=[('TIME', '>f8'), ('TOT_COUNTS', '>f4'), ('BACKV', '>f4'), ('BACKE', '>f4'), ('RATE', '>f4'), ('ERROR', '>f4'), ('FRACEXP', '>f4'), ('XAX_E', '>f4'), ('TIMEDEL', '<f8')])"
      ]
     },
     "execution_count": 30,
     "metadata": {},
     "output_type": "execute_result"
    }
   ],
   "source": [
    "lc=data_collection._p_list[0]\n",
    "lc.data_unit[1].data"
   ]
  },
  {
   "cell_type": "code",
   "execution_count": 31,
   "metadata": {},
   "outputs": [
    {
     "name": "stdout",
     "output_type": "stream",
     "text": [
      "------------------------------\n",
      "name: isgri_lc\n",
      "meta_data dict_keys(['src_name', 'time_bin', 'time', 'rate', 'rate_err'])\n",
      "number of data units 2\n",
      "------------------------------\n",
      "data uniti 0 ,name: PRIMARY\n",
      "data uniti 1 ,name: ISGR-SRC.-LCR\n"
     ]
    }
   ],
   "source": [
    "lc.show()"
   ]
  },
  {
   "cell_type": "code",
   "execution_count": 32,
   "metadata": {},
   "outputs": [
    {
     "data": {
      "text/plain": [
       "{'src_name': 'OAO 1657-415',\n",
       " 'time_bin': 0.000810143479094966,\n",
       " 'time': 'TIME',\n",
       " 'rate': 'RATE',\n",
       " 'rate_err': 'ERROR'}"
      ]
     },
     "execution_count": 32,
     "metadata": {},
     "output_type": "execute_result"
    }
   ],
   "source": [
    "lc.meta_data"
   ]
  },
  {
   "cell_type": "code",
   "execution_count": 33,
   "metadata": {},
   "outputs": [
    {
     "data": {
      "image/png": "[encoded data removed]",
      "text/plain": [
       "<Figure size 576x432 with 1 Axes>"
      ]
     },
     "metadata": {
      "needs_background": "light"
     },
     "output_type": "display_data"
    }
   ],
   "source": [
    "%matplotlib inline\n",
    "OdaLightCurve(lc).show(unit_ID=1)"
   ]
  },
  {
   "cell_type": "code",
   "execution_count": 34,
   "metadata": {},
   "outputs": [
    {
     "data": {
      "text/plain": [
       "{'BITPIX': 8, 'EXTEND': True, 'NAXIS': 0, 'SIMPLE': True}"
      ]
     },
     "execution_count": 34,
     "metadata": {},
     "output_type": "execute_result"
    }
   ],
   "source": [
    "lc.data_unit[0].header"
   ]
  },
  {
   "cell_type": "markdown",
   "metadata": {},
   "source": [
    "### Polar LC"
   ]
  },
  {
   "cell_type": "code",
   "execution_count": 35,
   "metadata": {},
   "outputs": [],
   "source": [
    "data_collection=disp.get_product(instrument='polar',product='polar_lc',T1='2016-12-18T08:32:21.000',T2='2016-12-18T08:34:01.000',time_bin=0.5,verbose=True)"
   ]
  },
  {
   "cell_type": "code",
   "execution_count": 36,
   "metadata": {},
   "outputs": [
    {
     "name": "stdout",
     "output_type": "stream",
     "text": [
      "ID=0 prod_name=polar_lc_0_lc  meta_data: {'src_name': 'lc', 'time_bin': 0.5, 'time': 'time', 'rate': 'rate', 'rate_err': 'rate_err'}\n",
      "\n",
      "ID=1 prod_name=polar_lc_1  meta_data: \n",
      "\n"
     ]
    }
   ],
   "source": [
    "data_collection.show()"
   ]
  },
  {
   "cell_type": "code",
   "execution_count": 37,
   "metadata": {},
   "outputs": [
    {
     "data": {
      "text/plain": [
       "{'src_name': 'lc',\n",
       " 'time_bin': 0.5,\n",
       " 'time': 'time',\n",
       " 'rate': 'rate',\n",
       " 'rate_err': 'rate_err'}"
      ]
     },
     "execution_count": 37,
     "metadata": {},
     "output_type": "execute_result"
    }
   ],
   "source": [
    "data_collection._p_list[0].meta_data"
   ]
  },
  {
   "cell_type": "code",
   "execution_count": 38,
   "metadata": {},
   "outputs": [
    {
     "data": {
      "text/plain": [
       "5022"
      ]
     },
     "execution_count": 38,
     "metadata": {},
     "output_type": "execute_result"
    }
   ],
   "source": [
    "lc=data_collection._p_list[0]\n",
    "root=data_collection._p_list[1]\n",
    "open('lc.root', \"wb\").write(root)"
   ]
  },
  {
   "cell_type": "code",
   "execution_count": 39,
   "metadata": {},
   "outputs": [
    {
     "data": {
      "text/plain": [
       "5022"
      ]
     },
     "execution_count": 39,
     "metadata": {},
     "output_type": "execute_result"
    }
   ],
   "source": [
    " open('lc.root', \"wb\").write(root)"
   ]
  },
  {
   "cell_type": "code",
   "execution_count": 40,
   "metadata": {},
   "outputs": [
    {
     "data": {
      "image/png": "[encoded data removed]",
      "text/plain": [
       "<Figure size 576x432 with 1 Axes>"
      ]
     },
     "metadata": {
      "needs_background": "light"
     },
     "output_type": "display_data"
    }
   ],
   "source": [
    "%matplotlib inline\n",
    "OdaLightCurve(lc).show(unit_ID=1)"
   ]
  },
  {
   "cell_type": "markdown",
   "metadata": {},
   "source": [
    "### SPIACS LC"
   ]
  },
  {
   "cell_type": "code",
   "execution_count": 41,
   "metadata": {},
   "outputs": [
    {
     "data": {
      "text/plain": [
       "[[{'instrumet': 'spi_acs'},\n",
       "  {'prod_dict': {'spi_acs_lc': 'spi_acs_lc_query'}},\n",
       "  '[{\"query_name\": \"src_query\"}, {\"name\": \"src_name\", \"units\": \"str\", \"value\": \"test\"}, {\"name\": \"RA\", \"units\": \"deg\", \"value\": 0.0}, {\"name\": \"DEC\", \"units\": \"deg\", \"value\": 0.0}, {\"name\": \"T1\", \"units\": None, \"value\": \"2001-12-11T00:00:00.000\"}, {\"name\": \"T2\", \"units\": None, \"value\": \"2001-12-11T00:00:00.000\"}, {\"name\": \"token\", \"units\": \"str\", \"value\": None}]',\n",
       "  '[{\"query_name\": \"spiacs_parameters\"}, {\"name\": \"user_catalog\", \"units\": \"str\", \"value\": None}, {\"name\": None, \"units\": \"names_list\", \"value\": []}, {\"name\": \"selected_catalog\", \"units\": \"str\", \"value\": None}]',\n",
       "  '[{\"query_name\": \"spi_acs_lc_query\"}, {\"product_name\": \"spi_acs_lc\"}, {\"name\": \"time_bin\", \"units\": \"sec\", \"value\": 1000.0}]']]"
      ]
     },
     "execution_count": 41,
     "metadata": {},
     "output_type": "execute_result"
    }
   ],
   "source": [
    "disp.get_instrument_description('spi_acs')"
   ]
  },
  {
   "cell_type": "code",
   "execution_count": 42,
   "metadata": {},
   "outputs": [],
   "source": [
    "data_collection=disp.get_product(instrument='spi_acs',\n",
    "                      product='spi_acs_lc',\n",
    "                      T1='2003-03-15T23:27:40.0',\n",
    "                      T2='2003-03-15T23:57:12.0',\n",
    "                      time_bin=2,\n",
    "                      RA=255.986542,\n",
    "                      DEC=-37.844167,\n",
    "                      product_type='Real')"
   ]
  },
  {
   "cell_type": "code",
   "execution_count": 43,
   "metadata": {},
   "outputs": [
    {
     "name": "stdout",
     "output_type": "stream",
     "text": [
      "ID=0 prod_name=spi_acs_lc_0_query  meta_data: {'src_name': 'query', 'time_bin': 2.0, 'time': 'TIME', 'rate': 'RATE', 'rate_err': 'ERROR'}\n",
      "\n"
     ]
    }
   ],
   "source": [
    "data_collection.show()"
   ]
  },
  {
   "cell_type": "code",
   "execution_count": 44,
   "metadata": {},
   "outputs": [],
   "source": [
    "lc=data_collection._p_list[0]\n"
   ]
  },
  {
   "cell_type": "code",
   "execution_count": 45,
   "metadata": {},
   "outputs": [
    {
     "data": {
      "text/plain": [
       "{'src_name': 'query',\n",
       " 'time_bin': 2.0,\n",
       " 'time': 'TIME',\n",
       " 'rate': 'RATE',\n",
       " 'rate_err': 'ERROR'}"
      ]
     },
     "execution_count": 45,
     "metadata": {},
     "output_type": "execute_result"
    }
   ],
   "source": [
    "lc.meta_data"
   ]
  },
  {
   "cell_type": "code",
   "execution_count": 46,
   "metadata": {},
   "outputs": [
    {
     "name": "stdout",
     "output_type": "stream",
     "text": [
      "------------------------------\n",
      "name: \n",
      "meta_data dict_keys(['src_name', 'time_bin', 'time', 'rate', 'rate_err'])\n",
      "number of data units 2\n",
      "------------------------------\n",
      "data uniti 0 ,name: Primary\n",
      "data uniti 1 ,name: RATE\n"
     ]
    }
   ],
   "source": [
    "lc.show()"
   ]
  },
  {
   "cell_type": "code",
   "execution_count": 47,
   "metadata": {},
   "outputs": [
    {
     "data": {
      "text/plain": [
       "{'BITPIX': 8,\n",
       " 'DATE-END': '2003-03-15T23:28:44.216',\n",
       " 'DATE-OBS': '2003-03-15T23:28:44.216',\n",
       " 'EXTNAME': 'RATE',\n",
       " 'GCOUNT': 1,\n",
       " 'INSTRUME': 'SPI-ACS',\n",
       " 'MJDREF': 51544.0,\n",
       " 'NAXIS': 2,\n",
       " 'NAXIS1': 24,\n",
       " 'NAXIS2': 886,\n",
       " 'ONTIME': 1772.0008558046072,\n",
       " 'PCOUNT': 0,\n",
       " 'TASSIGN': 'SATELLITE',\n",
       " 'TELESCOP': 'INTEGRAL',\n",
       " 'TFIELDS': 3,\n",
       " 'TFORM1': 'D',\n",
       " 'TFORM2': 'D',\n",
       " 'TFORM3': 'D',\n",
       " 'TIMEDEL': 2.0,\n",
       " 'TIMEREF': 'LOCAL',\n",
       " 'TIMESYS': 'TT',\n",
       " 'TIMEUNIT': 's',\n",
       " 'TIMEZERO': 101087010.19105513,\n",
       " 'TSTART': 101086124.21562724,\n",
       " 'TSTOP': 101087896.21648304,\n",
       " 'TTYPE1': 'TIME',\n",
       " 'TTYPE2': 'RATE',\n",
       " 'TTYPE3': 'ERROR',\n",
       " 'XTENSION': 'BINTABLE'}"
      ]
     },
     "execution_count": 47,
     "metadata": {},
     "output_type": "execute_result"
    }
   ],
   "source": [
    "lc.data_unit[1].header"
   ]
  },
  {
   "cell_type": "code",
   "execution_count": 48,
   "metadata": {
    "scrolled": true
   },
   "outputs": [
    {
     "data": {
      "text/plain": [
       "array([(-885.00042667, 1515580., 870.51134398),\n",
       "       (-883.00042573, 1509680., 868.81528532),\n",
       "       (-881.00042474, 1523800., 872.86883322),\n",
       "       (-879.00042396, 1513890., 870.02586168),\n",
       "       (-877.00042318, 1506440., 867.88248052),\n",
       "       (-875.00042222, 1520350., 871.88015231),\n",
       "       (-873.0004213 , 1510580., 869.07422008),\n",
       "       (-871.00042036, 1516300., 870.71809445),\n",
       "       (-869.00041942, 1526480., 873.63607984),\n",
       "       (-867.00041848, 1508970., 868.6109601 )],\n",
       "      dtype=[('TIME', '<f8'), ('RATE', '<f8'), ('ERROR', '<f8')])"
      ]
     },
     "execution_count": 48,
     "metadata": {},
     "output_type": "execute_result"
    }
   ],
   "source": [
    "lc.data_unit[1].data[0:10]"
   ]
  },
  {
   "cell_type": "code",
   "execution_count": 49,
   "metadata": {},
   "outputs": [
    {
     "data": {
      "image/png": "[encoded data removed]",
      "text/plain": [
       "<Figure size 576x432 with 1 Axes>"
      ]
     },
     "metadata": {
      "needs_background": "light"
     },
     "output_type": "display_data"
    }
   ],
   "source": [
    "OdaLightCurve(lc).show(unit_ID=1)"
   ]
  },
  {
   "cell_type": "markdown",
   "metadata": {},
   "source": [
    "### the ODA  and spectra"
   ]
  },
  {
   "cell_type": "code",
   "execution_count": 50,
   "metadata": {
    "scrolled": false
   },
   "outputs": [],
   "source": [
    "data_collection=disp.get_product(instrument='isgri',\n",
    "                      product='isgri_spectrum',\n",
    "                      T1='2003-03-15T23:27:40.0',\n",
    "                      T2='2003-03-16T00:03:12.0',\n",
    "                      osa_version='OSA10.2',\n",
    "                      RA=255.986542,\n",
    "                      DEC=-37.844167,\n",
    "                      radius=15.,\n",
    "                      product_type='Real')"
   ]
  },
  {
   "cell_type": "markdown",
   "metadata": {},
   "source": [
    "### explore spectra"
   ]
  },
  {
   "cell_type": "code",
   "execution_count": 51,
   "metadata": {
    "scrolled": false
   },
   "outputs": [
    {
     "name": "stdout",
     "output_type": "stream",
     "text": [
      "ID=0 prod_name=isgri_spectrum_0_OAO1657m415_isgri_spectrum  meta_data: {'src_name': 'OAO 1657-415', 'product': 'isgri_spectrum'}\n",
      "\n",
      "ID=1 prod_name=isgri_spectrum_1_OAO1657m415_isgri_arf  meta_data: {'src_name': 'OAO 1657-415', 'product': 'isgri_arf'}\n",
      "\n",
      "ID=2 prod_name=isgri_spectrum_2_OAO1657m415_isgri_rmf  meta_data: {'src_name': 'OAO 1657-415', 'product': 'isgri_rmf'}\n",
      "\n",
      "ID=3 prod_name=isgri_spectrum_3_4U1700m377_isgri_spectrum  meta_data: {'src_name': '4U 1700-377', 'product': 'isgri_spectrum'}\n",
      "\n",
      "ID=4 prod_name=isgri_spectrum_4_4U1700m377_isgri_arf  meta_data: {'src_name': '4U 1700-377', 'product': 'isgri_arf'}\n",
      "\n",
      "ID=5 prod_name=isgri_spectrum_5_4U1700m377_isgri_rmf  meta_data: {'src_name': '4U 1700-377', 'product': 'isgri_rmf'}\n",
      "\n",
      "ID=6 prod_name=isgri_spectrum_6_GX349p2_isgri_spectrum  meta_data: {'src_name': 'GX 349+2', 'product': 'isgri_spectrum'}\n",
      "\n",
      "ID=7 prod_name=isgri_spectrum_7_GX349p2_isgri_arf  meta_data: {'src_name': 'GX 349+2', 'product': 'isgri_arf'}\n",
      "\n",
      "ID=8 prod_name=isgri_spectrum_8_GX349p2_isgri_rmf  meta_data: {'src_name': 'GX 349+2', 'product': 'isgri_rmf'}\n",
      "\n",
      "ID=9 prod_name=isgri_spectrum_9_H1705m440_isgri_spectrum  meta_data: {'src_name': 'H 1705-440', 'product': 'isgri_spectrum'}\n",
      "\n",
      "ID=10 prod_name=isgri_spectrum_10_H1705m440_isgri_arf  meta_data: {'src_name': 'H 1705-440', 'product': 'isgri_arf'}\n",
      "\n",
      "ID=11 prod_name=isgri_spectrum_11_H1705m440_isgri_rmf  meta_data: {'src_name': 'H 1705-440', 'product': 'isgri_rmf'}\n",
      "\n",
      "ID=12 prod_name=isgri_spectrum_12_GX354m0_isgri_spectrum  meta_data: {'src_name': 'GX 354-0', 'product': 'isgri_spectrum'}\n",
      "\n",
      "ID=13 prod_name=isgri_spectrum_13_GX354m0_isgri_arf  meta_data: {'src_name': 'GX 354-0', 'product': 'isgri_arf'}\n",
      "\n",
      "ID=14 prod_name=isgri_spectrum_14_GX354m0_isgri_rmf  meta_data: {'src_name': 'GX 354-0', 'product': 'isgri_rmf'}\n",
      "\n",
      "ID=15 prod_name=isgri_spectrum_15_GX1p4_isgri_spectrum  meta_data: {'src_name': 'GX 1+4', 'product': 'isgri_spectrum'}\n",
      "\n",
      "ID=16 prod_name=isgri_spectrum_16_GX1p4_isgri_arf  meta_data: {'src_name': 'GX 1+4', 'product': 'isgri_arf'}\n",
      "\n",
      "ID=17 prod_name=isgri_spectrum_17_GX1p4_isgri_rmf  meta_data: {'src_name': 'GX 1+4', 'product': 'isgri_rmf'}\n",
      "\n",
      "ID=18 prod_name=isgri_spectrum_18_Background_isgri_spectrum  meta_data: {'src_name': 'Background', 'product': 'isgri_spectrum'}\n",
      "\n",
      "ID=19 prod_name=isgri_spectrum_19_Background_isgri_arf  meta_data: {'src_name': 'Background', 'product': 'isgri_arf'}\n",
      "\n",
      "ID=20 prod_name=isgri_spectrum_20_Background_isgri_rmf  meta_data: {'src_name': 'Background', 'product': 'isgri_rmf'}\n",
      "\n"
     ]
    }
   ],
   "source": [
    "data_collection.show()"
   ]
  },
  {
   "cell_type": "code",
   "execution_count": 52,
   "metadata": {
    "scrolled": false
   },
   "outputs": [],
   "source": [
    "d=data_collection._p_list[0]"
   ]
  },
  {
   "cell_type": "code",
   "execution_count": 53,
   "metadata": {},
   "outputs": [
    {
     "data": {
      "text/plain": [
       "{'src_name': 'OAO 1657-415', 'product': 'isgri_spectrum'}"
      ]
     },
     "execution_count": 53,
     "metadata": {},
     "output_type": "execute_result"
    }
   ],
   "source": [
    "d.meta_data"
   ]
  },
  {
   "cell_type": "markdown",
   "metadata": {},
   "source": [
    "we can select all the products for the same soruce name and build a new data collection on-the-fly with a single instruction"
   ]
  },
  {
   "cell_type": "code",
   "execution_count": 54,
   "metadata": {
    "scrolled": false
   },
   "outputs": [],
   "source": [
    "data_sel=data_collection.new_from_metadata('src_name','4U 1700-377')\n"
   ]
  },
  {
   "cell_type": "code",
   "execution_count": 55,
   "metadata": {},
   "outputs": [
    {
     "name": "stdout",
     "output_type": "stream",
     "text": [
      "ID=0 prod_name=prod_0_4U1700m377_isgri_spectrum  meta_data: {'src_name': '4U 1700-377', 'product': 'isgri_spectrum'}\n",
      "\n",
      "ID=1 prod_name=prod_1_4U1700m377_isgri_arf  meta_data: {'src_name': '4U 1700-377', 'product': 'isgri_arf'}\n",
      "\n",
      "ID=2 prod_name=prod_2_4U1700m377_isgri_rmf  meta_data: {'src_name': '4U 1700-377', 'product': 'isgri_rmf'}\n",
      "\n"
     ]
    }
   ],
   "source": [
    "data_sel.show()\n"
   ]
  },
  {
   "cell_type": "markdown",
   "metadata": {},
   "source": [
    "and we can save all these products "
   ]
  },
  {
   "cell_type": "code",
   "execution_count": 56,
   "metadata": {},
   "outputs": [],
   "source": [
    "data_sel.save_all_data()"
   ]
  },
  {
   "cell_type": "code",
   "execution_count": 57,
   "metadata": {},
   "outputs": [],
   "source": [
    "d=data_collection._p_list[3]"
   ]
  },
  {
   "cell_type": "code",
   "execution_count": 58,
   "metadata": {},
   "outputs": [
    {
     "data": {
      "text/plain": [
       "{'ANCRFILE': 'NONE',\n",
       " 'AREASCAL': 1,\n",
       " 'BACKFILE': 'NONE',\n",
       " 'BACKSCAL': 1,\n",
       " 'BASETYPE': 'DAL_TABLE',\n",
       " 'BITPIX': 8,\n",
       " 'BKGPARAM': 'rebinned_back_spe.fits',\n",
       " 'CHANTYPE': 'PI',\n",
       " 'CHECKSUM': '9kKSIjKQ9jKQGjKQ',\n",
       " 'COMMENT': '  on the next keyword which has the name CONTINUE.',\n",
       " 'CONFIGUR': 'osa_2019-07-29T14:07:33',\n",
       " 'CORRFILE': 'NONE',\n",
       " 'CORRSCAL': 0,\n",
       " 'CREATOR': 'ISGRISpectraSum.v5.4.2.3.extractall',\n",
       " 'DATASUM': '2445425117',\n",
       " 'DATE': '2021-09-01T13:26:15.942451',\n",
       " 'DEADC': 0.775885283090927,\n",
       " 'DEC_OBJ': -37.8394165039062,\n",
       " 'DETCHANS': 62,\n",
       " 'DETNAM': 'ISGRI',\n",
       " 'EQUINOX': 2000.0,\n",
       " 'EXPOSURE': 1198.97207125461,\n",
       " 'EXP_SRC': 610.283081054688,\n",
       " 'EXTNAME': 'ISGR-EVTS-SPE',\n",
       " 'EXTREL': '10.4',\n",
       " 'EXTVER': 2,\n",
       " 'FILTER': 'none',\n",
       " 'FITTYPE': 6,\n",
       " 'GCOUNT': 1,\n",
       " 'GRPID1': 1,\n",
       " 'HDUCLAS1': 'SPECTRUM',\n",
       " 'HDUCLAS2': 'TOTAL',\n",
       " 'HDUCLAS3': 'RATE',\n",
       " 'HDUCLASS': 'OGIP',\n",
       " 'HDUVERS': '1.2.1',\n",
       " 'INSTRUME': 'IBIS',\n",
       " 'ISDCLEVL': 'SPE',\n",
       " 'LONGSTRN': 'OGIP 1.0',\n",
       " 'MJDREF': 51544.0,\n",
       " 'NAME': '4U 1700-377',\n",
       " 'NAXIS': 2,\n",
       " 'NAXIS1': 18,\n",
       " 'NAXIS2': 62,\n",
       " 'OFFCORR': 'rebinned_corr_spe.fits',\n",
       " 'ONTIME': 1587.05859375,\n",
       " 'ORIGIN': 'ISDC',\n",
       " 'PCOUNT': 0,\n",
       " 'RADECSYS': 'FK5',\n",
       " 'RA_OBJ': 255.984405517578,\n",
       " 'RESPFILE': 'NONE',\n",
       " 'REVOL': 51,\n",
       " 'SOURCEID': 'J170356.8-375039',\n",
       " 'STAMP': '',\n",
       " 'SW_TYPE': 'POINTING',\n",
       " 'TELAPSE': 1589.0,\n",
       " 'TELESCOP': 'INTEGRAL',\n",
       " 'TFIELDS': 6,\n",
       " 'TFORM1': '1I',\n",
       " 'TFORM2': '1E',\n",
       " 'TFORM3': '1E',\n",
       " 'TFORM4': '1E',\n",
       " 'TFORM5': '1I',\n",
       " 'TFORM6': '1I',\n",
       " 'TIMEREF': 'LOCAL',\n",
       " 'TIMESYS': 'TT',\n",
       " 'TIMEUNIT': 'd',\n",
       " 'TLMAX1': 61,\n",
       " 'TLMIN1': 0,\n",
       " 'TSTART': 1169.97844975867,\n",
       " 'TSTOP': 1169.99912106495,\n",
       " 'TTYPE1': 'CHANNEL',\n",
       " 'TTYPE2': 'RATE',\n",
       " 'TTYPE3': 'SYS_ERR',\n",
       " 'TTYPE4': 'STAT_ERR',\n",
       " 'TTYPE5': 'QUALITY',\n",
       " 'TTYPE6': 'GROUPING',\n",
       " 'TUNIT2': 'count/s',\n",
       " 'TUNIT3': '',\n",
       " 'TUNIT4': 'count/s',\n",
       " 'XTENSION': 'BINTABLE'}"
      ]
     },
     "execution_count": 58,
     "metadata": {},
     "output_type": "execute_result"
    }
   ],
   "source": [
    "d.data_unit[1].header"
   ]
  },
  {
   "cell_type": "markdown",
   "metadata": {},
   "source": [
    "### JEM-X test"
   ]
  },
  {
   "cell_type": "code",
   "execution_count": 59,
   "metadata": {},
   "outputs": [
    {
     "data": {
      "text/plain": [
       "[[{'instrumet': 'jemx'},\n",
       "  {'prod_dict': {'jemx_image': 'jemx_image_query',\n",
       "    'jemx_lc': 'jemx_lc_query',\n",
       "    'jemx_spectrum': 'jemx_spectrum_query',\n",
       "    'spectral_fit': 'spectral_fit_query'}},\n",
       "  '[{\"query_name\": \"src_query\"}, {\"name\": \"src_name\", \"units\": \"str\", \"value\": \"test\"}, {\"name\": \"RA\", \"units\": \"deg\", \"value\": 0.0}, {\"name\": \"DEC\", \"units\": \"deg\", \"value\": 0.0}, {\"name\": \"T1\", \"units\": None, \"value\": \"2001-12-11T00:00:00.000\"}, {\"name\": \"T2\", \"units\": None, \"value\": \"2001-12-11T00:00:00.000\"}, {\"name\": \"token\", \"units\": \"str\", \"value\": None}]',\n",
       "  '[{\"query_name\": \"jemx_parameters\"}, {\"name\": \"user_catalog\", \"units\": \"str\", \"value\": None}, {\"name\": \"scw_list\", \"units\": \"names_list\", \"value\": []}, {\"name\": \"selected_catalog\", \"units\": \"str\", \"value\": None}, {\"name\": \"radius\", \"units\": \"deg\", \"value\": 5.0}, {\"name\": \"max_pointings\", \"units\": None, \"value\": 50}, {\"name\": \"osa_version\", \"units\": \"str\", \"value\": None}, {\"name\": \"integral_data_rights\", \"units\": \"str\", \"value\": \"public\"}, {\"name\": \"jemx_num\", \"units\": None, \"value\": 2}, {\"name\": \"E1_keV\", \"units\": \"keV\", \"value\": 3.0}, {\"name\": \"E2_keV\", \"units\": \"keV\", \"value\": 35.0}]',\n",
       "  '[{\"query_name\": \"jemx_image_query\"}, {\"product_name\": \"jemx_image\"}, {\"name\": \"detection_threshold\", \"units\": \"sigma\", \"value\": 0.0}, {\"name\": \"image_scale_min\", \"units\": None, \"value\": None}, {\"name\": \"image_scale_max\", \"units\": None, \"value\": None}]',\n",
       "  '[{\"query_name\": \"jemx_spectrum_query\"}, {\"product_name\": \"jemx_spectrum\"}]',\n",
       "  '[{\"query_name\": \"spectral_fit_query\"}, {\"product_name\": \"spectral_fit\"}, {\"name\": \"xspec_model\", \"units\": \"str\", \"value\": \"powerlaw\"}, {\"name\": \"ph_file_name\", \"units\": \"str\", \"value\": \"\"}, {\"name\": \"arf_file_name\", \"units\": \"str\", \"value\": \"\"}, {\"name\": \"rmf_file_name\", \"units\": \"str\", \"value\": \"\"}]',\n",
       "  '[{\"query_name\": \"jemx_lc_query\"}, {\"product_name\": \"jemx_lc\"}, {\"name\": \"time_bin\", \"units\": \"sec\", \"value\": 1000.0}]']]"
      ]
     },
     "execution_count": 59,
     "metadata": {},
     "output_type": "execute_result"
    }
   ],
   "source": [
    "disp.get_instrument_description('jemx')"
   ]
  },
  {
   "cell_type": "code",
   "execution_count": 60,
   "metadata": {},
   "outputs": [],
   "source": [
    "data_collection=disp.get_product(instrument='jemx',\n",
    "                      jemx_num='2',\n",
    "                      product='jemx_lc',\n",
    "                      scw_list=['010200230010.001'],\n",
    "                      osa_version='OSA10.2',\n",
    "                      radius=15.,\n",
    "                      product_type='Real')"
   ]
  },
  {
   "cell_type": "code",
   "execution_count": 61,
   "metadata": {
    "scrolled": false
   },
   "outputs": [
    {
     "name": "stdout",
     "output_type": "stream",
     "text": [
      "ID=0 prod_name=jemx_lc_0_String  meta_data: {'src_name': 'String', 'time_bin': 0.01157407, 'time': 'TIME', 'rate': 'RATE', 'rate_err': 'ERROR'}\n",
      "\n"
     ]
    }
   ],
   "source": [
    "data_collection.show()"
   ]
  },
  {
   "cell_type": "code",
   "execution_count": 62,
   "metadata": {},
   "outputs": [],
   "source": [
    "data_collection=disp.get_product(instrument='jemx',\n",
    "                      jemx_num='2',\n",
    "                      product='jemx_spectrum',\n",
    "                      scw_list=['010200230010.001'],\n",
    "                      osa_version='OSA10.2',\n",
    "                      radius=15.,\n",
    "                      product_type='Real')"
   ]
  },
  {
   "cell_type": "code",
   "execution_count": 63,
   "metadata": {},
   "outputs": [
    {
     "name": "stdout",
     "output_type": "stream",
     "text": [
      "ID=0 prod_name=jemx_spectrum_0_Crab_jemx_spectrum  meta_data: {'src_name': 'Crab', 'product': 'jemx_spectrum'}\n",
      "\n",
      "ID=1 prod_name=jemx_spectrum_1_Crab_jemx_arf  meta_data: {'src_name': 'Crab', 'product': 'jemx_arf'}\n",
      "\n",
      "ID=2 prod_name=jemx_spectrum_2_Crab_jemx_rmf  meta_data: {'src_name': 'Crab', 'product': 'jemx_rmf'}\n",
      "\n"
     ]
    }
   ],
   "source": [
    "data_collection.show()"
   ]
  },
  {
   "cell_type": "markdown",
   "metadata": {},
   "source": [
    "# This is an example of spectral analysis with threeML"
   ]
  },
  {
   "cell_type": "code",
   "execution_count": 64,
   "metadata": {},
   "outputs": [
    {
     "name": "stdout",
     "output_type": "stream",
     "text": [
      "[\u001b[35mWARNING \u001b[0m]\u001b[35m The naima package is not available. Models that depend on it will not be available\u001b[0m\n",
      "[\u001b[35mWARNING \u001b[0m]\u001b[35m The GSL library or the pygsl wrapper cannot be loaded. Models that depend on it will not be available.\u001b[0m\n",
      "[\u001b[35mWARNING \u001b[0m]\u001b[35m The ebltable package is not available. Models that depend on it will not be available\u001b[0m\n",
      "[\u001b[32mINFO    \u001b[0m]\u001b[32m Starting 3ML!\u001b[0m\n",
      "[\u001b[35mWARNING \u001b[0m]\u001b[35m ROOT minimizer not available\u001b[0m\n",
      "[\u001b[35mWARNING \u001b[0m]\u001b[35m PyGMO is not available\u001b[0m\n",
      "[\u001b[35mWARNING \u001b[0m]\u001b[35m The cthreeML package is not installed. You will not be able to use plugins which require the C/C++ interface (currently HAWC)\u001b[0m\n",
      "[\u001b[35mWARNING \u001b[0m]\u001b[35m Could not import plugin FermiLATLike.py. Do you have the relative instrument software installed and configured?\u001b[0m\n",
      "[\u001b[35mWARNING \u001b[0m]\u001b[35m Could not import plugin HAWCLike.py. Do you have the relative instrument software installed and configured?\u001b[0m\n"
     ]
    }
   ],
   "source": [
    "from threeML.plugins.OGIPLike import  OGIPLike\n",
    "from threeML.io.package_data import get_path_of_data_file\n",
    "from threeML import *\n",
    "#warnings.filterwarnings('ignore')\n",
    "%matplotlib inline\n",
    "import matplotlib.pylab as plt"
   ]
  },
  {
   "cell_type": "code",
   "execution_count": 65,
   "metadata": {},
   "outputs": [
    {
     "name": "stdout",
     "output_type": "stream",
     "text": [
      "[\u001b[35mWARNING \u001b[0m]\u001b[35m unable to find SPECTRUM extension: not OGIP PHA!\u001b[0m\n",
      "[\u001b[35mWARNING \u001b[0m]\u001b[35m File has no SPECTRUM extension, but found a spectrum in extension ISGR-EVTS-SPE\u001b[0m\n",
      "[\u001b[35mWARNING \u001b[0m]\u001b[35m Found TSTOP and TELAPSE. This file is invalid. Using TSTOP.\u001b[0m\n",
      "[\u001b[35mWARNING \u001b[0m]\u001b[35m POISSERR is not set. Assuming non-poisson errors as given in the STAT_ERR column\u001b[0m\n",
      "[\u001b[35mWARNING \u001b[0m]\u001b[35m The default choice for MATRIX extension failed:KeyError(\"Extension ('MATRIX', 1) not found.\")available: 'PRIMARY' 'GROUPING' 'SPECRESP MATRIX' 'EBOUNDS'\u001b[0m\n",
      "[\u001b[32mINFO    \u001b[0m]\u001b[32m Auto-probed noise models:\u001b[0m\n",
      "[\u001b[32mINFO    \u001b[0m]\u001b[32m - observation: gaussian\u001b[0m\n",
      "[\u001b[32mINFO    \u001b[0m]\u001b[32m - background: None\u001b[0m\n"
     ]
    }
   ],
   "source": [
    "ogip_data = OGIPLike('ogip',\n",
    "                     observation='prod_0_4U1700m377_isgri_spectrum.fits',\n",
    "                     arf_file= 'prod_1_4U1700m377_isgri_arf.fits' ,\n",
    "                     response= 'prod_2_4U1700m377_isgri_rmf.fits')"
   ]
  },
  {
   "cell_type": "code",
   "execution_count": 66,
   "metadata": {},
   "outputs": [
    {
     "name": "stdout",
     "output_type": "stream",
     "text": [
      "[\u001b[32mINFO    \u001b[0m]\u001b[32m Range 20-60 translates to channels 7-24\u001b[0m\n"
     ]
    }
   ],
   "source": [
    "ogip_data.set_active_measurements('20-60')\n"
   ]
  },
  {
   "cell_type": "code",
   "execution_count": 67,
   "metadata": {},
   "outputs": [
    {
     "name": "stdout",
     "output_type": "stream",
     "text": [
      "[\u001b[32mINFO    \u001b[0m]\u001b[32m bad channels shown in red hatching\n",
      "\u001b[0m\n"
     ]
    },
    {
     "name": "stderr",
     "output_type": "stream",
     "text": [
      "\n",
      "WARNING RuntimeWarning: invalid value encountered in sqrt\n",
      "\n",
      "\n",
      "WARNING UserWarning: Attempted to set non-positive bottom ylim on a log-scaled axis.\n",
      "Invalid limit will be ignored.\n",
      "\n"
     ]
    },
    {
     "data": {
      "text/plain": [
       "(1e-05, 10)"
      ]
     },
     "execution_count": 67,
     "metadata": {},
     "output_type": "execute_result"
    },
    {
     "data": {
      "image/png": "[encoded data removed]",
      "text/plain": [
       "<Figure size 432x288 with 1 Axes>"
      ]
     },
     "metadata": {
      "needs_background": "light"
     },
     "output_type": "display_data"
    }
   ],
   "source": [
    "ogip_data.view_count_spectrum()\n",
    "plt.ylim(1E-5,10)\n"
   ]
  },
  {
   "cell_type": "code",
   "execution_count": 68,
   "metadata": {},
   "outputs": [
    {
     "name": "stdout",
     "output_type": "stream",
     "text": [
      "[\u001b[32mINFO    \u001b[0m]\u001b[32m set the minimizer to minuit\u001b[0m\n",
      "[\u001b[35mWARNING \u001b[0m]\u001b[35m 4.22 percent of samples have been thrown away because they failed the constraints on the parameters. This results might not be suitable for error propagation. Enlarge the boundaries until you loose less than 1 percent of the samples.\u001b[0m\n",
      "Best fit values:\n",
      "\n"
     ]
    },
    {
     "data": {
      "text/html": [
       "<div>\n",
       "<style scoped>\n",
       "    .dataframe tbody tr th:only-of-type {\n",
       "        vertical-align: middle;\n",
       "    }\n",
       "\n",
       "    .dataframe tbody tr th {\n",
       "        vertical-align: top;\n",
       "    }\n",
       "\n",
       "    .dataframe thead th {\n",
       "        text-align: right;\n",
       "    }\n",
       "</style>\n",
       "<table border=\"1\" class=\"dataframe\">\n",
       "  <thead>\n",
       "    <tr style=\"text-align: right;\">\n",
       "      <th></th>\n",
       "      <th>result</th>\n",
       "      <th>unit</th>\n",
       "    </tr>\n",
       "    <tr>\n",
       "      <th>parameter</th>\n",
       "      <th></th>\n",
       "      <th></th>\n",
       "    </tr>\n",
       "  </thead>\n",
       "  <tbody>\n",
       "    <tr>\n",
       "      <th>ps.spectrum.main.Cutoff_powerlaw.K</th>\n",
       "      <td>0.005 -0.005 +4</td>\n",
       "      <td>1 / (cm2 keV s)</td>\n",
       "    </tr>\n",
       "    <tr>\n",
       "      <th>ps.spectrum.main.Cutoff_powerlaw.index</th>\n",
       "      <td>0.2 +/- 2.8</td>\n",
       "      <td></td>\n",
       "    </tr>\n",
       "    <tr>\n",
       "      <th>ps.spectrum.main.Cutoff_powerlaw.xc</th>\n",
       "      <td>(1.1 -0.7 +1.7) x 10</td>\n",
       "      <td>keV</td>\n",
       "    </tr>\n",
       "  </tbody>\n",
       "</table>\n",
       "</div>"
      ],
      "text/plain": [
       "                                                      result             unit\n",
       "parameter                                                                    \n",
       "ps.spectrum.main.Cutoff_powerlaw.K           0.005 -0.005 +4  1 / (cm2 keV s)\n",
       "ps.spectrum.main.Cutoff_powerlaw.index           0.2 +/- 2.8                 \n",
       "ps.spectrum.main.Cutoff_powerlaw.xc     (1.1 -0.7 +1.7) x 10              keV"
      ]
     },
     "metadata": {},
     "output_type": "display_data"
    },
    {
     "name": "stdout",
     "output_type": "stream",
     "text": [
      "\n",
      "Correlation matrix:\n",
      "\n"
     ]
    },
    {
     "data": {
      "text/html": [
       "<div><table id=\"table140002367086496\">\n",
       "<tr><td>1.00</td><td>-1.00</td><td>0.99</td></tr>\n",
       "<tr><td>-1.00</td><td>1.00</td><td>-1.00</td></tr>\n",
       "<tr><td>0.99</td><td>-1.00</td><td>1.00</td></tr>\n",
       "</table></div>"
      ],
      "text/plain": [
       " 1.00 -1.00  0.99\n",
       "-1.00  1.00 -1.00\n",
       " 0.99 -1.00  1.00"
      ]
     },
     "metadata": {},
     "output_type": "display_data"
    },
    {
     "name": "stdout",
     "output_type": "stream",
     "text": [
      "\n",
      "Values of -log(likelihood) at the minimum:\n",
      "\n"
     ]
    },
    {
     "data": {
      "text/html": [
       "<div>\n",
       "<style scoped>\n",
       "    .dataframe tbody tr th:only-of-type {\n",
       "        vertical-align: middle;\n",
       "    }\n",
       "\n",
       "    .dataframe tbody tr th {\n",
       "        vertical-align: top;\n",
       "    }\n",
       "\n",
       "    .dataframe thead th {\n",
       "        text-align: right;\n",
       "    }\n",
       "</style>\n",
       "<table border=\"1\" class=\"dataframe\">\n",
       "  <thead>\n",
       "    <tr style=\"text-align: right;\">\n",
       "      <th></th>\n",
       "      <th>-log(likelihood)</th>\n",
       "    </tr>\n",
       "  </thead>\n",
       "  <tbody>\n",
       "    <tr>\n",
       "      <th>ogip</th>\n",
       "      <td>4.390866</td>\n",
       "    </tr>\n",
       "    <tr>\n",
       "      <th>total</th>\n",
       "      <td>4.390866</td>\n",
       "    </tr>\n",
       "  </tbody>\n",
       "</table>\n",
       "</div>"
      ],
      "text/plain": [
       "       -log(likelihood)\n",
       "ogip           4.390866\n",
       "total          4.390866"
      ]
     },
     "metadata": {},
     "output_type": "display_data"
    },
    {
     "name": "stdout",
     "output_type": "stream",
     "text": [
      "\n",
      "Values of statistical measures:\n",
      "\n"
     ]
    },
    {
     "data": {
      "text/html": [
       "<div>\n",
       "<style scoped>\n",
       "    .dataframe tbody tr th:only-of-type {\n",
       "        vertical-align: middle;\n",
       "    }\n",
       "\n",
       "    .dataframe tbody tr th {\n",
       "        vertical-align: top;\n",
       "    }\n",
       "\n",
       "    .dataframe thead th {\n",
       "        text-align: right;\n",
       "    }\n",
       "</style>\n",
       "<table border=\"1\" class=\"dataframe\">\n",
       "  <thead>\n",
       "    <tr style=\"text-align: right;\">\n",
       "      <th></th>\n",
       "      <th>statistical measures</th>\n",
       "    </tr>\n",
       "  </thead>\n",
       "  <tbody>\n",
       "    <tr>\n",
       "      <th>AIC</th>\n",
       "      <td>16.496017</td>\n",
       "    </tr>\n",
       "    <tr>\n",
       "      <th>BIC</th>\n",
       "      <td>17.452847</td>\n",
       "    </tr>\n",
       "  </tbody>\n",
       "</table>\n",
       "</div>"
      ],
      "text/plain": [
       "     statistical measures\n",
       "AIC             16.496017\n",
       "BIC             17.452847"
      ]
     },
     "metadata": {},
     "output_type": "display_data"
    }
   ],
   "source": [
    "fit_function = Cutoff_powerlaw()\n",
    "\n",
    "# define the point source\n",
    "point_source = PointSource('ps', 0, 0, spectral_shape=fit_function)\n",
    "\n",
    "#define the model\n",
    "model = Model(point_source)\n",
    "\n",
    "# create a data list\n",
    "datalist = DataList(ogip_data)\n",
    "\n",
    "# make the joint likelihood\n",
    "jl = JointLikelihood(model, datalist)\n",
    "\n",
    "#fit\n",
    "jl.fit();"
   ]
  },
  {
   "cell_type": "code",
   "execution_count": 69,
   "metadata": {},
   "outputs": [
    {
     "name": "stderr",
     "output_type": "stream",
     "text": [
      "\n",
      "WARNING MatplotlibDeprecationWarning: The 'nonposy' parameter of __init__() has been renamed 'nonpositive' since Matplotlib 3.3; support for the old name will be dropped two minor releases later.\n",
      "\n"
     ]
    },
    {
     "data": {
      "image/png": "[encoded data removed]",
      "text/plain": [
       "<Figure size 432x288 with 2 Axes>"
      ]
     },
     "metadata": {
      "needs_background": "light"
     },
     "output_type": "display_data"
    }
   ],
   "source": [
    "display_spectrum_model_counts(jl, step=True);\n"
   ]
  },
  {
   "cell_type": "code",
   "execution_count": 70,
   "metadata": {},
   "outputs": [
    {
     "name": "stdout",
     "output_type": "stream",
     "text": [
      "[\u001b[31mERROR   \u001b[0m]\u001b[31m plot_point_source_spectra() has been replaced by plot_spectra().\u001b[0m\n"
     ]
    },
    {
     "data": {
      "application/vnd.jupyter.widget-view+json": {
       "model_id": "a9cde05b33a44910b16cb3dee73a3075",
       "version_major": 2,
       "version_minor": 0
      },
      "text/plain": [
       "processing MLE analyses:   0%|                            | 0/1 [00:00<?, ?it/s]"
      ]
     },
     "metadata": {},
     "output_type": "display_data"
    },
    {
     "data": {
      "application/vnd.jupyter.widget-view+json": {
       "model_id": "2f37aff3e774477ea98cb1f17f7631ed",
       "version_major": 2,
       "version_minor": 0
      },
      "text/plain": [
       "Propagating errors:   0%|                               | 0/100 [00:00<?, ?it/s]"
      ]
     },
     "metadata": {},
     "output_type": "display_data"
    },
    {
     "data": {
      "image/png": "[encoded data removed]",
      "text/plain": [
       "<Figure size 432x288 with 1 Axes>"
      ]
     },
     "execution_count": 70,
     "metadata": {},
     "output_type": "execute_result"
    },
    {
     "data": {
      "image/png": "[encoded data removed]",
      "text/plain": [
       "<Figure size 432x288 with 1 Axes>"
      ]
     },
     "metadata": {
      "needs_background": "light"
     },
     "output_type": "display_data"
    }
   ],
   "source": [
    "plot_point_source_spectra(jl.results, ene_min=20, ene_max=60, num_ene=100,\n",
    "                          flux_unit='erg / (cm2 s)')"
   ]
  },
  {
   "cell_type": "code",
   "execution_count": 71,
   "metadata": {},
   "outputs": [
    {
     "data": {
      "text/html": [
       "Model summary:<br><br><div>\n",
       "<style scoped>\n",
       "    .dataframe tbody tr th:only-of-type {\n",
       "        vertical-align: middle;\n",
       "    }\n",
       "\n",
       "    .dataframe tbody tr th {\n",
       "        vertical-align: top;\n",
       "    }\n",
       "\n",
       "    .dataframe thead th {\n",
       "        text-align: right;\n",
       "    }\n",
       "</style>\n",
       "<table border=\"1\" class=\"dataframe\">\n",
       "  <thead>\n",
       "    <tr style=\"text-align: right;\">\n",
       "      <th></th>\n",
       "      <th>N</th>\n",
       "    </tr>\n",
       "  </thead>\n",
       "  <tbody>\n",
       "    <tr>\n",
       "      <th>Point sources</th>\n",
       "      <td>1</td>\n",
       "    </tr>\n",
       "    <tr>\n",
       "      <th>Extended sources</th>\n",
       "      <td>0</td>\n",
       "    </tr>\n",
       "    <tr>\n",
       "      <th>Particle sources</th>\n",
       "      <td>0</td>\n",
       "    </tr>\n",
       "  </tbody>\n",
       "</table>\n",
       "</div><br><br>Free parameters (3):<br><br><div>\n",
       "<style scoped>\n",
       "    .dataframe tbody tr th:only-of-type {\n",
       "        vertical-align: middle;\n",
       "    }\n",
       "\n",
       "    .dataframe tbody tr th {\n",
       "        vertical-align: top;\n",
       "    }\n",
       "\n",
       "    .dataframe thead th {\n",
       "        text-align: right;\n",
       "    }\n",
       "</style>\n",
       "<table border=\"1\" class=\"dataframe\">\n",
       "  <thead>\n",
       "    <tr style=\"text-align: right;\">\n",
       "      <th></th>\n",
       "      <th>value</th>\n",
       "      <th>min_value</th>\n",
       "      <th>max_value</th>\n",
       "      <th>unit</th>\n",
       "    </tr>\n",
       "  </thead>\n",
       "  <tbody>\n",
       "    <tr>\n",
       "      <th>ps.spectrum.main.Cutoff_powerlaw.K</th>\n",
       "      <td>0.005445</td>\n",
       "      <td>0.0</td>\n",
       "      <td>1000.0</td>\n",
       "      <td>keV-1 s-1 cm-2</td>\n",
       "    </tr>\n",
       "    <tr>\n",
       "      <th>ps.spectrum.main.Cutoff_powerlaw.index</th>\n",
       "      <td>0.188702</td>\n",
       "      <td>-10.0</td>\n",
       "      <td>10.0</td>\n",
       "      <td></td>\n",
       "    </tr>\n",
       "    <tr>\n",
       "      <th>ps.spectrum.main.Cutoff_powerlaw.xc</th>\n",
       "      <td>10.82301</td>\n",
       "      <td>1.0</td>\n",
       "      <td>None</td>\n",
       "      <td>keV</td>\n",
       "    </tr>\n",
       "  </tbody>\n",
       "</table>\n",
       "</div><br><br>Fixed parameters (4):<br>(abridged. Use complete=True to see all fixed parameters)<br><br><br>Linked parameters (0):<br><br>(none)<br><br>Independent variables:<br><br>(none)<br>"
      ],
      "text/plain": [
       "Model summary:\n",
       "==============\n",
       "\n",
       "                  N\n",
       "Point sources     1\n",
       "Extended sources  0\n",
       "Particle sources  0\n",
       "\n",
       "Free parameters (3):\n",
       "--------------------\n",
       "\n",
       "                                           value min_value max_value  \\\n",
       "ps.spectrum.main.Cutoff_powerlaw.K      0.005445       0.0    1000.0   \n",
       "ps.spectrum.main.Cutoff_powerlaw.index  0.188702     -10.0      10.0   \n",
       "ps.spectrum.main.Cutoff_powerlaw.xc     10.82301       1.0      None   \n",
       "\n",
       "                                                  unit  \n",
       "ps.spectrum.main.Cutoff_powerlaw.K      keV-1 s-1 cm-2  \n",
       "ps.spectrum.main.Cutoff_powerlaw.index                  \n",
       "ps.spectrum.main.Cutoff_powerlaw.xc                keV  \n",
       "\n",
       "Fixed parameters (4):\n",
       "(abridged. Use complete=True to see all fixed parameters)\n",
       "\n",
       "\n",
       "Linked parameters (0):\n",
       "----------------------\n",
       "\n",
       "(none)\n",
       "\n",
       "Independent variables:\n",
       "----------------------\n",
       "\n",
       "(none)"
      ]
     },
     "metadata": {},
     "output_type": "display_data"
    }
   ],
   "source": [
    "\n",
    "# A uniform prior can be defined directly, like:\n",
    "model.ps.spectrum.main.Cutoff_powerlaw.index.prior = Uniform_prior(lower_bound=-2.,\n",
    "                                                                     upper_bound=2.)\n",
    "\n",
    "# or it can be set using the currently defined boundaries\n",
    "model.ps.spectrum.main.Cutoff_powerlaw.xc.prior=  Log_uniform_prior(lower_bound=1,\n",
    "                                                                     upper_bound=100)\n",
    "\n",
    "\n",
    "# The same for the Log_uniform prior\n",
    "model.ps.spectrum.main.Cutoff_powerlaw.K.prior = Log_uniform_prior(lower_bound=1e-3,\n",
    "                                                                     upper_bound=100)\n",
    "\n",
    "\n",
    "model.display()"
   ]
  },
  {
   "cell_type": "code",
   "execution_count": 72,
   "metadata": {},
   "outputs": [
    {
     "name": "stdout",
     "output_type": "stream",
     "text": [
      "[\u001b[35mWARNING \u001b[0m]\u001b[35m External parameter cons_ogip already exist in the model. Overwriting it...\u001b[0m\n"
     ]
    }
   ],
   "source": [
    "bs = BayesianAnalysis(model, datalist)"
   ]
  },
  {
   "cell_type": "code",
   "execution_count": 73,
   "metadata": {},
   "outputs": [
    {
     "name": "stdout",
     "output_type": "stream",
     "text": [
      "[\u001b[32mINFO    \u001b[0m]\u001b[32m sampler set to multinest\u001b[0m\n",
      " *****************************************************\n",
      " MultiNest v3.10\n",
      " Copyright Farhan Feroz & Mike Hobson\n",
      " Release Jul 2015\n",
      "\n",
      " no. of live points =  500\n",
      " dimensionality =    3\n",
      " *****************************************************\n",
      "  analysing data from chains/fit-.txt ln(ev)=  -11.862533639413844      +/-  0.11122341917410335     \n",
      " Total Likelihood Evaluations:         7493\n",
      " Sampling finished. Exiting MultiNest\n",
      "\n",
      "Maximum a posteriori probability (MAP) point:\n",
      "\n"
     ]
    },
    {
     "data": {
      "text/html": [
       "<div>\n",
       "<style scoped>\n",
       "    .dataframe tbody tr th:only-of-type {\n",
       "        vertical-align: middle;\n",
       "    }\n",
       "\n",
       "    .dataframe tbody tr th {\n",
       "        vertical-align: top;\n",
       "    }\n",
       "\n",
       "    .dataframe thead th {\n",
       "        text-align: right;\n",
       "    }\n",
       "</style>\n",
       "<table border=\"1\" class=\"dataframe\">\n",
       "  <thead>\n",
       "    <tr style=\"text-align: right;\">\n",
       "      <th></th>\n",
       "      <th>result</th>\n",
       "      <th>unit</th>\n",
       "    </tr>\n",
       "    <tr>\n",
       "      <th>parameter</th>\n",
       "      <th></th>\n",
       "      <th></th>\n",
       "    </tr>\n",
       "  </thead>\n",
       "  <tbody>\n",
       "    <tr>\n",
       "      <th>ps.spectrum.main.Cutoff_powerlaw.K</th>\n",
       "      <td>(1.7 -1.7 +2.2) x 10^-1</td>\n",
       "      <td>1 / (cm2 keV s)</td>\n",
       "    </tr>\n",
       "    <tr>\n",
       "      <th>ps.spectrum.main.Cutoff_powerlaw.index</th>\n",
       "      <td>(-6 +/- 10) x 10^-1</td>\n",
       "      <td></td>\n",
       "    </tr>\n",
       "    <tr>\n",
       "      <th>ps.spectrum.main.Cutoff_powerlaw.xc</th>\n",
       "      <td>(1.9 +/- 0.9) x 10</td>\n",
       "      <td>keV</td>\n",
       "    </tr>\n",
       "  </tbody>\n",
       "</table>\n",
       "</div>"
      ],
      "text/plain": [
       "                                                         result  \\\n",
       "parameter                                                         \n",
       "ps.spectrum.main.Cutoff_powerlaw.K      (1.7 -1.7 +2.2) x 10^-1   \n",
       "ps.spectrum.main.Cutoff_powerlaw.index      (-6 +/- 10) x 10^-1   \n",
       "ps.spectrum.main.Cutoff_powerlaw.xc          (1.9 +/- 0.9) x 10   \n",
       "\n",
       "                                                   unit  \n",
       "parameter                                                \n",
       "ps.spectrum.main.Cutoff_powerlaw.K      1 / (cm2 keV s)  \n",
       "ps.spectrum.main.Cutoff_powerlaw.index                   \n",
       "ps.spectrum.main.Cutoff_powerlaw.xc                 keV  "
      ]
     },
     "metadata": {},
     "output_type": "display_data"
    },
    {
     "name": "stdout",
     "output_type": "stream",
     "text": [
      "\n",
      "Values of -log(posterior) at the minimum:\n",
      "\n"
     ]
    },
    {
     "data": {
      "text/html": [
       "<div>\n",
       "<style scoped>\n",
       "    .dataframe tbody tr th:only-of-type {\n",
       "        vertical-align: middle;\n",
       "    }\n",
       "\n",
       "    .dataframe tbody tr th {\n",
       "        vertical-align: top;\n",
       "    }\n",
       "\n",
       "    .dataframe thead th {\n",
       "        text-align: right;\n",
       "    }\n",
       "</style>\n",
       "<table border=\"1\" class=\"dataframe\">\n",
       "  <thead>\n",
       "    <tr style=\"text-align: right;\">\n",
       "      <th></th>\n",
       "      <th>-log(posterior)</th>\n",
       "    </tr>\n",
       "  </thead>\n",
       "  <tbody>\n",
       "    <tr>\n",
       "      <th>ogip</th>\n",
       "      <td>-2.457204</td>\n",
       "    </tr>\n",
       "    <tr>\n",
       "      <th>total</th>\n",
       "      <td>-2.457204</td>\n",
       "    </tr>\n",
       "  </tbody>\n",
       "</table>\n",
       "</div>"
      ],
      "text/plain": [
       "       -log(posterior)\n",
       "ogip         -2.457204\n",
       "total        -2.457204"
      ]
     },
     "metadata": {},
     "output_type": "display_data"
    },
    {
     "name": "stdout",
     "output_type": "stream",
     "text": [
      "\n",
      "Values of statistical measures:\n",
      "\n"
     ]
    },
    {
     "data": {
      "text/html": [
       "<div>\n",
       "<style scoped>\n",
       "    .dataframe tbody tr th:only-of-type {\n",
       "        vertical-align: middle;\n",
       "    }\n",
       "\n",
       "    .dataframe tbody tr th {\n",
       "        vertical-align: top;\n",
       "    }\n",
       "\n",
       "    .dataframe thead th {\n",
       "        text-align: right;\n",
       "    }\n",
       "</style>\n",
       "<table border=\"1\" class=\"dataframe\">\n",
       "  <thead>\n",
       "    <tr style=\"text-align: right;\">\n",
       "      <th></th>\n",
       "      <th>statistical measures</th>\n",
       "    </tr>\n",
       "  </thead>\n",
       "  <tbody>\n",
       "    <tr>\n",
       "      <th>AIC</th>\n",
       "      <td>12.628695</td>\n",
       "    </tr>\n",
       "    <tr>\n",
       "      <th>BIC</th>\n",
       "      <td>13.585524</td>\n",
       "    </tr>\n",
       "    <tr>\n",
       "      <th>DIC</th>\n",
       "      <td>-10870.282000</td>\n",
       "    </tr>\n",
       "    <tr>\n",
       "      <th>PDIC</th>\n",
       "      <td>-10881.214804</td>\n",
       "    </tr>\n",
       "    <tr>\n",
       "      <th>log(Z)</th>\n",
       "      <td>-5.151833</td>\n",
       "    </tr>\n",
       "  </tbody>\n",
       "</table>\n",
       "</div>"
      ],
      "text/plain": [
       "        statistical measures\n",
       "AIC                12.628695\n",
       "BIC                13.585524\n",
       "DIC            -10870.282000\n",
       "PDIC           -10881.214804\n",
       "log(Z)             -5.151833"
      ]
     },
     "metadata": {},
     "output_type": "display_data"
    }
   ],
   "source": [
    "bs.set_sampler(\"multinest\")\n",
    "bs.sampler.setup(n_live_points=500)\n",
    "bs.sample()\n"
   ]
  },
  {
   "cell_type": "code",
   "execution_count": 74,
   "metadata": {},
   "outputs": [
    {
     "name": "stderr",
     "output_type": "stream",
     "text": [
      "\n",
      "WARNING MatplotlibDeprecationWarning: You are modifying the state of a globally registered colormap. This has been deprecated since 3.3 and in 3.6, you will not be able to modify a registered colormap in-place. To remove this warning, you can make a copy of the colormap first. cmap = mpl.cm.get_cmap(\"viridis\").copy()\n",
      "\n"
     ]
    },
    {
     "data": {
      "image/png": "[encoded data removed]",
      "text/plain": [
       "<Figure size 547.2x547.2 with 9 Axes>"
      ]
     },
     "execution_count": 74,
     "metadata": {},
     "output_type": "execute_result"
    },
    {
     "data": {
      "image/png": "[encoded data removed]",
      "text/plain": [
       "<Figure size 547.2x547.2 with 9 Axes>"
      ]
     },
     "metadata": {
      "needs_background": "light"
     },
     "output_type": "display_data"
    }
   ],
   "source": [
    "bs.results.corner_plot()"
   ]
  },
  {
   "cell_type": "code",
   "execution_count": 75,
   "metadata": {},
   "outputs": [
    {
     "name": "stdout",
     "output_type": "stream",
     "text": [
      "[\u001b[31mERROR   \u001b[0m]\u001b[31m plot_point_source_spectra() has been replaced by plot_spectra().\u001b[0m\n"
     ]
    },
    {
     "data": {
      "application/vnd.jupyter.widget-view+json": {
       "model_id": "f7478d4127764fe3a558f796ff25be20",
       "version_major": 2,
       "version_minor": 0
      },
      "text/plain": [
       "processing Bayesian analyses:   0%|                       | 0/1 [00:00<?, ?it/s]"
      ]
     },
     "metadata": {},
     "output_type": "display_data"
    },
    {
     "data": {
      "application/vnd.jupyter.widget-view+json": {
       "model_id": "0676378f9f814734a9e495d12415929a",
       "version_major": 2,
       "version_minor": 0
      },
      "text/plain": [
       "Propagating errors:   0%|                               | 0/100 [00:00<?, ?it/s]"
      ]
     },
     "metadata": {},
     "output_type": "display_data"
    },
    {
     "data": {
      "image/png": "[encoded data removed]",
      "text/plain": [
       "<Figure size 432x288 with 1 Axes>"
      ]
     },
     "execution_count": 75,
     "metadata": {},
     "output_type": "execute_result"
    },
    {
     "data": {
      "image/png": "[encoded data removed]",
      "text/plain": [
       "<Figure size 432x288 with 1 Axes>"
      ]
     },
     "metadata": {
      "needs_background": "light"
     },
     "output_type": "display_data"
    }
   ],
   "source": [
    "plot_point_source_spectra(bs.results, ene_min=20, ene_max=60, num_ene=100,\n",
    "                          flux_unit='erg / (cm2 s)')"
   ]
  },
  {
   "cell_type": "code",
   "execution_count": 76,
   "metadata": {},
   "outputs": [
    {
     "name": "stdout",
     "output_type": "stream",
     "text": [
      "[\u001b[31mERROR   \u001b[0m]\u001b[31m get_point_source_flux() has been replaced by get_flux()\u001b[0m\n"
     ]
    },
    {
     "data": {
      "application/vnd.jupyter.widget-view+json": {
       "model_id": "bf1ddafb506a455ca6037e4bd48d12db",
       "version_major": 2,
       "version_minor": 0
      },
      "text/plain": [
       "processing Bayesian analyses:   0%|                       | 0/1 [00:00<?, ?it/s]"
      ]
     },
     "metadata": {},
     "output_type": "display_data"
    }
   ],
   "source": [
    "fluxes_bs = bs.results.get_point_source_flux(100 * u.keV, 1 * u.MeV)"
   ]
  },
  {
   "cell_type": "code",
   "execution_count": 77,
   "metadata": {},
   "outputs": [
    {
     "data": {
      "text/html": [
       "<div>\n",
       "<style scoped>\n",
       "    .dataframe tbody tr th:only-of-type {\n",
       "        vertical-align: middle;\n",
       "    }\n",
       "\n",
       "    .dataframe tbody tr th {\n",
       "        vertical-align: top;\n",
       "    }\n",
       "\n",
       "    .dataframe thead th {\n",
       "        text-align: right;\n",
       "    }\n",
       "</style>\n",
       "<table border=\"1\" class=\"dataframe\">\n",
       "  <thead>\n",
       "    <tr style=\"text-align: right;\">\n",
       "      <th></th>\n",
       "      <th>flux</th>\n",
       "      <th>low bound</th>\n",
       "      <th>hi bound</th>\n",
       "    </tr>\n",
       "  </thead>\n",
       "  <tbody>\n",
       "    <tr>\n",
       "      <th>ps: total</th>\n",
       "      <td>7.98682085812617e-12 erg / (cm2 s)</td>\n",
       "      <td>2.2496983896203776e-12 erg / (cm2 s)</td>\n",
       "      <td>3.2021187085022926e-11 erg / (cm2 s)</td>\n",
       "    </tr>\n",
       "  </tbody>\n",
       "</table>\n",
       "</div>"
      ],
      "text/plain": [
       "                                         flux  \\\n",
       "ps: total  7.98682085812617e-12 erg / (cm2 s)   \n",
       "\n",
       "                                      low bound  \\\n",
       "ps: total  2.2496983896203776e-12 erg / (cm2 s)   \n",
       "\n",
       "                                       hi bound  \n",
       "ps: total  3.2021187085022926e-11 erg / (cm2 s)  "
      ]
     },
     "execution_count": 77,
     "metadata": {},
     "output_type": "execute_result"
    }
   ],
   "source": [
    "fluxes_bs"
   ]
  }
 ],
 "metadata": {
  "kernel_info": {
   "name": "python2"
  },
  "kernelspec": {
   "display_name": "Python 3 (ipykernel)",
   "language": "python",
   "name": "python3"
  },
  "language_info": {
   "codemirror_mode": {
    "name": "ipython",
    "version": 3
   },
   "file_extension": ".py",
   "mimetype": "text/x-python",
   "name": "python",
   "nbconvert_exporter": "python",
   "pygments_lexer": "ipython3",
   "version": "3.8.10"
  },
  "nteract": {
   "version": "0.15.0"
  }
 },
 "nbformat": 4,
 "nbformat_minor": 2
}
